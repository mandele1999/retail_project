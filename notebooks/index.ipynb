{
 "cells": [
  {
   "cell_type": "code",
   "execution_count": null,
   "metadata": {},
   "outputs": [],
   "source": [
    "# Import libraries\n",
    "import pandas as pd\n",
    "import numpy as np\n",
    "from tabulate import tabulate\n",
    "\n",
    "import matplotlib.pyplot as plt\n",
    "import seaborn as sns\n",
    "sns.set(style=\"whitegrid\")\n",
    "\n",
    "import plotly.express as px\n",
    "import plotly.colors\n",
    "import plotly.io as pio\n",
    "\n",
    "pio.orca.config.save()\n",
    "import plotly.graph_objects as go\n",
    "pio.templates.default = \"plotly_white\"\n",
    "\n",
    "from datetime import datetime\n",
    "import warnings\n",
    "warnings.filterwarnings('ignore')"
   ]
  },
  {
   "cell_type": "markdown",
   "metadata": {},
   "source": [
    "## **1. Load and Prepare Data**"
   ]
  },
  {
   "cell_type": "code",
   "execution_count": null,
   "metadata": {},
   "outputs": [],
   "source": [
    "# Load the dataset with only the specified columns\n",
    "df = pd.read_csv('../data/raw/online_retail.csv' )\n",
    "print(df.shape)\n",
    "df.head(3)"
   ]
  },
  {
   "cell_type": "code",
   "execution_count": null,
   "metadata": {},
   "outputs": [],
   "source": [
    "# Inspect data\n",
    "print(\"\\nDataset Information:\")\n",
    "print(df.info())\n",
    "\n",
    "print(\"\\nDescriptive statistics:\")\n",
    "df.describe()"
   ]
  },
  {
   "cell_type": "markdown",
   "metadata": {},
   "source": [
    "Up to this point, we can spot some columns with invalid values. We have `Quantity`, `UnitPrice` having negative values which can have very damaging effects to our analysis if left unchecked. We can also tell the two columns are very high skew which can be a result of these invalid values. We'll do an inspection of both columns to see what we can uncover.\n",
    "\n",
    "Let's start our preprocessing step by handling the invalid records in our data"
   ]
  },
  {
   "cell_type": "code",
   "execution_count": null,
   "metadata": {},
   "outputs": [],
   "source": [
    "# Filter records with UnitPrice <= 0 or Quantity <= 0\n",
    "invalid_records = df[(df['UnitPrice'] <= 0.009) | (df['Quantity'] <= 0)]\n",
    "\n",
    "# Drop rows that exist in invalid_records\n",
    "df_valid = df[~df.index.isin(invalid_records.index)]"
   ]
  },
  {
   "cell_type": "code",
   "execution_count": null,
   "metadata": {},
   "outputs": [],
   "source": [
    "# Data Cleaning\n",
    "# Checking for missing values\n",
    "print(\"\\nMissing values per column:\")\n",
    "print(df_valid.isnull().sum())\n",
    "df_valid.dropna(inplace=True)\n",
    "\n",
    "# Convert InvoiceDate date to datetime format\n",
    "df_valid['InvoiceDate'] = pd.to_datetime(df_valid['InvoiceDate'])\n",
    "\n",
    "# Split into separate Date and Time columns\n",
    "df_valid['Date'] = df_valid['InvoiceDate'].dt.date    # Extract the date\n",
    "df_valid['Time'] = df_valid['InvoiceDate'].dt.time    # Extract the time\n",
    "\n",
    "# Define the analysis date\n",
    "# Using the day after the latest purchase date in the dataset\n",
    "analysis_date = df_valid['InvoiceDate'].max() + pd.DateOffset(1)\n",
    "print(f\"\\nAnalysis Date (day after the last purchase): {analysis_date}\")\n",
    "\n",
    "# Set UnitPrice columns to 2decimals\n",
    "df_valid['UnitPrice'] = df_valid['UnitPrice'].round(2)\n",
    "\n",
    "# Convert customer id to string\n",
    "df_valid['CustomerID'] = df_valid['CustomerID'].astype(int) # Eliminate the decimal\n",
    "df_valid['CustomerID'] = df_valid['CustomerID'].astype(str)\n",
    "\n",
    "# Create Transaction amount column\n",
    "df_valid['TransactionAmount'] = (df_valid['UnitPrice'] * df_valid['Quantity']).round(2)\n",
    "\n",
    "# Final check on cleaned data\n",
    "print(\"\\nCleaned Dataset Info:\")\n",
    "print(df_valid.info())"
   ]
  },
  {
   "cell_type": "markdown",
   "metadata": {},
   "source": [
    "In the cell above, we've done the following:\n",
    "\n",
    "* Handled invalid entries in columns Quantity & UnitPrice\n",
    "* Dropped null values\n",
    "* Converted InvoiceDate to datetime format and created Date and Time column\n",
    "* Set the analysis date/reference date for Recency measure (1 day after last purchase)\n",
    "* Converted CustomerID column into string format\n",
    "* Added TransactionAmount column\n",
    "\n",
    "**Note**: Why Keep Both Date and Time Columns? (*Incase purposes*)\n",
    "- The Date column allows for broader time-based grouping, such as daily or monthly sales analysis.\n",
    "- The Time column allows for finer-grained analysis, such as identifying peak shopping hours or transaction patterns within a day.\n",
    "\n",
    "We'll perform validation checks on the stubborn columns to confirm the data is exactly how we want it"
   ]
  },
  {
   "cell_type": "code",
   "execution_count": null,
   "metadata": {},
   "outputs": [],
   "source": [
    "df_valid.describe()"
   ]
  },
  {
   "cell_type": "markdown",
   "metadata": {},
   "source": [
    "**Inspecting UnitPrice column**\n",
    "\n",
    "We saw `UnitPrice` had some unpleasant values, we'll try viewing those columns with invalid values to confirm our data is ok. Of course we'll not be looking at `TransactionAmount` since it's a *secondary column* `UnitPrice` column and `Quantity`"
   ]
  },
  {
   "cell_type": "code",
   "execution_count": null,
   "metadata": {},
   "outputs": [],
   "source": [
    "# DataFrame with UnitPrice as Zero\n",
    "unitprice_zero = df_valid.loc[df['UnitPrice'].sort_values() <= 0]\n",
    "unitprice_zero"
   ]
  },
  {
   "cell_type": "code",
   "execution_count": null,
   "metadata": {},
   "outputs": [],
   "source": [
    "# Inspect UnitPrice values\n",
    "df_valid['UnitPrice'].value_counts().sort_index(ascending=False)"
   ]
  },
  {
   "cell_type": "markdown",
   "metadata": {},
   "source": [
    "**Inspecting Quantity Amount**"
   ]
  },
  {
   "cell_type": "code",
   "execution_count": null,
   "metadata": {},
   "outputs": [],
   "source": [
    "qty_invalid = df_valid.loc[df['Quantity'].sort_values() < 1]\n",
    "qty_invalid"
   ]
  },
  {
   "cell_type": "code",
   "execution_count": null,
   "metadata": {},
   "outputs": [],
   "source": [
    "# Inspect Quantity values\n",
    "df_valid['Quantity'].value_counts().sort_index(ascending=False)"
   ]
  },
  {
   "cell_type": "markdown",
   "metadata": {},
   "source": [
    "We can see there's a very huge difference between the item prices, the most expensive item costs around 8,142 whereas the cheapest in our dataset is about 0.04 after validating our dataset. As for the invalid values, we had zero entries for both UnitPrice and Quantity checks; there are no negative values in the cleaned dataset meaning we are set for the next step."
   ]
  },
  {
   "cell_type": "code",
   "execution_count": null,
   "metadata": {},
   "outputs": [],
   "source": [
    "# Save cleaned data\n",
    "df_valid.to_pickle('../data/processed/cleaned_data.pkl')"
   ]
  },
  {
   "cell_type": "code",
   "execution_count": null,
   "metadata": {},
   "outputs": [],
   "source": [
    "# pkl_file = pd.read_pickle('../data/processed/cleaned_data.pkl')\n",
    "# pkl_file.shape"
   ]
  },
  {
   "cell_type": "markdown",
   "metadata": {},
   "source": [
    "## **2. Calculate RFM Metrics**\n",
    "\n",
    "1. **Define the Reference Date**:\n",
    "\n",
    "Set a date to calculate recency (e.g., the last date in the dataset + 1 day)."
   ]
  },
  {
   "cell_type": "code",
   "execution_count": null,
   "metadata": {},
   "outputs": [],
   "source": [
    "# Reference date\n",
    "analysis_date"
   ]
  },
  {
   "cell_type": "markdown",
   "metadata": {},
   "source": [
    "2. **Calculate R, F, and M**:\n",
    "\n",
    "- **Recency**: Days since the customer’s last transaction.\n",
    "- **Frequency**: Number of transactions per customer.\n",
    "- **Monetary**: Total spending per customer."
   ]
  },
  {
   "cell_type": "code",
   "execution_count": null,
   "metadata": {},
   "outputs": [],
   "source": [
    "# Calculate RFM metrics\n",
    "rfm = df_valid.groupby('CustomerID').agg(\n",
    "    Recency=('InvoiceDate', lambda x: (analysis_date - x.max()).days),  # Days since last purchase\n",
    "    Frequency=('InvoiceNo', 'nunique'),# Number of unique invoices\n",
    "    Monetary=('TransactionAmount', 'sum')  # Total transaction amount\n",
    ").reset_index()\n",
    "\n",
    "\n",
    "# Verify the RFM DataFrame\n",
    "print(\"\\nRFM Table (Preview):\")\n",
    "print(rfm.head())"
   ]
  },
  {
   "cell_type": "markdown",
   "metadata": {},
   "source": [
    "**Distributions of RFM Metrics**"
   ]
  },
  {
   "cell_type": "code",
   "execution_count": null,
   "metadata": {},
   "outputs": [],
   "source": [
    "# Apply log transformation to handle the skew values\n",
    "rfm['Recency_log'] = np.log1p(rfm['Recency'])\n",
    "rfm['Frequency_log'] = np.log1p(rfm['Frequency'])\n",
    "rfm['Monetary_log'] = np.log1p(rfm['Monetary'])\n",
    "\n",
    "# Plot histograms for Recency, Log Frequency, and Log Monetary\n",
    "rfm[['Recency_log', 'Frequency_log', 'Monetary_log']].hist(\n",
    "    bins=20, \n",
    "    layout=(1, 3), \n",
    "    figsize=(12, 4), \n",
    "    color='skyblue'\n",
    ")\n",
    "plt.suptitle('Distribution of RFM Metrics (Log Transformed)')\n",
    "plt.tight_layout(rect=[0, 0, 1, 0.96])\n",
    "plt.show()"
   ]
  },
  {
   "cell_type": "code",
   "execution_count": null,
   "metadata": {},
   "outputs": [],
   "source": [
    "# Checking skewness after transformation\n",
    "print(rfm[['Recency_log', 'Frequency_log', 'Monetary_log']].skew())"
   ]
  },
  {
   "cell_type": "code",
   "execution_count": null,
   "metadata": {},
   "outputs": [],
   "source": [
    "# Plotting boxplots for transformed Frequency and Monetary\n",
    "sns.boxplot(data=rfm[['Recency_log','Frequency_log', 'Monetary_log']])\n",
    "plt.title('Boxplot of Transformed Recency, Frequency, and Monetary')\n",
    "plt.show()"
   ]
  },
  {
   "cell_type": "markdown",
   "metadata": {},
   "source": [
    "## **3. RFM Scoring**"
   ]
  },
  {
   "cell_type": "code",
   "execution_count": null,
   "metadata": {},
   "outputs": [],
   "source": [
    "# Recency scoring (higher score for lower recency values - recent purchases)\n",
    "rfm['Recency_score'] = pd.qcut(rfm['Recency_log'], 5, labels=[5, 4, 3, 2, 1])\n",
    "\n",
    "# Frequency scoring (higher score for higher frequency values)\n",
    "rfm['Frequency_score'] = pd.qcut(rfm['Frequency_log'].rank(method='first'), 5, labels=[1, 2, 3, 4, 5])\n",
    "\n",
    "# Monetary scoring (higher score for higher monetary values)\n",
    "rfm['Monetary_score'] = pd.qcut(rfm['Monetary_log'].rank(method='first'), 5, labels=[1, 2, 3, 4, 5])\n",
    "\n",
    "# Combine the scores into a single RFM score\n",
    "rfm['RFM_score'] = (\n",
    "    rfm['Recency_score'].astype(int) + \n",
    "    rfm['Frequency_score'].astype(int) + \n",
    "    rfm['Monetary_score'].astype(int)\n",
    ")\n",
    "\n",
    "# Preview the RFM table with scores\n",
    "print(\"\\nRFM Table with Scores (Preview):\")\n",
    "rfm[['CustomerID', 'Recency_log', 'Frequency_log', 'Monetary_log', 'Recency_score', 'Frequency_score', 'Monetary_score', 'RFM_score']].head()"
   ]
  },
  {
   "cell_type": "markdown",
   "metadata": {},
   "source": [
    "## **4. Value Segmentation**"
   ]
  },
  {
   "cell_type": "code",
   "execution_count": null,
   "metadata": {},
   "outputs": [],
   "source": [
    "# Create RFM segments based on the RFM score\n",
    "segment_labels = ['Low-Value', 'Mid-Value', 'High-Value']\n",
    "rfm['Value Segment'] = pd.qcut(rfm['RFM_score'], q=3, labels=segment_labels)\n",
    "# Preview\n",
    "rfm.head()"
   ]
  },
  {
   "cell_type": "markdown",
   "metadata": {},
   "source": [
    "## **5. Behavioural Segmentation**"
   ]
  },
  {
   "cell_type": "code",
   "execution_count": null,
   "metadata": {},
   "outputs": [],
   "source": [
    "# Define segments based on ranges of the total RFM score\n",
    "def aggregate_segment(row):\n",
    "    if row['RFM_score'] >= 13:\n",
    "        return 'Champions'\n",
    "    elif row['RFM_score'] >= 10:\n",
    "        return 'Loyal Customers'\n",
    "    elif row['RFM_score'] >= 7:\n",
    "        return 'Potential Loyalists'\n",
    "    elif row['RFM_score'] >= 5:\n",
    "        return 'At Risk'\n",
    "    else:\n",
    "        return 'Hibernating'\n",
    "\n",
    "# Apply the segmentation function to each row\n",
    "rfm['RFM Customer Segment'] = rfm.apply(aggregate_segment, axis=1)\n",
    "\n",
    "# Check the segment distribution\n",
    "print(\"\\nSegment Distribution:\")\n",
    "print(rfm['RFM Customer Segment'].value_counts())\n",
    "\n",
    "# Preview the RFM table with segments\n",
    "print(\"\\nRFM Table with Aggregated Score Segments (Preview):\")\n",
    "rfm[['CustomerID', 'RFM_score', 'RFM Customer Segment']].head()\n"
   ]
  },
  {
   "cell_type": "markdown",
   "metadata": {},
   "source": [
    "## **6. Overview of Segments (RFM Analysis)**\n",
    "\n",
    "We'll start by understanding distribution of customers across value and behavioural segments.\n",
    "\n",
    "### **Distribution of Customer Across Value Segments**"
   ]
  },
  {
   "cell_type": "code",
   "execution_count": null,
   "metadata": {},
   "outputs": [],
   "source": [
    "# Value Segment Distribution\n",
    "value_segment_count = rfm['Value Segment'].value_counts().reset_index()\n",
    "# Assign column names\n",
    "value_segment_count.columns = ['Value Segment', 'Count']\n",
    "\n",
    "# Preview\n",
    "print(value_segment_count)\n",
    "\n",
    "pastel_colors = px.colors.qualitative.Pastel\n",
    "\n",
    "# Create the bar chart\n",
    "fig_segment_dist = px.bar(value_segment_count, x='Value Segment', y='Count', \n",
    "                          color='Value Segment', color_discrete_sequence=pastel_colors,\n",
    "                          title='RFM Value Segment Distribution')\n",
    "\n",
    "# Update the layout\n",
    "fig_segment_dist.update_layout(xaxis_title='RFM Value Segment',\n",
    "                              yaxis_title='Count',\n",
    "                              showlegend=False)\n",
    "\n",
    "# Show the figure\n",
    "fig_segment_dist.show()\n",
    "fig_segment_dist.write_image('../images/rfm_value_segment_dist.png', width=800, height=600)"
   ]
  },
  {
   "cell_type": "markdown",
   "metadata": {},
   "source": [
    "- The largest portion of customers falls into the Low-Value segment (1683 customers, ~38.2%).\n",
    "- The Mid-Value segment accounts for a slightly smaller share (1400 customers, ~31.8%).\n",
    "- The High-Value segment represents the smallest group (1255 customers, ~30.0%)"
   ]
  },
  {
   "cell_type": "markdown",
   "metadata": {},
   "source": [
    "### **Distribution of Customer Across Behavioral Segments**"
   ]
  },
  {
   "cell_type": "code",
   "execution_count": null,
   "metadata": {},
   "outputs": [],
   "source": [
    "pastel_colors = plotly.colors.qualitative.Pastel\n",
    "\n",
    "segment_counts = rfm['RFM Customer Segment'].value_counts()\n",
    "\n",
    "# Create a bar chart to compare segment counts\n",
    "fig = go.Figure(data=[go.Bar(x=segment_counts.index, y=segment_counts.values,\n",
    "                            marker=dict(color=pastel_colors))])\n",
    "\n",
    "# Set the color of the Champions segment as a different color\n",
    "champions_color = 'rgb(158, 202, 225)'\n",
    "fig.update_traces(marker_color=[champions_color if segment == 'Champions' else pastel_colors[i]\n",
    "                                for i, segment in enumerate(segment_counts.index)],\n",
    "                  marker_line_color='rgb(8, 48, 107)',\n",
    "                  marker_line_width=1.5, opacity=0.6)\n",
    "\n",
    "# Update the layout\n",
    "fig.update_layout(title='Comparison of Behavioural Segments',\n",
    "                  xaxis_title='Behavioural Segments',\n",
    "                  yaxis_title='Number of Customers',\n",
    "                  showlegend=False)\n",
    "\n",
    "fig.show()\n",
    "fig.write_image('../images/rfm_segments_comparison.png', width=800, height=600)"
   ]
  },
  {
   "cell_type": "markdown",
   "metadata": {},
   "source": [
    "1. **Top Segments**:\n",
    "\n",
    "Potential Loyalists (1092 customers, ~25.1%) form the largest behavioral group, indicating a significant number of customers who are actively engaging but are yet to reach the highest loyalty tier.\n",
    "Loyal Customers (1008 customers, ~23.2%) are a strong segment, showing consistent engagement and spending.\n",
    "\n",
    "2. **Key Loyalty Segment**:\n",
    "\n",
    "Champions (934 customers, ~21.5%) represent your most valuable and loyal customers who engage frequently and contribute significantly to revenue. This segment is smaller than Potential Loyalists and Loyal Customers, highlighting an opportunity for growth.\n",
    "\n",
    "3. **At Risk Customers**:\n",
    "\n",
    "At Risk (759 customers, ~17.4%) is a notable segment that shows a drop in engagement or spending. This group requires immediate attention to prevent churn.\n",
    "\n",
    "4. **Low Engagement**:\n",
    "\n",
    "Hibernating (545 customers, ~12.5%) indicates customers who are inactive or have not engaged recently. Reviving this segment could lead to additional revenue streams."
   ]
  },
  {
   "cell_type": "markdown",
   "metadata": {},
   "source": [
    "### **Distribution of Customer Segments in Value Segments**"
   ]
  },
  {
   "cell_type": "code",
   "execution_count": null,
   "metadata": {},
   "outputs": [],
   "source": [
    "segment_product_counts = rfm.groupby(['Value Segment', 'RFM Customer Segment']).size().reset_index(name='Count')\n",
    "\n",
    "# Sort values for better visual structure\n",
    "segment_product_counts = segment_product_counts.sort_values('Count', ascending=False)\n",
    "\n",
    "# Filter out rows where Count is zero\n",
    "segment_product_counts_filtered = segment_product_counts[segment_product_counts['Count'] > 0]\n",
    "\n",
    "# Create the treemap\n",
    "fig_treemap_segment_product = px.treemap(\n",
    "    segment_product_counts_filtered,  # Use the filtered DataFrame\n",
    "    path=['Value Segment', 'RFM Customer Segment'], \n",
    "    values='Count', \n",
    "    color='Count',  # Use Count for color intensity\n",
    "    color_continuous_scale='Blues',  # Intensity-based color scale\n",
    "    title='RFM Customer Segments by Value'\n",
    ")\n",
    "\n",
    "# Update the layout for improved aesthetics\n",
    "fig_treemap_segment_product.update_layout(\n",
    "    title_font_size=18,\n",
    "    title_x=0.5,\n",
    "    coloraxis_colorbar=dict(\n",
    "        title=\"Customer Count\",\n",
    "        title_side=\"right\"\n",
    "    )\n",
    ")\n",
    "\n",
    "# Show the plot and save the image\n",
    "fig_treemap_segment_product.show()\n",
    "fig_treemap_segment_product.write_image('../images/figtree_segment_by_value.png', width=800, height=600)"
   ]
  },
  {
   "cell_type": "markdown",
   "metadata": {},
   "source": [
    "- High-Value Customers:\n",
    "\n",
    "The Champions segment dominates within the High-Value group with 934 customers, emphasizing their critical contribution to business revenue.\n",
    "Other behavioral segments (At Risk, Hibernating, and Potential Loyalists) in the High-Value group have no representation, suggesting most high-value customers are currently in their prime stage of engagement and spending.\n",
    "\n",
    "- Mid-Value Customers:\n",
    "\n",
    "This group is well-represented by Potential Loyalists (713) and Loyal Customers (687), indicating a large portion of mid-value customers who are actively engaging and showing promise for future growth.\n",
    "Behavioral segments such as At Risk, Champions, and Hibernating have no representation in this value group, suggesting potential gaps or opportunities to improve segmentation strategies.\n",
    "\n",
    "- Low-Value Customers:\n",
    "\n",
    "The At Risk segment is the largest within the Low-Value group, with 759 customers, followed by Hibernating (545) and Potential Loyalists (379). These customers are either disengaged or require nurturing to boost their activity.\n",
    "Notably, the Champions and Loyal Customers segments have no representation, highlighting the challenge of converting low-value customers into highly engaged ones."
   ]
  },
  {
   "cell_type": "code",
   "execution_count": null,
   "metadata": {},
   "outputs": [],
   "source": [
    "# Save RFM table\n",
    "rfm.to_pickle('../data/processed/rfm_table.pkl')"
   ]
  },
  {
   "cell_type": "markdown",
   "metadata": {},
   "source": [
    "### **Average RFM Scores by Customer Segment**"
   ]
  },
  {
   "cell_type": "code",
   "execution_count": null,
   "metadata": {},
   "outputs": [],
   "source": [
    "rfm['Recency_score'] = rfm['Recency_score'].astype(int)\n",
    "rfm['Frequency_score'] = rfm['Frequency_score'].astype(int)\n",
    "rfm['Monetary_score'] = rfm['Monetary_score'].astype(int)\n",
    "\n",
    "# Calculate the average Recency, Frequency, and Monetary scores for each segment\n",
    "segment_scores = rfm.groupby('RFM Customer Segment')[['Recency_score', 'Frequency_score', 'Monetary_score']].mean().round(1).reset_index()\n",
    "\n",
    "# Create a grouped bar chart to compare segment scores\n",
    "fig = go.Figure()\n",
    "\n",
    "# Add bars for Recency score\n",
    "fig.add_trace(go.Bar(\n",
    "    x=segment_scores['RFM Customer Segment'],\n",
    "    y=segment_scores['Recency_score'],\n",
    "    name='Recency Score',\n",
    "    marker_color='rgb(158,202,225)'\n",
    "))\n",
    "\n",
    "# Add bars for Frequency score\n",
    "fig.add_trace(go.Bar(\n",
    "    x=segment_scores['RFM Customer Segment'],\n",
    "    y=segment_scores['Frequency_score'],\n",
    "    name='Frequency Score',\n",
    "    marker_color='rgb(94,158,217)'\n",
    "))\n",
    "\n",
    "# Add bars for Monetary score\n",
    "fig.add_trace(go.Bar(\n",
    "    x=segment_scores['RFM Customer Segment'],\n",
    "    y=segment_scores['Monetary_score'],\n",
    "    name='Monetary Score',\n",
    "    marker_color='rgb(32,102,148)'\n",
    "))\n",
    "\n",
    "# Update the layout\n",
    "fig.update_layout(\n",
    "    title='Comparison of RFM Segments based on Recency, Frequency, and Monetary Scores',\n",
    "    xaxis_title='RFM Segments',\n",
    "    yaxis_title='Score',\n",
    "    barmode='group',\n",
    "    showlegend=True\n",
    ")\n",
    "\n",
    "fig.show()\n",
    "fig.write_image('../images/rfm_comparisons.png', width=800, height=600)"
   ]
  },
  {
   "cell_type": "code",
   "execution_count": null,
   "metadata": {},
   "outputs": [],
   "source": [
    "from tabulate import tabulate\n",
    "# Define the data\n",
    "data = [\n",
    "    [\"At Risk\", 2.1, 1.7, 1.8, \"Customers who have not made purchases recently, with low frequency and spending. Immediate re-engagement strategies are needed to retain them.\"],\n",
    "    [\"Champions\", 4.5, 4.8, 4.7, \"Your best customers who purchase frequently, spend the most, and are highly engaged. These customers are loyal and should be rewarded with exclusive offers or personalized experiences.\"],\n",
    "    [\"Hibernating\", 1.1, 1.3, 1.2, \"Customers who have not purchased in a long time, with minimal engagement and spending. Reactivation campaigns could help bring them back.\"],\n",
    "    [\"Loyal Customers\", 3.6, 3.7, 3.7, \"Regular customers with good spending and engagement. They appreciate the brand and are likely to respond to loyalty programs or upselling strategies.\"],\n",
    "    [\"Potential Loyalists\", 2.8, 2.5, 2.6, \"Customers showing promising behavior but not yet fully engaged. Targeted campaigns to encourage frequency and spending could move them into the 'Loyal Customers' or 'Champions' segments.\"]\n",
    "]\n",
    "\n",
    "# Create a table\n",
    "headers = [\"RFM Customer Segment\", \"Recency Score\", \"Frequency Score\", \"Monetary Score\", \"Interpretation\"]\n",
    "table = tabulate(data, headers=headers, tablefmt=\"fancy_grid\")\n",
    "\n",
    "# Print the table\n",
    "print(table)\n"
   ]
  },
  {
   "cell_type": "markdown",
   "metadata": {},
   "source": [
    "### **Revenue Contribution by Segment**"
   ]
  },
  {
   "cell_type": "code",
   "execution_count": null,
   "metadata": {},
   "outputs": [],
   "source": [
    "# Calculate total revenue per segment\n",
    "segment_revenue = rfm.groupby('RFM Customer Segment')['Monetary'].sum().reset_index()\n",
    "# Renaming resulting columns for clarity\n",
    "segment_revenue.columns = ['RFM Customer Segment', 'Total Revenue']\n",
    "# Add a column for percentage contribution\n",
    "total_revenue = segment_revenue['Total Revenue'].sum()\n",
    "segment_revenue['Revenue Percentage'] = ((segment_revenue['Total Revenue']/total_revenue)*100).round(2)\n",
    "print(segment_revenue)"
   ]
  },
  {
   "cell_type": "markdown",
   "metadata": {},
   "source": [
    "The resulting DataFrame has the following columns:\n",
    "\n",
    "- `RFM Customer Segment`: The name of the segment.\n",
    "- `Total Revenue`: Total revenue contributed by each segment.\n",
    "- `Revenue Percentage`: Percentage of total revenue each segment contributes.\n",
    "\n",
    "Visualizing the percentage contributions by each segment in a pie chart"
   ]
  },
  {
   "cell_type": "code",
   "execution_count": null,
   "metadata": {},
   "outputs": [],
   "source": [
    "# Create a pie chart\n",
    "pie_chart = plt.figure(figsize=(8, 8))\n",
    "plt.pie(\n",
    "    segment_revenue['Total Revenue'],\n",
    "    labels=segment_revenue['RFM Customer Segment'],\n",
    "    autopct='%1.1f%%',\n",
    "    startangle=140,\n",
    "    colors=sns.color_palette('Blues', len(segment_revenue))\n",
    ")\n",
    "\n",
    "# Add a title\n",
    "plt.title('Revenue Contribution by Customer Segment', fontsize=16)\n",
    "plt.tight_layout()\n",
    "plt.show()\n",
    "pie_chart.savefig('../images/revenue_contribution.png', width=800, height=600)"
   ]
  },
  {
   "cell_type": "markdown",
   "metadata": {},
   "source": [
    "- 80.09% of Revenue Comes from Champions and Loyal Customers:\n",
    "Focus most of your resources on retaining these high-value groups.\n",
    "\n",
    "- 12.82% of Revenue Comes from Potential Loyalists and At Risk:\n",
    "These groups represent both growth opportunities and potential loss. Balance retention efforts here.\n",
    "\n",
    "- Low Returns on Hibernating (1.18%):\n",
    "Spending effort on this group might not be cost-effective unless they are a strategic priority."
   ]
  },
  {
   "cell_type": "markdown",
   "metadata": {},
   "source": [
    "### **Conclusion:**"
   ]
  },
  {
   "cell_type": "code",
   "execution_count": null,
   "metadata": {},
   "outputs": [],
   "source": [
    "from IPython.display import display, Markdown\n",
    "# Data for the table\n",
    "data = [\n",
    "    [\"Champions\", \"25.13%\", \"70.19%\"],\n",
    "    [\"Loyal Customers\", \"27.14%\", \"15.81%\"],\n",
    "    [\"Potential Loyalists\", \"29.35%\", \"9.90%\"],\n",
    "    [\"At Risk\", \"20.45%\", \"2.92%\"],\n",
    "    [\"Hibernating\", \"14.68%\", \"1.18%\"]\n",
    "]\n",
    "\n",
    "# Column headers\n",
    "headers = [\"Segment\", \"Customer Proportion\", \"Revenue Contribution\"]\n",
    "\n",
    "# Generate table\n",
    "comparison_table = tabulate(data, headers=headers, tablefmt=\"grid\")\n",
    "\n",
    "# Render the table as markdown\n",
    "display(Markdown(f\"```\\n{comparison_table}\\n```\"))\n",
    "\n",
    "# Save the table as a text file\n",
    "with open(\"../images/segment_comparison_table.txt\", \"w\") as file:\n",
    "    file.write(comparison_table)"
   ]
  },
  {
   "cell_type": "markdown",
   "metadata": {},
   "source": [
    "The RFM analysis highlights notable patterns in customer behavior and revenue contribution:\n",
    "\n",
    "- **Champions Lead in Both Proportion and Revenue**:\n",
    "*Distribution*: 25.13% of the customer base (934 customers).\n",
    "*Revenue Contribution*: 70.19% of total revenue.\n",
    "This segment demonstrates high engagement and significant spending, underscoring its critical importance to the business.\n",
    "\n",
    "- **Loyal Customers and Potential Loyalists Show Potential:**\n",
    "Together, they make up 36.49% of customers but contribute only 25.71% of revenue.\n",
    "These segments offer substantial growth opportunities to increase revenue through targeted engagement.\n",
    "\n",
    "- **At Risk Customers Have Moderate Representation but Low Revenue Impact:**\n",
    "*Distribution*: 20.45% of the customer base (759 customers).\n",
    "*Revenue Contribution*: 2.92%.\n",
    "This segment requires intervention to prevent further disengagement.\n",
    "\n",
    "- **Hibernating Customers Have Minimal Engagement:**\n",
    "*Distribution*: 14.68% of customers (545 customers).\n",
    "*Revenue Contribution*: 1.18%.\n",
    "They represent the least valuable segment, warranting limited focus.\n",
    "\n",
    "### **Recommendations:**\n",
    "\n",
    "- `Strengthen Relationships with Champions`:\n",
    "Focus on retention strategies like exclusive loyalty programs, early access to products, or premium services.\n",
    "Ensure consistent and personalized communication to maintain their satisfaction and spending levels.\n",
    "Nurture Loyal Customers and Potential Loyalists:\n",
    "\n",
    "- Create `targeted campaigns` to increase engagement, such as offering tiered rewards for higher spending or incentivizing frequent purchases.\n",
    "Educate these customers about additional products/services to encourage upselling and cross-selling.\n",
    "Re-engage At Risk Customers:\n",
    "\n",
    "- `Deploy win-back campaigns`, including special offers, personalized outreach, or feedback collection to understand their disengagement.\n",
    "Focus on reactivating high-value customers within this segment.\n",
    "Optimize Efforts for Hibernating Customers:\n",
    "\n",
    "- `Periodic reminders or seasonal promotions` can re-engage this group, but prioritize resources on higher-value segments.\n",
    "Monitor and Track Performance:\n",
    "\n",
    "- Regularly `update RFM scores` and revenue contributions to identify changes in customer behavior.\n",
    "Use these insights to refine marketing and operational strategies.\n",
    "\n",
    "By focusing on high-value segments and nurturing growth opportunities, the business can enhance customer satisfaction, boost revenue, and build a more loyal customer base."
   ]
  }
 ],
 "metadata": {
  "kernelspec": {
   "display_name": "learn-env",
   "language": "python",
   "name": "python3"
  },
  "language_info": {
   "codemirror_mode": {
    "name": "ipython",
    "version": 3
   },
   "file_extension": ".py",
   "mimetype": "text/x-python",
   "name": "python",
   "nbconvert_exporter": "python",
   "pygments_lexer": "ipython3",
   "version": "3.8.5"
  }
 },
 "nbformat": 4,
 "nbformat_minor": 2
}
