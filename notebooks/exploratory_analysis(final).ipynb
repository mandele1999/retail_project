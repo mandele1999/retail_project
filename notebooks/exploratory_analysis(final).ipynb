{
 "cells": [
  {
   "cell_type": "markdown",
   "metadata": {},
   "source": [
    "# Customer Segmentation (Clustering - RFM Analysis)"
   ]
  },
  {
   "cell_type": "markdown",
   "metadata": {},
   "source": [
    "## 1. Data Cleaning and Preparation"
   ]
  },
  {
   "cell_type": "code",
   "execution_count": 1,
   "metadata": {
    "execution": {
     "iopub.execute_input": "2024-11-27T17:24:09.664240Z",
     "iopub.status.busy": "2024-11-27T17:24:09.664240Z",
     "iopub.status.idle": "2024-11-27T17:24:12.725922Z",
     "shell.execute_reply": "2024-11-27T17:24:12.725922Z"
    }
   },
   "outputs": [],
   "source": [
    "# Import libraries\n",
    "import pandas as pd\n",
    "import numpy as np\n",
    "\n",
    "from sklearn.decomposition import PCA\n",
    "from sklearn.cluster import KMeans\n",
    "from sklearn.preprocessing import MinMaxScaler\n",
    "from sklearn.metrics import silhouette_score, calinski_harabasz_score\n",
    "from mpl_toolkits.mplot3d import Axes3D\n",
    "from math import pi\n",
    "# from mlxtend.frequent_patterns import apriori, association_rules\n",
    "import networkx as nx\n",
    "import matplotlib.pyplot as plt\n",
    "import seaborn as sns\n",
    "sns.set(style=\"whitegrid\")\n",
    "\n",
    "import warnings\n",
    "warnings.filterwarnings('ignore')"
   ]
  },
  {
   "cell_type": "markdown",
   "metadata": {},
   "source": [
    "---"
   ]
  },
  {
   "cell_type": "code",
   "execution_count": 2,
   "metadata": {
    "execution": {
     "iopub.execute_input": "2024-11-27T17:24:12.725922Z",
     "iopub.status.busy": "2024-11-27T17:24:12.725922Z",
     "iopub.status.idle": "2024-11-27T17:24:13.683014Z",
     "shell.execute_reply": "2024-11-27T17:24:13.683014Z"
    }
   },
   "outputs": [
    {
     "name": "stdout",
     "output_type": "stream",
     "text": [
      "Rows, Columns count (541909, 8)\n"
     ]
    },
    {
     "data": {
      "text/html": [
       "<div>\n",
       "<style scoped>\n",
       "    .dataframe tbody tr th:only-of-type {\n",
       "        vertical-align: middle;\n",
       "    }\n",
       "\n",
       "    .dataframe tbody tr th {\n",
       "        vertical-align: top;\n",
       "    }\n",
       "\n",
       "    .dataframe thead th {\n",
       "        text-align: right;\n",
       "    }\n",
       "</style>\n",
       "<table border=\"1\" class=\"dataframe\">\n",
       "  <thead>\n",
       "    <tr style=\"text-align: right;\">\n",
       "      <th></th>\n",
       "      <th>InvoiceNo</th>\n",
       "      <th>StockCode</th>\n",
       "      <th>Description</th>\n",
       "      <th>Quantity</th>\n",
       "      <th>InvoiceDate</th>\n",
       "      <th>UnitPrice</th>\n",
       "      <th>CustomerID</th>\n",
       "      <th>Country</th>\n",
       "    </tr>\n",
       "  </thead>\n",
       "  <tbody>\n",
       "    <tr>\n",
       "      <th>0</th>\n",
       "      <td>536365</td>\n",
       "      <td>85123A</td>\n",
       "      <td>WHITE HANGING HEART T-LIGHT HOLDER</td>\n",
       "      <td>6</td>\n",
       "      <td>12/1/10 8:26</td>\n",
       "      <td>2.55</td>\n",
       "      <td>17850.0</td>\n",
       "      <td>United Kingdom</td>\n",
       "    </tr>\n",
       "    <tr>\n",
       "      <th>1</th>\n",
       "      <td>536365</td>\n",
       "      <td>71053</td>\n",
       "      <td>WHITE METAL LANTERN</td>\n",
       "      <td>6</td>\n",
       "      <td>12/1/10 8:26</td>\n",
       "      <td>3.39</td>\n",
       "      <td>17850.0</td>\n",
       "      <td>United Kingdom</td>\n",
       "    </tr>\n",
       "    <tr>\n",
       "      <th>2</th>\n",
       "      <td>536365</td>\n",
       "      <td>84406B</td>\n",
       "      <td>CREAM CUPID HEARTS COAT HANGER</td>\n",
       "      <td>8</td>\n",
       "      <td>12/1/10 8:26</td>\n",
       "      <td>2.75</td>\n",
       "      <td>17850.0</td>\n",
       "      <td>United Kingdom</td>\n",
       "    </tr>\n",
       "    <tr>\n",
       "      <th>3</th>\n",
       "      <td>536365</td>\n",
       "      <td>84029G</td>\n",
       "      <td>KNITTED UNION FLAG HOT WATER BOTTLE</td>\n",
       "      <td>6</td>\n",
       "      <td>12/1/10 8:26</td>\n",
       "      <td>3.39</td>\n",
       "      <td>17850.0</td>\n",
       "      <td>United Kingdom</td>\n",
       "    </tr>\n",
       "    <tr>\n",
       "      <th>4</th>\n",
       "      <td>536365</td>\n",
       "      <td>84029E</td>\n",
       "      <td>RED WOOLLY HOTTIE WHITE HEART.</td>\n",
       "      <td>6</td>\n",
       "      <td>12/1/10 8:26</td>\n",
       "      <td>3.39</td>\n",
       "      <td>17850.0</td>\n",
       "      <td>United Kingdom</td>\n",
       "    </tr>\n",
       "  </tbody>\n",
       "</table>\n",
       "</div>"
      ],
      "text/plain": [
       "  InvoiceNo StockCode                          Description  Quantity  \\\n",
       "0    536365    85123A   WHITE HANGING HEART T-LIGHT HOLDER         6   \n",
       "1    536365     71053                  WHITE METAL LANTERN         6   \n",
       "2    536365    84406B       CREAM CUPID HEARTS COAT HANGER         8   \n",
       "3    536365    84029G  KNITTED UNION FLAG HOT WATER BOTTLE         6   \n",
       "4    536365    84029E       RED WOOLLY HOTTIE WHITE HEART.         6   \n",
       "\n",
       "    InvoiceDate  UnitPrice  CustomerID         Country  \n",
       "0  12/1/10 8:26       2.55     17850.0  United Kingdom  \n",
       "1  12/1/10 8:26       3.39     17850.0  United Kingdom  \n",
       "2  12/1/10 8:26       2.75     17850.0  United Kingdom  \n",
       "3  12/1/10 8:26       3.39     17850.0  United Kingdom  \n",
       "4  12/1/10 8:26       3.39     17850.0  United Kingdom  "
      ]
     },
     "execution_count": 2,
     "metadata": {},
     "output_type": "execute_result"
    }
   ],
   "source": [
    "# Load dataset\n",
    "data = pd.read_csv('../data/online_retail.csv').copy()\n",
    "print(f'Rows, Columns count', data.shape)\n",
    "data.head()"
   ]
  },
  {
   "cell_type": "markdown",
   "metadata": {},
   "source": [
    "**1. Data Inspection**"
   ]
  },
  {
   "cell_type": "code",
   "execution_count": 3,
   "metadata": {
    "execution": {
     "iopub.execute_input": "2024-11-27T17:24:13.698639Z",
     "iopub.status.busy": "2024-11-27T17:24:13.683014Z",
     "iopub.status.idle": "2024-11-27T17:24:13.839266Z",
     "shell.execute_reply": "2024-11-27T17:24:13.839266Z"
    }
   },
   "outputs": [
    {
     "name": "stdout",
     "output_type": "stream",
     "text": [
      "<class 'pandas.core.frame.DataFrame'>\n",
      "RangeIndex: 541909 entries, 0 to 541908\n",
      "Data columns (total 8 columns):\n",
      " #   Column       Non-Null Count   Dtype  \n",
      "---  ------       --------------   -----  \n",
      " 0   InvoiceNo    541909 non-null  object \n",
      " 1   StockCode    541909 non-null  object \n",
      " 2   Description  540455 non-null  object \n",
      " 3   Quantity     541909 non-null  int64  \n",
      " 4   InvoiceDate  541909 non-null  object \n",
      " 5   UnitPrice    541909 non-null  float64\n",
      " 6   CustomerID   406829 non-null  float64\n",
      " 7   Country      541909 non-null  object \n",
      "dtypes: float64(2), int64(1), object(5)\n",
      "memory usage: 33.1+ MB\n"
     ]
    }
   ],
   "source": [
    "# Descriptive summary of data\n",
    "data.info()"
   ]
  },
  {
   "cell_type": "markdown",
   "metadata": {},
   "source": [
    "- 2 columns have missing values;`Description` and `CustomerID`, \n",
    "- `InvoiceDate` needs to be converted to datetime object and `CustomerID` to category type to use it as a transaction identifier. \n",
    "- Since `CustomerID` is a critical column there aren't quite many of Null values, we can drop the NaNs in our dataframe.\n",
    "- We'll be converting all objects to category datatype."
   ]
  },
  {
   "cell_type": "markdown",
   "metadata": {},
   "source": [
    "1. Handling Missing Data & Categorical Data"
   ]
  },
  {
   "cell_type": "code",
   "execution_count": 4,
   "metadata": {},
   "outputs": [
    {
     "name": "stdout",
     "output_type": "stream",
     "text": [
      "Missing Values:\n",
      " InvoiceNo           0\n",
      "StockCode           0\n",
      "Description      1454\n",
      "Quantity            0\n",
      "InvoiceDate         0\n",
      "UnitPrice           0\n",
      "CustomerID     135080\n",
      "Country             0\n",
      "dtype: int64\n",
      "InvoiceNo      category\n",
      "StockCode      category\n",
      "Description    category\n",
      "Quantity          int64\n",
      "InvoiceDate      object\n",
      "UnitPrice       float64\n",
      "CustomerID     category\n",
      "Country        category\n",
      "dtype: object\n"
     ]
    }
   ],
   "source": [
    "# Handling datatypes and Missing values\n",
    "print(\"Missing Values:\\n\", data.isna().sum())\n",
    "# Check for and drop missing values for critical columns\n",
    "data.dropna(subset=['InvoiceNo', 'CustomerID', 'InvoiceDate'], inplace=True)\n",
    "# Normalize case\n",
    "data['Description'] = data['Description'].str.lower()\n",
    "# Convert customerID to str\n",
    "data['CustomerID'] = data['CustomerID'].astype(int).astype(str)\n",
    "\n",
    "# Convert categorical columns to strings stripping\n",
    "cat_cols = ['InvoiceNo', 'StockCode', 'Description', 'CustomerID', 'Country']\n",
    "# # Normalize case\n",
    "# data[cat_cols] = data[cat_cols].apply(lambda col: col.str.lower(), axis=1)\n",
    "\n",
    "# Clean categorical columns\n",
    "for col in cat_cols:\n",
    "    # Convert to string, handle nulls, and strip whitespaces\n",
    "    data[col] = data[col].astype(str).fillna('missing').str.replace(r'\\s+', ' ', regex=True).str.strip()\n",
    "\n",
    "# Convert str back to category datatype\n",
    "data[cat_cols] = data[cat_cols].astype('category')\n",
    "\n",
    "# Inspection check\n",
    "print(data.dtypes)"
   ]
  },
  {
   "cell_type": "markdown",
   "metadata": {},
   "source": [
    "2. Handling Date Column (InvoiceDate) and Creating Derived Columns"
   ]
  },
  {
   "cell_type": "code",
   "execution_count": 5,
   "metadata": {},
   "outputs": [
    {
     "name": "stdout",
     "output_type": "stream",
     "text": [
      "(406829, 11)\n",
      "(40, 11)\n",
      "(397924, 11)\n",
      "(8905, 11)\n"
     ]
    }
   ],
   "source": [
    "# Change invoiceDate to DateTime format\n",
    "data['InvoiceDate'] = pd.to_datetime(data['InvoiceDate'], errors='coerce')\n",
    "\n",
    "# Create column for Canceled orders and perform filtering. (1= canceled order, 0 = valid order)\n",
    "data['is_canceled'] = data['InvoiceNo'].str.startswith('C').astype(int)\n",
    "\n",
    "# Create a new column to indicate free promotional items based on UnitPrice == 0.00\n",
    "data['is_free_promo'] = (data['UnitPrice'] == 0).astype(int)\n",
    "\n",
    "# Create TransactionAmount columns\n",
    "data['InvoiceAmount'] = (data['UnitPrice'] * data['Quantity'])\n",
    "\n",
    "free_promo = data[data['is_free_promo'] == 1].copy().reset_index(drop=True)  # Free promotional items\n",
    "valid_orders = data[data['is_canceled'] == 0].copy().reset_index(drop=True) #data[(data['is_canceled'] == 0) & (data['InvoiceAmount'] > 0)] # Exta condition to avoid double counting\n",
    "canceled_orders = data[data['is_canceled'] == 1].copy().reset_index(drop=True)\n",
    "# Inspection check:\n",
    "# count of free promotional items\n",
    "# print(f\"Number of free promotional items: {data['is_free_promo'].sum()}\")\n",
    "# print(f'Updated Rows, Columns:', data.shape)\n",
    "print(data.shape)\n",
    "print(free_promo.shape)\n",
    "print(valid_orders.shape)\n",
    "print(canceled_orders.shape)"
   ]
  },
  {
   "cell_type": "code",
   "execution_count": 6,
   "metadata": {},
   "outputs": [
    {
     "name": "stdout",
     "output_type": "stream",
     "text": [
      "0\n",
      "0\n"
     ]
    }
   ],
   "source": [
    "print(valid_orders['InvoiceNo'].isna().sum())  # Check for NaNs in valid_orders\n",
    "print(canceled_orders['InvoiceNo'].isna().sum())  # Check for NaNs in canceled_orders"
   ]
  },
  {
   "cell_type": "code",
   "execution_count": 7,
   "metadata": {},
   "outputs": [
    {
     "data": {
      "text/plain": [
       "Index(['InvoiceNo', 'StockCode', 'Description', 'Quantity', 'InvoiceDate',\n",
       "       'UnitPrice', 'CustomerID', 'Country', 'is_canceled', 'is_free_promo',\n",
       "       'InvoiceAmount'],\n",
       "      dtype='object')"
      ]
     },
     "execution_count": 7,
     "metadata": {},
     "output_type": "execute_result"
    }
   ],
   "source": [
    "valid_orders.columns"
   ]
  },
  {
   "cell_type": "code",
   "execution_count": 8,
   "metadata": {},
   "outputs": [
    {
     "data": {
      "text/plain": [
       "InvoiceNo\n",
       "576339     542\n",
       "579196     533\n",
       "580727     529\n",
       "578270     442\n",
       "573576     435\n",
       "          ... \n",
       "C550530      0\n",
       "C550533      0\n",
       "C550534      0\n",
       "C550536      0\n",
       "C581569      0\n",
       "Name: count, Length: 22190, dtype: int64"
      ]
     },
     "execution_count": 8,
     "metadata": {},
     "output_type": "execute_result"
    }
   ],
   "source": [
    "valid_orders['InvoiceNo'].value_counts()"
   ]
  },
  {
   "cell_type": "code",
   "execution_count": 9,
   "metadata": {},
   "outputs": [
    {
     "name": "stdout",
     "output_type": "stream",
     "text": [
      "Unique InvoiceNo in original data: 22190\n",
      "Unique InvoiceNo in valid_orders: 18536\n",
      "Unique InvoiceNo in canceled_orders: 3654\n"
     ]
    },
    {
     "data": {
      "text/plain": [
       "True"
      ]
     },
     "execution_count": 9,
     "metadata": {},
     "output_type": "execute_result"
    }
   ],
   "source": [
    "print(\"Unique InvoiceNo in original data:\", data['InvoiceNo'].nunique())\n",
    "print(\"Unique InvoiceNo in valid_orders:\", valid_orders['InvoiceNo'].nunique())\n",
    "print(\"Unique InvoiceNo in canceled_orders:\", canceled_orders['InvoiceNo'].nunique())\n",
    "len(data['InvoiceNo'])  == len(valid_orders['InvoiceNo']) + len(canceled_orders['InvoiceNo'])"
   ]
  },
  {
   "cell_type": "code",
   "execution_count": 10,
   "metadata": {},
   "outputs": [
    {
     "name": "stdout",
     "output_type": "stream",
     "text": [
      "397924\n",
      "8905\n",
      "406829\n"
     ]
    }
   ],
   "source": [
    "print(len(valid_orders['InvoiceNo']))\n",
    "print(len(canceled_orders['InvoiceNo']))\n",
    "print(len(data['InvoiceNo']))"
   ]
  },
  {
   "cell_type": "markdown",
   "metadata": {},
   "source": [
    "2. Handling Duplicate Entries"
   ]
  },
  {
   "cell_type": "code",
   "execution_count": 11,
   "metadata": {},
   "outputs": [
    {
     "name": "stdout",
     "output_type": "stream",
     "text": [
      "Duplicate Entries:  5225\n",
      "5225\n"
     ]
    },
    {
     "data": {
      "text/plain": [
       "InvoiceNo  StockCode  Description                          Quantity  InvoiceDate          UnitPrice  CustomerID  Country         is_canceled  is_free_promo  InvoiceAmount\n",
       "555524     22698      pink regency teacup and saucer        1        2011-06-05 11:37:00  2.95       16923       United Kingdom  0            0               2.95            19\n",
       "           22697      green regency teacup and saucer       1        2011-06-05 11:37:00  2.95       16923       United Kingdom  0            0               2.95            11\n",
       "572861     22775      purple drawerknob acrylic edwardian   12       2011-10-26 12:46:00  1.25       14102       United Kingdom  0            0               15.00            7\n",
       "572344     M          manual                                48       2011-10-24 10:43:00  1.50       14607       United Kingdom  0            0               72.00            5\n",
       "540524     21756      bath building block word              1        2011-01-09 12:53:00  5.95       16735       United Kingdom  0            0               5.95             5\n",
       "                                                                                                                                                                              ..\n",
       "556484     22429      enamel measuring jug cream            1        2011-06-12 13:17:00  4.25       16938       United Kingdom  0            0               4.25             1\n",
       "           22326      round snack boxes set of4 woodland    2        2011-06-12 13:17:00  2.95       16938       United Kingdom  0            0               5.90             1\n",
       "           22139      retrospot tea set ceramic 11 pc       1        2011-06-12 13:17:00  4.95       16938       United Kingdom  0            0               4.95             1\n",
       "556481     23182      toilet sign occupied or vacant        3        2011-06-12 13:00:00  0.83       16115       United Kingdom  0            0               2.49             1\n",
       "C580764    22667      recipe box retrospot                 -12       2011-12-06 10:38:00  2.95       14562       United Kingdom  1            0              -35.40            1\n",
       "Name: count, Length: 4837, dtype: int64"
      ]
     },
     "execution_count": 11,
     "metadata": {},
     "output_type": "execute_result"
    }
   ],
   "source": [
    "print(f'Duplicate Entries: ', data.duplicated().sum()) # 5192 Duplicates\n",
    "duplicates = data[data.duplicated()]\n",
    "print(len(duplicates))\n",
    "duplicates.value_counts()"
   ]
  },
  {
   "cell_type": "markdown",
   "metadata": {},
   "source": [
    "The duplicated entries appear to be multiple purchases of an item made by a customer, we will leave them as they are. Might be useful in getting customer-spending computations."
   ]
  },
  {
   "cell_type": "markdown",
   "metadata": {},
   "source": [
    "3. Inspecting summary statistics of numerical columns"
   ]
  },
  {
   "cell_type": "code",
   "execution_count": 12,
   "metadata": {
    "execution": {
     "iopub.execute_input": "2024-11-27T17:24:13.839266Z",
     "iopub.status.busy": "2024-11-27T17:24:13.839266Z",
     "iopub.status.idle": "2024-11-27T17:24:13.917384Z",
     "shell.execute_reply": "2024-11-27T17:24:13.917384Z"
    }
   },
   "outputs": [
    {
     "data": {
      "text/html": [
       "<div>\n",
       "<style scoped>\n",
       "    .dataframe tbody tr th:only-of-type {\n",
       "        vertical-align: middle;\n",
       "    }\n",
       "\n",
       "    .dataframe tbody tr th {\n",
       "        vertical-align: top;\n",
       "    }\n",
       "\n",
       "    .dataframe thead th {\n",
       "        text-align: right;\n",
       "    }\n",
       "</style>\n",
       "<table border=\"1\" class=\"dataframe\">\n",
       "  <thead>\n",
       "    <tr style=\"text-align: right;\">\n",
       "      <th></th>\n",
       "      <th>Quantity</th>\n",
       "      <th>UnitPrice</th>\n",
       "      <th>is_canceled</th>\n",
       "      <th>is_free_promo</th>\n",
       "      <th>InvoiceAmount</th>\n",
       "    </tr>\n",
       "  </thead>\n",
       "  <tbody>\n",
       "    <tr>\n",
       "      <th>count</th>\n",
       "      <td>406829.000000</td>\n",
       "      <td>406829.000000</td>\n",
       "      <td>406829.000000</td>\n",
       "      <td>406829.000000</td>\n",
       "      <td>406829.000000</td>\n",
       "    </tr>\n",
       "    <tr>\n",
       "      <th>mean</th>\n",
       "      <td>12.061303</td>\n",
       "      <td>3.460471</td>\n",
       "      <td>0.021889</td>\n",
       "      <td>0.000098</td>\n",
       "      <td>20.401854</td>\n",
       "    </tr>\n",
       "    <tr>\n",
       "      <th>std</th>\n",
       "      <td>248.693370</td>\n",
       "      <td>69.315162</td>\n",
       "      <td>0.146321</td>\n",
       "      <td>0.009915</td>\n",
       "      <td>427.591718</td>\n",
       "    </tr>\n",
       "    <tr>\n",
       "      <th>min</th>\n",
       "      <td>-80995.000000</td>\n",
       "      <td>0.000000</td>\n",
       "      <td>0.000000</td>\n",
       "      <td>0.000000</td>\n",
       "      <td>-168469.600000</td>\n",
       "    </tr>\n",
       "    <tr>\n",
       "      <th>25%</th>\n",
       "      <td>2.000000</td>\n",
       "      <td>1.250000</td>\n",
       "      <td>0.000000</td>\n",
       "      <td>0.000000</td>\n",
       "      <td>4.200000</td>\n",
       "    </tr>\n",
       "    <tr>\n",
       "      <th>50%</th>\n",
       "      <td>5.000000</td>\n",
       "      <td>1.950000</td>\n",
       "      <td>0.000000</td>\n",
       "      <td>0.000000</td>\n",
       "      <td>11.100000</td>\n",
       "    </tr>\n",
       "    <tr>\n",
       "      <th>75%</th>\n",
       "      <td>12.000000</td>\n",
       "      <td>3.750000</td>\n",
       "      <td>0.000000</td>\n",
       "      <td>0.000000</td>\n",
       "      <td>19.500000</td>\n",
       "    </tr>\n",
       "    <tr>\n",
       "      <th>max</th>\n",
       "      <td>80995.000000</td>\n",
       "      <td>38970.000000</td>\n",
       "      <td>1.000000</td>\n",
       "      <td>1.000000</td>\n",
       "      <td>168469.600000</td>\n",
       "    </tr>\n",
       "  </tbody>\n",
       "</table>\n",
       "</div>"
      ],
      "text/plain": [
       "            Quantity      UnitPrice    is_canceled  is_free_promo  \\\n",
       "count  406829.000000  406829.000000  406829.000000  406829.000000   \n",
       "mean       12.061303       3.460471       0.021889       0.000098   \n",
       "std       248.693370      69.315162       0.146321       0.009915   \n",
       "min    -80995.000000       0.000000       0.000000       0.000000   \n",
       "25%         2.000000       1.250000       0.000000       0.000000   \n",
       "50%         5.000000       1.950000       0.000000       0.000000   \n",
       "75%        12.000000       3.750000       0.000000       0.000000   \n",
       "max     80995.000000   38970.000000       1.000000       1.000000   \n",
       "\n",
       "       InvoiceAmount  \n",
       "count  406829.000000  \n",
       "mean       20.401854  \n",
       "std       427.591718  \n",
       "min   -168469.600000  \n",
       "25%         4.200000  \n",
       "50%        11.100000  \n",
       "75%        19.500000  \n",
       "max    168469.600000  "
      ]
     },
     "execution_count": 12,
     "metadata": {},
     "output_type": "execute_result"
    }
   ],
   "source": [
    "# Statistical summary for numerical columns\n",
    "data.describe(include='number')"
   ]
  },
  {
   "cell_type": "markdown",
   "metadata": {},
   "source": [
    "There's `skewness` in our numerical columns"
   ]
  },
  {
   "cell_type": "code",
   "execution_count": 13,
   "metadata": {
    "execution": {
     "iopub.execute_input": "2024-11-27T17:24:19.238205Z",
     "iopub.status.busy": "2024-11-27T17:24:19.238205Z",
     "iopub.status.idle": "2024-11-27T17:24:19.285079Z",
     "shell.execute_reply": "2024-11-27T17:24:19.285079Z"
    }
   },
   "outputs": [
    {
     "name": "stdout",
     "output_type": "stream",
     "text": [
      "Quantity         0.182663\n",
      "InvoiceAmount   -0.056982\n",
      "dtype: float64\n"
     ]
    }
   ],
   "source": [
    "print(data[['Quantity', 'InvoiceAmount']].skew())"
   ]
  },
  {
   "cell_type": "markdown",
   "metadata": {},
   "source": [
    "Handling Outliers of Numerical Columns. \n",
    "\n",
    "We have several groups within your dataset:\n",
    "\n",
    "- Valid Orders: These are the standard transactions with normal positive values for Quantity and InvoiceAmount.\n",
    "- Canceled Orders: These orders have negative or zero values due to cancellations. This group should be treated separately.\n",
    "- Free Promotional Items: These have UnitPrice == 0.00 and might be either part of valid orders or separate special transactions."
   ]
  },
  {
   "cell_type": "code",
   "execution_count": 14,
   "metadata": {},
   "outputs": [],
   "source": [
    "# Valid Orders Group:\n",
    "# Handling Outliers and Skewness(Log-transform)\n",
    "valid_orders['log_InvoiceAmount'] = np.log1p(valid_orders['InvoiceAmount'] + 1e-9)\n",
    "valid_orders['log_Quantity'] = np.log1p(valid_orders['Quantity'] + 1e-9)\n",
    "\n",
    "# Capping values in valid orders based on percentiles\n",
    "cap_invoice_amount = valid_orders['InvoiceAmount'].quantile(0.99)\n",
    "cap_quantity = valid_orders['Quantity'].quantile(0.99)\n",
    "\n",
    "valid_orders['InvoiceAmount'] = valid_orders['InvoiceAmount'].clip(upper=cap_invoice_amount)\n",
    "valid_orders['Quantity'] = valid_orders['Quantity'].clip(upper=cap_quantity)\n",
    "\n",
    "# Q1 = valid_orders[['InvoiceAmount', 'Quantity']].quantile(0.25)\n",
    "# Q3 = valid_orders[['InvoiceAmount', 'Quantity']].quantile(0.75)\n",
    "# IQR = Q3 - Q1\n",
    "# valid_orders = valid_orders[~((valid_orders[['InvoiceAmount', 'Quantity']] < (Q1 - 1.5 * IQR)) | \n",
    "#                               (valid_orders[['InvoiceAmount', 'Quantity']] > (Q3 + 1.5 * IQR))).any(axis=1)]\n",
    "\n",
    "# Canceled Orders:\n",
    "# Masking negative values for canceled orders\n",
    "canceled_orders['InvoiceAmount'] = canceled_orders['InvoiceAmount'].clip(lower=0)\n",
    "canceled_orders['Quantity'] = canceled_orders['Quantity'].clip(lower=0)\n",
    "\n",
    "# Process free promotional items\n",
    "# free_promo = data[data['UnitPrice'] == 0].copy()\n",
    "# Recombine all groups into a single dataset\n",
    "# free_promo = free_promo.reset_index(drop=True)\n",
    "# valid_orders = valid_orders.reset_index(drop=True)\n",
    "# canceled_orders = canceled_orders.reset_index(drop=True)\n",
    "cleaned_data = pd.concat([valid_orders, canceled_orders])"
   ]
  },
  {
   "cell_type": "code",
   "execution_count": 15,
   "metadata": {},
   "outputs": [
    {
     "data": {
      "text/html": [
       "<div>\n",
       "<style scoped>\n",
       "    .dataframe tbody tr th:only-of-type {\n",
       "        vertical-align: middle;\n",
       "    }\n",
       "\n",
       "    .dataframe tbody tr th {\n",
       "        vertical-align: top;\n",
       "    }\n",
       "\n",
       "    .dataframe thead th {\n",
       "        text-align: right;\n",
       "    }\n",
       "</style>\n",
       "<table border=\"1\" class=\"dataframe\">\n",
       "  <thead>\n",
       "    <tr style=\"text-align: right;\">\n",
       "      <th></th>\n",
       "      <th>InvoiceNo</th>\n",
       "      <th>StockCode</th>\n",
       "      <th>Description</th>\n",
       "      <th>Quantity</th>\n",
       "      <th>InvoiceDate</th>\n",
       "      <th>UnitPrice</th>\n",
       "      <th>CustomerID</th>\n",
       "      <th>Country</th>\n",
       "      <th>is_canceled</th>\n",
       "      <th>is_free_promo</th>\n",
       "      <th>InvoiceAmount</th>\n",
       "      <th>log_InvoiceAmount</th>\n",
       "      <th>log_Quantity</th>\n",
       "    </tr>\n",
       "  </thead>\n",
       "  <tbody>\n",
       "    <tr>\n",
       "      <th>0</th>\n",
       "      <td>536365</td>\n",
       "      <td>85123A</td>\n",
       "      <td>white hanging heart t-light holder</td>\n",
       "      <td>6</td>\n",
       "      <td>2010-12-01 08:26:00</td>\n",
       "      <td>2.55</td>\n",
       "      <td>17850</td>\n",
       "      <td>United Kingdom</td>\n",
       "      <td>0</td>\n",
       "      <td>0</td>\n",
       "      <td>15.30</td>\n",
       "      <td>2.791165</td>\n",
       "      <td>1.945910</td>\n",
       "    </tr>\n",
       "    <tr>\n",
       "      <th>1</th>\n",
       "      <td>536365</td>\n",
       "      <td>71053</td>\n",
       "      <td>white metal lantern</td>\n",
       "      <td>6</td>\n",
       "      <td>2010-12-01 08:26:00</td>\n",
       "      <td>3.39</td>\n",
       "      <td>17850</td>\n",
       "      <td>United Kingdom</td>\n",
       "      <td>0</td>\n",
       "      <td>0</td>\n",
       "      <td>20.34</td>\n",
       "      <td>3.060583</td>\n",
       "      <td>1.945910</td>\n",
       "    </tr>\n",
       "    <tr>\n",
       "      <th>2</th>\n",
       "      <td>536365</td>\n",
       "      <td>84406B</td>\n",
       "      <td>cream cupid hearts coat hanger</td>\n",
       "      <td>8</td>\n",
       "      <td>2010-12-01 08:26:00</td>\n",
       "      <td>2.75</td>\n",
       "      <td>17850</td>\n",
       "      <td>United Kingdom</td>\n",
       "      <td>0</td>\n",
       "      <td>0</td>\n",
       "      <td>22.00</td>\n",
       "      <td>3.135494</td>\n",
       "      <td>2.197225</td>\n",
       "    </tr>\n",
       "    <tr>\n",
       "      <th>3</th>\n",
       "      <td>536365</td>\n",
       "      <td>84029G</td>\n",
       "      <td>knitted union flag hot water bottle</td>\n",
       "      <td>6</td>\n",
       "      <td>2010-12-01 08:26:00</td>\n",
       "      <td>3.39</td>\n",
       "      <td>17850</td>\n",
       "      <td>United Kingdom</td>\n",
       "      <td>0</td>\n",
       "      <td>0</td>\n",
       "      <td>20.34</td>\n",
       "      <td>3.060583</td>\n",
       "      <td>1.945910</td>\n",
       "    </tr>\n",
       "    <tr>\n",
       "      <th>4</th>\n",
       "      <td>536365</td>\n",
       "      <td>84029E</td>\n",
       "      <td>red woolly hottie white heart.</td>\n",
       "      <td>6</td>\n",
       "      <td>2010-12-01 08:26:00</td>\n",
       "      <td>3.39</td>\n",
       "      <td>17850</td>\n",
       "      <td>United Kingdom</td>\n",
       "      <td>0</td>\n",
       "      <td>0</td>\n",
       "      <td>20.34</td>\n",
       "      <td>3.060583</td>\n",
       "      <td>1.945910</td>\n",
       "    </tr>\n",
       "  </tbody>\n",
       "</table>\n",
       "</div>"
      ],
      "text/plain": [
       "  InvoiceNo StockCode                          Description  Quantity  \\\n",
       "0    536365    85123A   white hanging heart t-light holder         6   \n",
       "1    536365     71053                  white metal lantern         6   \n",
       "2    536365    84406B       cream cupid hearts coat hanger         8   \n",
       "3    536365    84029G  knitted union flag hot water bottle         6   \n",
       "4    536365    84029E       red woolly hottie white heart.         6   \n",
       "\n",
       "          InvoiceDate  UnitPrice CustomerID         Country  is_canceled  \\\n",
       "0 2010-12-01 08:26:00       2.55      17850  United Kingdom            0   \n",
       "1 2010-12-01 08:26:00       3.39      17850  United Kingdom            0   \n",
       "2 2010-12-01 08:26:00       2.75      17850  United Kingdom            0   \n",
       "3 2010-12-01 08:26:00       3.39      17850  United Kingdom            0   \n",
       "4 2010-12-01 08:26:00       3.39      17850  United Kingdom            0   \n",
       "\n",
       "   is_free_promo  InvoiceAmount  log_InvoiceAmount  log_Quantity  \n",
       "0              0          15.30           2.791165      1.945910  \n",
       "1              0          20.34           3.060583      1.945910  \n",
       "2              0          22.00           3.135494      2.197225  \n",
       "3              0          20.34           3.060583      1.945910  \n",
       "4              0          20.34           3.060583      1.945910  "
      ]
     },
     "execution_count": 15,
     "metadata": {},
     "output_type": "execute_result"
    }
   ],
   "source": [
    "cleaned_data.head()"
   ]
  },
  {
   "cell_type": "code",
   "execution_count": 16,
   "metadata": {},
   "outputs": [
    {
     "name": "stdout",
     "output_type": "stream",
     "text": [
      "log_InvoiceAmount    0.417100\n",
      "log_Quantity         0.825866\n",
      "dtype: float64\n"
     ]
    }
   ],
   "source": [
    "# Check the skewness of transformed data\n",
    "print(cleaned_data[['log_InvoiceAmount', 'log_Quantity']].skew())"
   ]
  },
  {
   "cell_type": "code",
   "execution_count": 17,
   "metadata": {},
   "outputs": [
    {
     "data": {
      "image/png": "[encoded data removed]",
      "text/plain": [
       "<Figure size 864x576 with 4 Axes>"
      ]
     },
     "metadata": {
      "needs_background": "light"
     },
     "output_type": "display_data"
    }
   ],
   "source": [
    "# Visualize distribution before and after transformations (log transformation and capping)\n",
    "fig, axes = plt.subplots(2, 2, figsize=(12, 8))\n",
    "\n",
    "# Before transformation\n",
    "sns.histplot(valid_orders['InvoiceAmount'], kde=True, ax=axes[0, 0])\n",
    "axes[0, 0].set_title('Valid Orders - InvoiceAmount')\n",
    "\n",
    "sns.boxplot(x=valid_orders['InvoiceAmount'], ax=axes[0, 1])\n",
    "axes[0, 1].set_title('Valid Orders - Boxplot InvoiceAmount')\n",
    "\n",
    "# After transformation (log)\n",
    "sns.histplot(valid_orders['log_InvoiceAmount'], kde=True, ax=axes[1, 0])\n",
    "axes[1, 0].set_title('Log Transformed InvoiceAmount')\n",
    "\n",
    "sns.boxplot(x=valid_orders['log_InvoiceAmount'], ax=axes[1, 1])\n",
    "axes[1, 1].set_title('Boxplot Log InvoiceAmount')\n",
    "\n",
    "plt.tight_layout()\n",
    "plt.show()"
   ]
  },
  {
   "cell_type": "code",
   "execution_count": 18,
   "metadata": {},
   "outputs": [
    {
     "data": {
      "text/plain": [
       "(406829, 13)"
      ]
     },
     "execution_count": 18,
     "metadata": {},
     "output_type": "execute_result"
    }
   ],
   "source": [
    "cleaned_data.shape"
   ]
  },
  {
   "cell_type": "code",
   "execution_count": 19,
   "metadata": {},
   "outputs": [
    {
     "data": {
      "text/plain": [
       "is_canceled\n",
       "0    397924\n",
       "1      8905\n",
       "Name: count, dtype: int64"
      ]
     },
     "execution_count": 19,
     "metadata": {},
     "output_type": "execute_result"
    }
   ],
   "source": [
    "cleaned_data['is_canceled'].value_counts()"
   ]
  },
  {
   "cell_type": "code",
   "execution_count": 20,
   "metadata": {},
   "outputs": [
    {
     "data": {
      "text/plain": [
       "InvoiceNo\n",
       "576339     542\n",
       "579196     533\n",
       "580727     529\n",
       "578270     442\n",
       "573576     435\n",
       "          ... \n",
       "C581484      0\n",
       "C581490      0\n",
       "C581499      0\n",
       "C581568      0\n",
       "C581569      0\n",
       "Name: count, Length: 22190, dtype: int64"
      ]
     },
     "execution_count": 20,
     "metadata": {},
     "output_type": "execute_result"
    }
   ],
   "source": [
    "valid_orders['InvoiceNo'].value_counts().sort_values(ascending=False)"
   ]
  },
  {
   "cell_type": "code",
   "execution_count": 21,
   "metadata": {},
   "outputs": [
    {
     "name": "stdout",
     "output_type": "stream",
     "text": [
      "Valid Orders Index Range: 0 397923\n",
      "Canceled Orders Index Range: 0 8904\n",
      "Original Data Index Range: 0 397923\n"
     ]
    }
   ],
   "source": [
    "print(\"Valid Orders Index Range:\", valid_orders.index.min(), valid_orders.index.max())\n",
    "print(\"Canceled Orders Index Range:\", canceled_orders.index.min(), canceled_orders.index.max())\n",
    "print(\"Original Data Index Range:\", cleaned_data.index.min(), cleaned_data.index.max())"
   ]
  },
  {
   "cell_type": "markdown",
   "metadata": {},
   "source": [
    "The distributions are far from normal distributions for our numerical columns confirming the skewness of 409 and 451 for Quantity and InvoiceAmount respectively. There's still outliers in the dataset. We will transform the values with log-transform to see whether there'll be an improvement."
   ]
  },
  {
   "cell_type": "markdown",
   "metadata": {},
   "source": [
    "Our distributions are not not perfect normal distributions but there's a significant improvement in skewness in the numerical columns, outliers have also been reduced."
   ]
  },
  {
   "cell_type": "code",
   "execution_count": 22,
   "metadata": {},
   "outputs": [
    {
     "data": {
      "text/html": [
       "<div>\n",
       "<style scoped>\n",
       "    .dataframe tbody tr th:only-of-type {\n",
       "        vertical-align: middle;\n",
       "    }\n",
       "\n",
       "    .dataframe tbody tr th {\n",
       "        vertical-align: top;\n",
       "    }\n",
       "\n",
       "    .dataframe thead th {\n",
       "        text-align: right;\n",
       "    }\n",
       "</style>\n",
       "<table border=\"1\" class=\"dataframe\">\n",
       "  <thead>\n",
       "    <tr style=\"text-align: right;\">\n",
       "      <th></th>\n",
       "      <th>InvoiceNo</th>\n",
       "      <th>StockCode</th>\n",
       "      <th>Description</th>\n",
       "      <th>Quantity</th>\n",
       "      <th>InvoiceDate</th>\n",
       "      <th>UnitPrice</th>\n",
       "      <th>CustomerID</th>\n",
       "      <th>Country</th>\n",
       "      <th>is_canceled</th>\n",
       "      <th>is_free_promo</th>\n",
       "      <th>InvoiceAmount</th>\n",
       "      <th>log_InvoiceAmount</th>\n",
       "      <th>log_Quantity</th>\n",
       "    </tr>\n",
       "  </thead>\n",
       "  <tbody>\n",
       "    <tr>\n",
       "      <th>0</th>\n",
       "      <td>536365</td>\n",
       "      <td>85123A</td>\n",
       "      <td>white hanging heart t-light holder</td>\n",
       "      <td>6</td>\n",
       "      <td>2010-12-01 08:26:00</td>\n",
       "      <td>2.55</td>\n",
       "      <td>17850</td>\n",
       "      <td>United Kingdom</td>\n",
       "      <td>0</td>\n",
       "      <td>0</td>\n",
       "      <td>15.30</td>\n",
       "      <td>2.791165</td>\n",
       "      <td>1.945910</td>\n",
       "    </tr>\n",
       "    <tr>\n",
       "      <th>1</th>\n",
       "      <td>536365</td>\n",
       "      <td>71053</td>\n",
       "      <td>white metal lantern</td>\n",
       "      <td>6</td>\n",
       "      <td>2010-12-01 08:26:00</td>\n",
       "      <td>3.39</td>\n",
       "      <td>17850</td>\n",
       "      <td>United Kingdom</td>\n",
       "      <td>0</td>\n",
       "      <td>0</td>\n",
       "      <td>20.34</td>\n",
       "      <td>3.060583</td>\n",
       "      <td>1.945910</td>\n",
       "    </tr>\n",
       "    <tr>\n",
       "      <th>2</th>\n",
       "      <td>536365</td>\n",
       "      <td>84406B</td>\n",
       "      <td>cream cupid hearts coat hanger</td>\n",
       "      <td>8</td>\n",
       "      <td>2010-12-01 08:26:00</td>\n",
       "      <td>2.75</td>\n",
       "      <td>17850</td>\n",
       "      <td>United Kingdom</td>\n",
       "      <td>0</td>\n",
       "      <td>0</td>\n",
       "      <td>22.00</td>\n",
       "      <td>3.135494</td>\n",
       "      <td>2.197225</td>\n",
       "    </tr>\n",
       "    <tr>\n",
       "      <th>3</th>\n",
       "      <td>536365</td>\n",
       "      <td>84029G</td>\n",
       "      <td>knitted union flag hot water bottle</td>\n",
       "      <td>6</td>\n",
       "      <td>2010-12-01 08:26:00</td>\n",
       "      <td>3.39</td>\n",
       "      <td>17850</td>\n",
       "      <td>United Kingdom</td>\n",
       "      <td>0</td>\n",
       "      <td>0</td>\n",
       "      <td>20.34</td>\n",
       "      <td>3.060583</td>\n",
       "      <td>1.945910</td>\n",
       "    </tr>\n",
       "    <tr>\n",
       "      <th>4</th>\n",
       "      <td>536365</td>\n",
       "      <td>84029E</td>\n",
       "      <td>red woolly hottie white heart.</td>\n",
       "      <td>6</td>\n",
       "      <td>2010-12-01 08:26:00</td>\n",
       "      <td>3.39</td>\n",
       "      <td>17850</td>\n",
       "      <td>United Kingdom</td>\n",
       "      <td>0</td>\n",
       "      <td>0</td>\n",
       "      <td>20.34</td>\n",
       "      <td>3.060583</td>\n",
       "      <td>1.945910</td>\n",
       "    </tr>\n",
       "  </tbody>\n",
       "</table>\n",
       "</div>"
      ],
      "text/plain": [
       "  InvoiceNo StockCode                          Description  Quantity  \\\n",
       "0    536365    85123A   white hanging heart t-light holder         6   \n",
       "1    536365     71053                  white metal lantern         6   \n",
       "2    536365    84406B       cream cupid hearts coat hanger         8   \n",
       "3    536365    84029G  knitted union flag hot water bottle         6   \n",
       "4    536365    84029E       red woolly hottie white heart.         6   \n",
       "\n",
       "          InvoiceDate  UnitPrice CustomerID         Country  is_canceled  \\\n",
       "0 2010-12-01 08:26:00       2.55      17850  United Kingdom            0   \n",
       "1 2010-12-01 08:26:00       3.39      17850  United Kingdom            0   \n",
       "2 2010-12-01 08:26:00       2.75      17850  United Kingdom            0   \n",
       "3 2010-12-01 08:26:00       3.39      17850  United Kingdom            0   \n",
       "4 2010-12-01 08:26:00       3.39      17850  United Kingdom            0   \n",
       "\n",
       "   is_free_promo  InvoiceAmount  log_InvoiceAmount  log_Quantity  \n",
       "0              0          15.30           2.791165      1.945910  \n",
       "1              0          20.34           3.060583      1.945910  \n",
       "2              0          22.00           3.135494      2.197225  \n",
       "3              0          20.34           3.060583      1.945910  \n",
       "4              0          20.34           3.060583      1.945910  "
      ]
     },
     "execution_count": 22,
     "metadata": {},
     "output_type": "execute_result"
    }
   ],
   "source": [
    "cleaned_data.head()"
   ]
  },
  {
   "cell_type": "code",
   "execution_count": 23,
   "metadata": {},
   "outputs": [
    {
     "name": "stdout",
     "output_type": "stream",
     "text": [
      "Updated Rows, Columns: (406829, 13)\n"
     ]
    },
    {
     "data": {
      "text/html": [
       "<div>\n",
       "<style scoped>\n",
       "    .dataframe tbody tr th:only-of-type {\n",
       "        vertical-align: middle;\n",
       "    }\n",
       "\n",
       "    .dataframe tbody tr th {\n",
       "        vertical-align: top;\n",
       "    }\n",
       "\n",
       "    .dataframe thead th {\n",
       "        text-align: right;\n",
       "    }\n",
       "</style>\n",
       "<table border=\"1\" class=\"dataframe\">\n",
       "  <thead>\n",
       "    <tr style=\"text-align: right;\">\n",
       "      <th></th>\n",
       "      <th>Quantity</th>\n",
       "      <th>UnitPrice</th>\n",
       "      <th>is_canceled</th>\n",
       "      <th>is_free_promo</th>\n",
       "      <th>InvoiceAmount</th>\n",
       "      <th>log_InvoiceAmount</th>\n",
       "      <th>log_Quantity</th>\n",
       "    </tr>\n",
       "  </thead>\n",
       "  <tbody>\n",
       "    <tr>\n",
       "      <th>count</th>\n",
       "      <td>406829.000000</td>\n",
       "      <td>406829.000000</td>\n",
       "      <td>406829.000000</td>\n",
       "      <td>406829.000000</td>\n",
       "      <td>406829.000000</td>\n",
       "      <td>3.979240e+05</td>\n",
       "      <td>397924.000000</td>\n",
       "    </tr>\n",
       "    <tr>\n",
       "      <th>mean</th>\n",
       "      <td>10.677004</td>\n",
       "      <td>3.460471</td>\n",
       "      <td>0.021889</td>\n",
       "      <td>0.000098</td>\n",
       "      <td>18.535517</td>\n",
       "      <td>2.454360e+00</td>\n",
       "      <td>1.917762</td>\n",
       "    </tr>\n",
       "    <tr>\n",
       "      <th>std</th>\n",
       "      <td>17.953548</td>\n",
       "      <td>69.315162</td>\n",
       "      <td>0.146321</td>\n",
       "      <td>0.009915</td>\n",
       "      <td>29.311329</td>\n",
       "      <td>1.020615e+00</td>\n",
       "      <td>1.002499</td>\n",
       "    </tr>\n",
       "    <tr>\n",
       "      <th>min</th>\n",
       "      <td>0.000000</td>\n",
       "      <td>0.000000</td>\n",
       "      <td>0.000000</td>\n",
       "      <td>0.000000</td>\n",
       "      <td>0.000000</td>\n",
       "      <td>1.000000e-09</td>\n",
       "      <td>0.693147</td>\n",
       "    </tr>\n",
       "    <tr>\n",
       "      <th>25%</th>\n",
       "      <td>2.000000</td>\n",
       "      <td>1.250000</td>\n",
       "      <td>0.000000</td>\n",
       "      <td>0.000000</td>\n",
       "      <td>4.200000</td>\n",
       "      <td>1.736951e+00</td>\n",
       "      <td>1.098612</td>\n",
       "    </tr>\n",
       "    <tr>\n",
       "      <th>50%</th>\n",
       "      <td>5.000000</td>\n",
       "      <td>1.950000</td>\n",
       "      <td>0.000000</td>\n",
       "      <td>0.000000</td>\n",
       "      <td>11.100000</td>\n",
       "      <td>2.549445e+00</td>\n",
       "      <td>1.945910</td>\n",
       "    </tr>\n",
       "    <tr>\n",
       "      <th>75%</th>\n",
       "      <td>12.000000</td>\n",
       "      <td>3.750000</td>\n",
       "      <td>0.000000</td>\n",
       "      <td>0.000000</td>\n",
       "      <td>19.500000</td>\n",
       "      <td>3.034953e+00</td>\n",
       "      <td>2.564949</td>\n",
       "    </tr>\n",
       "    <tr>\n",
       "      <th>max</th>\n",
       "      <td>120.000000</td>\n",
       "      <td>38970.000000</td>\n",
       "      <td>1.000000</td>\n",
       "      <td>1.000000</td>\n",
       "      <td>202.500000</td>\n",
       "      <td>1.203452e+01</td>\n",
       "      <td>11.302155</td>\n",
       "    </tr>\n",
       "  </tbody>\n",
       "</table>\n",
       "</div>"
      ],
      "text/plain": [
       "            Quantity      UnitPrice    is_canceled  is_free_promo  \\\n",
       "count  406829.000000  406829.000000  406829.000000  406829.000000   \n",
       "mean       10.677004       3.460471       0.021889       0.000098   \n",
       "std        17.953548      69.315162       0.146321       0.009915   \n",
       "min         0.000000       0.000000       0.000000       0.000000   \n",
       "25%         2.000000       1.250000       0.000000       0.000000   \n",
       "50%         5.000000       1.950000       0.000000       0.000000   \n",
       "75%        12.000000       3.750000       0.000000       0.000000   \n",
       "max       120.000000   38970.000000       1.000000       1.000000   \n",
       "\n",
       "       InvoiceAmount  log_InvoiceAmount   log_Quantity  \n",
       "count  406829.000000       3.979240e+05  397924.000000  \n",
       "mean       18.535517       2.454360e+00       1.917762  \n",
       "std        29.311329       1.020615e+00       1.002499  \n",
       "min         0.000000       1.000000e-09       0.693147  \n",
       "25%         4.200000       1.736951e+00       1.098612  \n",
       "50%        11.100000       2.549445e+00       1.945910  \n",
       "75%        19.500000       3.034953e+00       2.564949  \n",
       "max       202.500000       1.203452e+01      11.302155  "
      ]
     },
     "execution_count": 23,
     "metadata": {},
     "output_type": "execute_result"
    }
   ],
   "source": [
    "# Inspection check\n",
    "print(f'Updated Rows, Columns:', cleaned_data.shape)\n",
    "cleaned_data.describe(include='number')"
   ]
  },
  {
   "cell_type": "code",
   "execution_count": 24,
   "metadata": {
    "execution": {
     "iopub.execute_input": "2024-11-27T17:24:20.463527Z",
     "iopub.status.busy": "2024-11-27T17:24:20.463527Z",
     "iopub.status.idle": "2024-11-27T17:24:20.588522Z",
     "shell.execute_reply": "2024-11-27T17:24:20.588522Z"
    }
   },
   "outputs": [
    {
     "name": "stdout",
     "output_type": "stream",
     "text": [
      "<class 'pandas.core.frame.DataFrame'>\n",
      "Index: 406829 entries, 0 to 8904\n",
      "Data columns (total 13 columns):\n",
      " #   Column             Non-Null Count   Dtype         \n",
      "---  ------             --------------   -----         \n",
      " 0   InvoiceNo          406829 non-null  category      \n",
      " 1   StockCode          406829 non-null  category      \n",
      " 2   Description        406829 non-null  category      \n",
      " 3   Quantity           406829 non-null  int64         \n",
      " 4   InvoiceDate        406829 non-null  datetime64[ns]\n",
      " 5   UnitPrice          406829 non-null  float64       \n",
      " 6   CustomerID         406829 non-null  category      \n",
      " 7   Country            406829 non-null  category      \n",
      " 8   is_canceled        406829 non-null  int32         \n",
      " 9   is_free_promo      406829 non-null  int32         \n",
      " 10  InvoiceAmount      406829 non-null  float64       \n",
      " 11  log_InvoiceAmount  397924 non-null  float64       \n",
      " 12  log_Quantity       397924 non-null  float64       \n",
      "dtypes: category(5), datetime64[ns](1), float64(4), int32(2), int64(1)\n",
      "memory usage: 29.5 MB\n"
     ]
    }
   ],
   "source": [
    "cleaned_data.info()"
   ]
  },
  {
   "cell_type": "code",
   "execution_count": 25,
   "metadata": {
    "execution": {
     "iopub.execute_input": "2024-11-27T17:24:20.588522Z",
     "iopub.status.busy": "2024-11-27T17:24:20.588522Z",
     "iopub.status.idle": "2024-11-27T17:24:20.838510Z",
     "shell.execute_reply": "2024-11-27T17:24:20.838510Z"
    }
   },
   "outputs": [],
   "source": [
    "# Save cleaned data\n",
    "cleaned_data.to_pickle('../data/cleaned_data.pkl')"
   ]
  },
  {
   "cell_type": "markdown",
   "metadata": {},
   "source": [
    "---"
   ]
  },
  {
   "cell_type": "markdown",
   "metadata": {},
   "source": [
    "## Exploratory Data Analysis"
   ]
  },
  {
   "cell_type": "code",
   "execution_count": 26,
   "metadata": {
    "execution": {
     "iopub.execute_input": "2024-11-27T17:24:20.838510Z",
     "iopub.status.busy": "2024-11-27T17:24:20.838510Z",
     "iopub.status.idle": "2024-11-27T17:24:21.122681Z",
     "shell.execute_reply": "2024-11-27T17:24:21.122681Z"
    }
   },
   "outputs": [
    {
     "data": {
      "text/html": [
       "<div>\n",
       "<style scoped>\n",
       "    .dataframe tbody tr th:only-of-type {\n",
       "        vertical-align: middle;\n",
       "    }\n",
       "\n",
       "    .dataframe tbody tr th {\n",
       "        vertical-align: top;\n",
       "    }\n",
       "\n",
       "    .dataframe thead th {\n",
       "        text-align: right;\n",
       "    }\n",
       "</style>\n",
       "<table border=\"1\" class=\"dataframe\">\n",
       "  <thead>\n",
       "    <tr style=\"text-align: right;\">\n",
       "      <th></th>\n",
       "      <th>InvoiceNo</th>\n",
       "      <th>StockCode</th>\n",
       "      <th>Description</th>\n",
       "      <th>Quantity</th>\n",
       "      <th>InvoiceDate</th>\n",
       "      <th>UnitPrice</th>\n",
       "      <th>CustomerID</th>\n",
       "      <th>Country</th>\n",
       "      <th>is_canceled</th>\n",
       "      <th>is_free_promo</th>\n",
       "      <th>InvoiceAmount</th>\n",
       "      <th>log_InvoiceAmount</th>\n",
       "      <th>log_Quantity</th>\n",
       "    </tr>\n",
       "  </thead>\n",
       "  <tbody>\n",
       "    <tr>\n",
       "      <th>0</th>\n",
       "      <td>536365</td>\n",
       "      <td>85123A</td>\n",
       "      <td>white hanging heart t-light holder</td>\n",
       "      <td>6</td>\n",
       "      <td>2010-12-01 08:26:00</td>\n",
       "      <td>2.55</td>\n",
       "      <td>17850</td>\n",
       "      <td>United Kingdom</td>\n",
       "      <td>0</td>\n",
       "      <td>0</td>\n",
       "      <td>15.30</td>\n",
       "      <td>2.791165</td>\n",
       "      <td>1.945910</td>\n",
       "    </tr>\n",
       "    <tr>\n",
       "      <th>1</th>\n",
       "      <td>536365</td>\n",
       "      <td>71053</td>\n",
       "      <td>white metal lantern</td>\n",
       "      <td>6</td>\n",
       "      <td>2010-12-01 08:26:00</td>\n",
       "      <td>3.39</td>\n",
       "      <td>17850</td>\n",
       "      <td>United Kingdom</td>\n",
       "      <td>0</td>\n",
       "      <td>0</td>\n",
       "      <td>20.34</td>\n",
       "      <td>3.060583</td>\n",
       "      <td>1.945910</td>\n",
       "    </tr>\n",
       "    <tr>\n",
       "      <th>2</th>\n",
       "      <td>536365</td>\n",
       "      <td>84406B</td>\n",
       "      <td>cream cupid hearts coat hanger</td>\n",
       "      <td>8</td>\n",
       "      <td>2010-12-01 08:26:00</td>\n",
       "      <td>2.75</td>\n",
       "      <td>17850</td>\n",
       "      <td>United Kingdom</td>\n",
       "      <td>0</td>\n",
       "      <td>0</td>\n",
       "      <td>22.00</td>\n",
       "      <td>3.135494</td>\n",
       "      <td>2.197225</td>\n",
       "    </tr>\n",
       "    <tr>\n",
       "      <th>3</th>\n",
       "      <td>536365</td>\n",
       "      <td>84029G</td>\n",
       "      <td>knitted union flag hot water bottle</td>\n",
       "      <td>6</td>\n",
       "      <td>2010-12-01 08:26:00</td>\n",
       "      <td>3.39</td>\n",
       "      <td>17850</td>\n",
       "      <td>United Kingdom</td>\n",
       "      <td>0</td>\n",
       "      <td>0</td>\n",
       "      <td>20.34</td>\n",
       "      <td>3.060583</td>\n",
       "      <td>1.945910</td>\n",
       "    </tr>\n",
       "    <tr>\n",
       "      <th>4</th>\n",
       "      <td>536365</td>\n",
       "      <td>84029E</td>\n",
       "      <td>red woolly hottie white heart.</td>\n",
       "      <td>6</td>\n",
       "      <td>2010-12-01 08:26:00</td>\n",
       "      <td>3.39</td>\n",
       "      <td>17850</td>\n",
       "      <td>United Kingdom</td>\n",
       "      <td>0</td>\n",
       "      <td>0</td>\n",
       "      <td>20.34</td>\n",
       "      <td>3.060583</td>\n",
       "      <td>1.945910</td>\n",
       "    </tr>\n",
       "  </tbody>\n",
       "</table>\n",
       "</div>"
      ],
      "text/plain": [
       "  InvoiceNo StockCode                          Description  Quantity  \\\n",
       "0    536365    85123A   white hanging heart t-light holder         6   \n",
       "1    536365     71053                  white metal lantern         6   \n",
       "2    536365    84406B       cream cupid hearts coat hanger         8   \n",
       "3    536365    84029G  knitted union flag hot water bottle         6   \n",
       "4    536365    84029E       red woolly hottie white heart.         6   \n",
       "\n",
       "          InvoiceDate  UnitPrice CustomerID         Country  is_canceled  \\\n",
       "0 2010-12-01 08:26:00       2.55      17850  United Kingdom            0   \n",
       "1 2010-12-01 08:26:00       3.39      17850  United Kingdom            0   \n",
       "2 2010-12-01 08:26:00       2.75      17850  United Kingdom            0   \n",
       "3 2010-12-01 08:26:00       3.39      17850  United Kingdom            0   \n",
       "4 2010-12-01 08:26:00       3.39      17850  United Kingdom            0   \n",
       "\n",
       "   is_free_promo  InvoiceAmount  log_InvoiceAmount  log_Quantity  \n",
       "0              0          15.30           2.791165      1.945910  \n",
       "1              0          20.34           3.060583      1.945910  \n",
       "2              0          22.00           3.135494      2.197225  \n",
       "3              0          20.34           3.060583      1.945910  \n",
       "4              0          20.34           3.060583      1.945910  "
      ]
     },
     "execution_count": 26,
     "metadata": {},
     "output_type": "execute_result"
    }
   ],
   "source": [
    "cleaned_data.head()"
   ]
  },
  {
   "cell_type": "code",
   "execution_count": 27,
   "metadata": {},
   "outputs": [
    {
     "data": {
      "text/html": [
       "<div>\n",
       "<style scoped>\n",
       "    .dataframe tbody tr th:only-of-type {\n",
       "        vertical-align: middle;\n",
       "    }\n",
       "\n",
       "    .dataframe tbody tr th {\n",
       "        vertical-align: top;\n",
       "    }\n",
       "\n",
       "    .dataframe thead th {\n",
       "        text-align: right;\n",
       "    }\n",
       "</style>\n",
       "<table border=\"1\" class=\"dataframe\">\n",
       "  <thead>\n",
       "    <tr style=\"text-align: right;\">\n",
       "      <th></th>\n",
       "      <th>InvoiceNo</th>\n",
       "      <th>StockCode</th>\n",
       "      <th>Description</th>\n",
       "      <th>CustomerID</th>\n",
       "      <th>Country</th>\n",
       "    </tr>\n",
       "  </thead>\n",
       "  <tbody>\n",
       "    <tr>\n",
       "      <th>count</th>\n",
       "      <td>406829</td>\n",
       "      <td>406829</td>\n",
       "      <td>406829</td>\n",
       "      <td>406829</td>\n",
       "      <td>406829</td>\n",
       "    </tr>\n",
       "    <tr>\n",
       "      <th>unique</th>\n",
       "      <td>22190</td>\n",
       "      <td>3684</td>\n",
       "      <td>3877</td>\n",
       "      <td>4372</td>\n",
       "      <td>37</td>\n",
       "    </tr>\n",
       "    <tr>\n",
       "      <th>top</th>\n",
       "      <td>576339</td>\n",
       "      <td>85123A</td>\n",
       "      <td>white hanging heart t-light holder</td>\n",
       "      <td>17841</td>\n",
       "      <td>United Kingdom</td>\n",
       "    </tr>\n",
       "    <tr>\n",
       "      <th>freq</th>\n",
       "      <td>542</td>\n",
       "      <td>2077</td>\n",
       "      <td>2070</td>\n",
       "      <td>7983</td>\n",
       "      <td>361878</td>\n",
       "    </tr>\n",
       "  </tbody>\n",
       "</table>\n",
       "</div>"
      ],
      "text/plain": [
       "       InvoiceNo StockCode                         Description CustomerID  \\\n",
       "count     406829    406829                              406829     406829   \n",
       "unique     22190      3684                                3877       4372   \n",
       "top       576339    85123A  white hanging heart t-light holder      17841   \n",
       "freq         542      2077                                2070       7983   \n",
       "\n",
       "               Country  \n",
       "count           406829  \n",
       "unique              37  \n",
       "top     United Kingdom  \n",
       "freq            361878  "
      ]
     },
     "execution_count": 27,
     "metadata": {},
     "output_type": "execute_result"
    }
   ],
   "source": [
    "cleaned_data.describe(include='category')"
   ]
  },
  {
   "cell_type": "markdown",
   "metadata": {},
   "source": [
    "---"
   ]
  },
  {
   "cell_type": "markdown",
   "metadata": {},
   "source": [
    "## Customer Segmentation   "
   ]
  },
  {
   "cell_type": "markdown",
   "metadata": {},
   "source": [
    "### Calculate RFM Metrics"
   ]
  },
  {
   "cell_type": "code",
   "execution_count": 28,
   "metadata": {
    "execution": {
     "iopub.execute_input": "2024-11-27T17:24:21.122681Z",
     "iopub.status.busy": "2024-11-27T17:24:21.122681Z",
     "iopub.status.idle": "2024-11-27T17:24:21.153930Z",
     "shell.execute_reply": "2024-11-27T17:24:21.153930Z"
    }
   },
   "outputs": [
    {
     "data": {
      "text/plain": [
       "Timestamp('2011-12-10 12:50:00')"
      ]
     },
     "execution_count": 28,
     "metadata": {},
     "output_type": "execute_result"
    }
   ],
   "source": [
    "# Calculate Reference data\n",
    "reference_date = cleaned_data['InvoiceDate'].max() + pd.DateOffset(1)\n",
    "reference_date"
   ]
  },
  {
   "cell_type": "code",
   "execution_count": 29,
   "metadata": {
    "execution": {
     "iopub.execute_input": "2024-11-27T17:24:21.185156Z",
     "iopub.status.busy": "2024-11-27T17:24:21.153930Z",
     "iopub.status.idle": "2024-11-27T17:24:22.172255Z",
     "shell.execute_reply": "2024-11-27T17:24:22.173255Z"
    }
   },
   "outputs": [
    {
     "data": {
      "text/html": [
       "<div>\n",
       "<style scoped>\n",
       "    .dataframe tbody tr th:only-of-type {\n",
       "        vertical-align: middle;\n",
       "    }\n",
       "\n",
       "    .dataframe tbody tr th {\n",
       "        vertical-align: top;\n",
       "    }\n",
       "\n",
       "    .dataframe thead th {\n",
       "        text-align: right;\n",
       "    }\n",
       "</style>\n",
       "<table border=\"1\" class=\"dataframe\">\n",
       "  <thead>\n",
       "    <tr style=\"text-align: right;\">\n",
       "      <th></th>\n",
       "      <th>CustomerID</th>\n",
       "      <th>Recency</th>\n",
       "      <th>Frequency</th>\n",
       "      <th>Monetary</th>\n",
       "    </tr>\n",
       "  </thead>\n",
       "  <tbody>\n",
       "    <tr>\n",
       "      <th>0</th>\n",
       "      <td>12346</td>\n",
       "      <td>326</td>\n",
       "      <td>2</td>\n",
       "      <td>202.50</td>\n",
       "    </tr>\n",
       "    <tr>\n",
       "      <th>1</th>\n",
       "      <td>12347</td>\n",
       "      <td>2</td>\n",
       "      <td>7</td>\n",
       "      <td>4262.90</td>\n",
       "    </tr>\n",
       "    <tr>\n",
       "      <th>2</th>\n",
       "      <td>12348</td>\n",
       "      <td>75</td>\n",
       "      <td>4</td>\n",
       "      <td>1759.74</td>\n",
       "    </tr>\n",
       "    <tr>\n",
       "      <th>3</th>\n",
       "      <td>12349</td>\n",
       "      <td>19</td>\n",
       "      <td>1</td>\n",
       "      <td>1660.05</td>\n",
       "    </tr>\n",
       "    <tr>\n",
       "      <th>4</th>\n",
       "      <td>12350</td>\n",
       "      <td>310</td>\n",
       "      <td>1</td>\n",
       "      <td>334.40</td>\n",
       "    </tr>\n",
       "  </tbody>\n",
       "</table>\n",
       "</div>"
      ],
      "text/plain": [
       "  CustomerID  Recency  Frequency  Monetary\n",
       "0      12346      326          2    202.50\n",
       "1      12347        2          7   4262.90\n",
       "2      12348       75          4   1759.74\n",
       "3      12349       19          1   1660.05\n",
       "4      12350      310          1    334.40"
      ]
     },
     "execution_count": 29,
     "metadata": {},
     "output_type": "execute_result"
    }
   ],
   "source": [
    "# Calculate RFM Metrics\n",
    "rfm = cleaned_data.groupby('CustomerID').agg(\n",
    "    Recency=('InvoiceDate', lambda x: (reference_date - x.max()).days),\n",
    "    Frequency=('InvoiceNo', 'nunique'),\n",
    "    Monetary=('InvoiceAmount', 'sum')\n",
    ").reset_index()\n",
    "\n",
    "# RFM table preview\n",
    "rfm.head()"
   ]
  },
  {
   "cell_type": "code",
   "execution_count": 30,
   "metadata": {
    "execution": {
     "iopub.execute_input": "2024-11-27T17:24:22.183250Z",
     "iopub.status.busy": "2024-11-27T17:24:22.181250Z",
     "iopub.status.idle": "2024-11-27T17:24:22.205151Z",
     "shell.execute_reply": "2024-11-27T17:24:22.207150Z"
    }
   },
   "outputs": [
    {
     "name": "stdout",
     "output_type": "stream",
     "text": [
      "Recency       1.249665\n",
      "Frequency    11.412274\n",
      "Monetary     20.586448\n",
      "dtype: float64\n"
     ]
    }
   ],
   "source": [
    "# Check skewness of RFM metrics\n",
    "print(rfm[[\"Recency\", \"Frequency\", \"Monetary\"]].skew())"
   ]
  },
  {
   "cell_type": "code",
   "execution_count": 31,
   "metadata": {
    "execution": {
     "iopub.execute_input": "2024-11-27T17:24:22.220970Z",
     "iopub.status.busy": "2024-11-27T17:24:22.219144Z",
     "iopub.status.idle": "2024-11-27T17:24:22.274503Z",
     "shell.execute_reply": "2024-11-27T17:24:22.276501Z"
    }
   },
   "outputs": [
    {
     "data": {
      "text/html": [
       "<div>\n",
       "<style scoped>\n",
       "    .dataframe tbody tr th:only-of-type {\n",
       "        vertical-align: middle;\n",
       "    }\n",
       "\n",
       "    .dataframe tbody tr th {\n",
       "        vertical-align: top;\n",
       "    }\n",
       "\n",
       "    .dataframe thead th {\n",
       "        text-align: right;\n",
       "    }\n",
       "</style>\n",
       "<table border=\"1\" class=\"dataframe\">\n",
       "  <thead>\n",
       "    <tr style=\"text-align: right;\">\n",
       "      <th></th>\n",
       "      <th>CustomerID</th>\n",
       "      <th>Recency</th>\n",
       "      <th>Frequency</th>\n",
       "      <th>Monetary</th>\n",
       "      <th>Recency_log</th>\n",
       "      <th>Frequency_log</th>\n",
       "      <th>Monetary_log</th>\n",
       "    </tr>\n",
       "  </thead>\n",
       "  <tbody>\n",
       "    <tr>\n",
       "      <th>0</th>\n",
       "      <td>12346</td>\n",
       "      <td>326</td>\n",
       "      <td>2</td>\n",
       "      <td>202.50</td>\n",
       "      <td>5.79</td>\n",
       "      <td>1.10</td>\n",
       "      <td>5.32</td>\n",
       "    </tr>\n",
       "    <tr>\n",
       "      <th>1</th>\n",
       "      <td>12347</td>\n",
       "      <td>2</td>\n",
       "      <td>7</td>\n",
       "      <td>4262.90</td>\n",
       "      <td>1.10</td>\n",
       "      <td>2.08</td>\n",
       "      <td>8.36</td>\n",
       "    </tr>\n",
       "    <tr>\n",
       "      <th>2</th>\n",
       "      <td>12348</td>\n",
       "      <td>75</td>\n",
       "      <td>4</td>\n",
       "      <td>1759.74</td>\n",
       "      <td>4.33</td>\n",
       "      <td>1.61</td>\n",
       "      <td>7.47</td>\n",
       "    </tr>\n",
       "    <tr>\n",
       "      <th>3</th>\n",
       "      <td>12349</td>\n",
       "      <td>19</td>\n",
       "      <td>1</td>\n",
       "      <td>1660.05</td>\n",
       "      <td>3.00</td>\n",
       "      <td>0.69</td>\n",
       "      <td>7.42</td>\n",
       "    </tr>\n",
       "    <tr>\n",
       "      <th>4</th>\n",
       "      <td>12350</td>\n",
       "      <td>310</td>\n",
       "      <td>1</td>\n",
       "      <td>334.40</td>\n",
       "      <td>5.74</td>\n",
       "      <td>0.69</td>\n",
       "      <td>5.82</td>\n",
       "    </tr>\n",
       "  </tbody>\n",
       "</table>\n",
       "</div>"
      ],
      "text/plain": [
       "  CustomerID  Recency  Frequency  Monetary  Recency_log  Frequency_log  \\\n",
       "0      12346      326          2    202.50         5.79           1.10   \n",
       "1      12347        2          7   4262.90         1.10           2.08   \n",
       "2      12348       75          4   1759.74         4.33           1.61   \n",
       "3      12349       19          1   1660.05         3.00           0.69   \n",
       "4      12350      310          1    334.40         5.74           0.69   \n",
       "\n",
       "   Monetary_log  \n",
       "0          5.32  \n",
       "1          8.36  \n",
       "2          7.47  \n",
       "3          7.42  \n",
       "4          5.82  "
      ]
     },
     "execution_count": 31,
     "metadata": {},
     "output_type": "execute_result"
    }
   ],
   "source": [
    "# Log-Transform RFM Metrics\n",
    "rfm[[\"Recency_log\", \"Frequency_log\", \"Monetary_log\"]] = rfm[[\"Recency\", \"Frequency\", \"Monetary\"]].apply(lambda x: np.log1p(x)).round(2)\n",
    "rfm.head()"
   ]
  },
  {
   "cell_type": "code",
   "execution_count": 32,
   "metadata": {
    "execution": {
     "iopub.execute_input": "2024-11-27T17:24:22.285939Z",
     "iopub.status.busy": "2024-11-27T17:24:22.284686Z",
     "iopub.status.idle": "2024-11-27T17:24:22.304471Z",
     "shell.execute_reply": "2024-11-27T17:24:22.305469Z"
    }
   },
   "outputs": [
    {
     "data": {
      "text/plain": [
       "Recency_log     -0.361798\n",
       "Frequency_log    1.079565\n",
       "Monetary_log    -0.550620\n",
       "dtype: float64"
      ]
     },
     "execution_count": 32,
     "metadata": {},
     "output_type": "execute_result"
    }
   ],
   "source": [
    "rfm[[\"Recency_log\", \"Frequency_log\", \"Monetary_log\"]].skew()"
   ]
  },
  {
   "cell_type": "markdown",
   "metadata": {},
   "source": [
    "### RFM Scoring\n",
    "\n",
    "We assign higher scores to higher higher frequencies and likewise for higher spending and higher scores to more recent purchases"
   ]
  },
  {
   "cell_type": "code",
   "execution_count": 33,
   "metadata": {
    "execution": {
     "iopub.execute_input": "2024-11-27T17:24:22.313467Z",
     "iopub.status.busy": "2024-11-27T17:24:22.312466Z",
     "iopub.status.idle": "2024-11-27T17:24:22.354405Z",
     "shell.execute_reply": "2024-11-27T17:24:22.355403Z"
    }
   },
   "outputs": [
    {
     "data": {
      "text/html": [
       "<div>\n",
       "<style scoped>\n",
       "    .dataframe tbody tr th:only-of-type {\n",
       "        vertical-align: middle;\n",
       "    }\n",
       "\n",
       "    .dataframe tbody tr th {\n",
       "        vertical-align: top;\n",
       "    }\n",
       "\n",
       "    .dataframe thead th {\n",
       "        text-align: right;\n",
       "    }\n",
       "</style>\n",
       "<table border=\"1\" class=\"dataframe\">\n",
       "  <thead>\n",
       "    <tr style=\"text-align: right;\">\n",
       "      <th></th>\n",
       "      <th>CustomerID</th>\n",
       "      <th>Recency</th>\n",
       "      <th>Frequency</th>\n",
       "      <th>Monetary</th>\n",
       "      <th>Recency_log</th>\n",
       "      <th>Frequency_log</th>\n",
       "      <th>Monetary_log</th>\n",
       "      <th>Recency_score</th>\n",
       "      <th>Frequency_score</th>\n",
       "      <th>Monetary_score</th>\n",
       "      <th>RFM_score</th>\n",
       "    </tr>\n",
       "  </thead>\n",
       "  <tbody>\n",
       "    <tr>\n",
       "      <th>0</th>\n",
       "      <td>12346</td>\n",
       "      <td>326</td>\n",
       "      <td>2</td>\n",
       "      <td>202.50</td>\n",
       "      <td>5.79</td>\n",
       "      <td>1.10</td>\n",
       "      <td>5.32</td>\n",
       "      <td>1</td>\n",
       "      <td>2</td>\n",
       "      <td>1</td>\n",
       "      <td>4</td>\n",
       "    </tr>\n",
       "    <tr>\n",
       "      <th>1</th>\n",
       "      <td>12347</td>\n",
       "      <td>2</td>\n",
       "      <td>7</td>\n",
       "      <td>4262.90</td>\n",
       "      <td>1.10</td>\n",
       "      <td>2.08</td>\n",
       "      <td>8.36</td>\n",
       "      <td>5</td>\n",
       "      <td>4</td>\n",
       "      <td>5</td>\n",
       "      <td>14</td>\n",
       "    </tr>\n",
       "    <tr>\n",
       "      <th>2</th>\n",
       "      <td>12348</td>\n",
       "      <td>75</td>\n",
       "      <td>4</td>\n",
       "      <td>1759.74</td>\n",
       "      <td>4.33</td>\n",
       "      <td>1.61</td>\n",
       "      <td>7.47</td>\n",
       "      <td>2</td>\n",
       "      <td>3</td>\n",
       "      <td>4</td>\n",
       "      <td>9</td>\n",
       "    </tr>\n",
       "    <tr>\n",
       "      <th>3</th>\n",
       "      <td>12349</td>\n",
       "      <td>19</td>\n",
       "      <td>1</td>\n",
       "      <td>1660.05</td>\n",
       "      <td>3.00</td>\n",
       "      <td>0.69</td>\n",
       "      <td>7.42</td>\n",
       "      <td>4</td>\n",
       "      <td>1</td>\n",
       "      <td>4</td>\n",
       "      <td>9</td>\n",
       "    </tr>\n",
       "    <tr>\n",
       "      <th>4</th>\n",
       "      <td>12350</td>\n",
       "      <td>310</td>\n",
       "      <td>1</td>\n",
       "      <td>334.40</td>\n",
       "      <td>5.74</td>\n",
       "      <td>0.69</td>\n",
       "      <td>5.82</td>\n",
       "      <td>1</td>\n",
       "      <td>1</td>\n",
       "      <td>2</td>\n",
       "      <td>4</td>\n",
       "    </tr>\n",
       "  </tbody>\n",
       "</table>\n",
       "</div>"
      ],
      "text/plain": [
       "  CustomerID  Recency  Frequency  Monetary  Recency_log  Frequency_log  \\\n",
       "0      12346      326          2    202.50         5.79           1.10   \n",
       "1      12347        2          7   4262.90         1.10           2.08   \n",
       "2      12348       75          4   1759.74         4.33           1.61   \n",
       "3      12349       19          1   1660.05         3.00           0.69   \n",
       "4      12350      310          1    334.40         5.74           0.69   \n",
       "\n",
       "   Monetary_log Recency_score Frequency_score Monetary_score  RFM_score  \n",
       "0          5.32             1               2              1          4  \n",
       "1          8.36             5               4              5         14  \n",
       "2          7.47             2               3              4          9  \n",
       "3          7.42             4               1              4          9  \n",
       "4          5.82             1               1              2          4  "
      ]
     },
     "execution_count": 33,
     "metadata": {},
     "output_type": "execute_result"
    }
   ],
   "source": [
    "rfm['Recency_score'] = pd.qcut(rfm['Recency_log'], 5, labels=[5,4,3,2,1])\n",
    "rfm['Frequency_score'] = pd.qcut(rfm['Frequency_log'].rank(method='first'), 5, labels=[1,2,3,4,5])\n",
    "rfm['Monetary_score'] = pd.qcut(rfm['Monetary_log'].rank(method='first'), 5, labels=[1,2,3,4,5])\n",
    "\n",
    "# Combine scores into one\n",
    "rfm['RFM_score'] = rfm['Recency_score'].astype(int) + rfm['Frequency_score'].astype(int) + rfm['Monetary_score'].astype(int)\n",
    "\n",
    "rfm.head()"
   ]
  },
  {
   "cell_type": "markdown",
   "metadata": {},
   "source": [
    "### Value Segmentation\n",
    "We segment our customer into three value segments using quantiles on customers' RFM scores. Customer with the relatively higher scores get assigned to High-Value while the lowest scoring customers get Low-value segment."
   ]
  },
  {
   "cell_type": "code",
   "execution_count": 34,
   "metadata": {
    "execution": {
     "iopub.execute_input": "2024-11-27T17:24:22.362401Z",
     "iopub.status.busy": "2024-11-27T17:24:22.361400Z",
     "iopub.status.idle": "2024-11-27T17:24:22.393941Z",
     "shell.execute_reply": "2024-11-27T17:24:22.394943Z"
    }
   },
   "outputs": [
    {
     "data": {
      "text/html": [
       "<div>\n",
       "<style scoped>\n",
       "    .dataframe tbody tr th:only-of-type {\n",
       "        vertical-align: middle;\n",
       "    }\n",
       "\n",
       "    .dataframe tbody tr th {\n",
       "        vertical-align: top;\n",
       "    }\n",
       "\n",
       "    .dataframe thead th {\n",
       "        text-align: right;\n",
       "    }\n",
       "</style>\n",
       "<table border=\"1\" class=\"dataframe\">\n",
       "  <thead>\n",
       "    <tr style=\"text-align: right;\">\n",
       "      <th></th>\n",
       "      <th>CustomerID</th>\n",
       "      <th>Recency</th>\n",
       "      <th>Frequency</th>\n",
       "      <th>Monetary</th>\n",
       "      <th>Recency_log</th>\n",
       "      <th>Frequency_log</th>\n",
       "      <th>Monetary_log</th>\n",
       "      <th>Recency_score</th>\n",
       "      <th>Frequency_score</th>\n",
       "      <th>Monetary_score</th>\n",
       "      <th>RFM_score</th>\n",
       "      <th>Value_segment</th>\n",
       "    </tr>\n",
       "  </thead>\n",
       "  <tbody>\n",
       "    <tr>\n",
       "      <th>0</th>\n",
       "      <td>12346</td>\n",
       "      <td>326</td>\n",
       "      <td>2</td>\n",
       "      <td>202.50</td>\n",
       "      <td>5.79</td>\n",
       "      <td>1.10</td>\n",
       "      <td>5.32</td>\n",
       "      <td>1</td>\n",
       "      <td>2</td>\n",
       "      <td>1</td>\n",
       "      <td>4</td>\n",
       "      <td>Low-value</td>\n",
       "    </tr>\n",
       "    <tr>\n",
       "      <th>1</th>\n",
       "      <td>12347</td>\n",
       "      <td>2</td>\n",
       "      <td>7</td>\n",
       "      <td>4262.90</td>\n",
       "      <td>1.10</td>\n",
       "      <td>2.08</td>\n",
       "      <td>8.36</td>\n",
       "      <td>5</td>\n",
       "      <td>4</td>\n",
       "      <td>5</td>\n",
       "      <td>14</td>\n",
       "      <td>High-value</td>\n",
       "    </tr>\n",
       "    <tr>\n",
       "      <th>2</th>\n",
       "      <td>12348</td>\n",
       "      <td>75</td>\n",
       "      <td>4</td>\n",
       "      <td>1759.74</td>\n",
       "      <td>4.33</td>\n",
       "      <td>1.61</td>\n",
       "      <td>7.47</td>\n",
       "      <td>2</td>\n",
       "      <td>3</td>\n",
       "      <td>4</td>\n",
       "      <td>9</td>\n",
       "      <td>Mid-value</td>\n",
       "    </tr>\n",
       "    <tr>\n",
       "      <th>3</th>\n",
       "      <td>12349</td>\n",
       "      <td>19</td>\n",
       "      <td>1</td>\n",
       "      <td>1660.05</td>\n",
       "      <td>3.00</td>\n",
       "      <td>0.69</td>\n",
       "      <td>7.42</td>\n",
       "      <td>4</td>\n",
       "      <td>1</td>\n",
       "      <td>4</td>\n",
       "      <td>9</td>\n",
       "      <td>Mid-value</td>\n",
       "    </tr>\n",
       "    <tr>\n",
       "      <th>4</th>\n",
       "      <td>12350</td>\n",
       "      <td>310</td>\n",
       "      <td>1</td>\n",
       "      <td>334.40</td>\n",
       "      <td>5.74</td>\n",
       "      <td>0.69</td>\n",
       "      <td>5.82</td>\n",
       "      <td>1</td>\n",
       "      <td>1</td>\n",
       "      <td>2</td>\n",
       "      <td>4</td>\n",
       "      <td>Low-value</td>\n",
       "    </tr>\n",
       "  </tbody>\n",
       "</table>\n",
       "</div>"
      ],
      "text/plain": [
       "  CustomerID  Recency  Frequency  Monetary  Recency_log  Frequency_log  \\\n",
       "0      12346      326          2    202.50         5.79           1.10   \n",
       "1      12347        2          7   4262.90         1.10           2.08   \n",
       "2      12348       75          4   1759.74         4.33           1.61   \n",
       "3      12349       19          1   1660.05         3.00           0.69   \n",
       "4      12350      310          1    334.40         5.74           0.69   \n",
       "\n",
       "   Monetary_log Recency_score Frequency_score Monetary_score  RFM_score  \\\n",
       "0          5.32             1               2              1          4   \n",
       "1          8.36             5               4              5         14   \n",
       "2          7.47             2               3              4          9   \n",
       "3          7.42             4               1              4          9   \n",
       "4          5.82             1               1              2          4   \n",
       "\n",
       "  Value_segment  \n",
       "0     Low-value  \n",
       "1    High-value  \n",
       "2     Mid-value  \n",
       "3     Mid-value  \n",
       "4     Low-value  "
      ]
     },
     "execution_count": 34,
     "metadata": {},
     "output_type": "execute_result"
    }
   ],
   "source": [
    "value_labels = ['Low-value', 'Mid-value', 'High-value']\n",
    "rfm['Value_segment'] = pd.qcut(rfm['RFM_score'], q=3, labels=value_labels)\n",
    "# Preview\n",
    "rfm.head()"
   ]
  },
  {
   "cell_type": "markdown",
   "metadata": {},
   "source": [
    "### Behavioral Segmentation\n",
    "In this section we'll implement clustering technique to get possible distinct groups in the customer base. Our algorithm of choice will be K-Means clustering\n",
    "\n",
    "**1. Normalize RFM Metrics**\n",
    "\n",
    "Required of K-Means; distance based algorithms"
   ]
  },
  {
   "cell_type": "code",
   "execution_count": 35,
   "metadata": {
    "execution": {
     "iopub.execute_input": "2024-11-27T17:24:22.406829Z",
     "iopub.status.busy": "2024-11-27T17:24:22.404830Z",
     "iopub.status.idle": "2024-11-27T17:24:22.568448Z",
     "shell.execute_reply": "2024-11-27T17:24:22.567449Z"
    }
   },
   "outputs": [],
   "source": [
    "# Select revelant columns\n",
    "rfm_data = rfm[['Recency_log', 'Frequency_log', 'Monetary_log']]\n",
    "# Normalize the data\n",
    "scaler = MinMaxScaler()\n",
    "rfm_normalized = scaler.fit_transform(rfm_data)"
   ]
  },
  {
   "cell_type": "markdown",
   "metadata": {},
   "source": [
    "**2. Determine Optimal Number of Clusters (Elbow Method)**\n",
    "\n",
    "Identify where the Elbow curve flattens"
   ]
  },
  {
   "cell_type": "code",
   "execution_count": 36,
   "metadata": {
    "execution": {
     "iopub.execute_input": "2024-11-27T17:24:22.629992Z",
     "iopub.status.busy": "2024-11-27T17:24:22.628991Z",
     "iopub.status.idle": "2024-11-27T17:24:22.772565Z",
     "shell.execute_reply": "2024-11-27T17:24:22.773563Z"
    }
   },
   "outputs": [
    {
     "data": {
      "image/png": "[encoded data removed]",
      "text/plain": [
       "<Figure size 576x360 with 1 Axes>"
      ]
     },
     "metadata": {
      "needs_background": "light"
     },
     "output_type": "display_data"
    }
   ],
   "source": [
    "# 1. Elbow Method: (Plot the sum of squared distances (inertia) for different numbers of clustered)\n",
    "inertia = []\n",
    "K = range(1, 11)  # Test clusters from 1 to 10\n",
    "for k in K:\n",
    "    kmeans = KMeans(n_clusters=k, random_state=42)\n",
    "    kmeans.fit(rfm_normalized)\n",
    "    inertia.append(kmeans.inertia_)\n",
    "\n",
    "# Plot the Elbow curve\n",
    "plt.figure(figsize=(8, 5))\n",
    "plt.plot(K, inertia, marker='o')\n",
    "plt.title('Elbow Method')\n",
    "plt.xlabel('Number of Clusters')\n",
    "plt.ylabel('Inertia')\n",
    "# plt.savefig('elbowplot.png')\n",
    "plt.show()\n",
    "# OPtimal clusters = 3"
   ]
  },
  {
   "cell_type": "markdown",
   "metadata": {},
   "source": [
    "3. Perform Clustering"
   ]
  },
  {
   "cell_type": "code",
   "execution_count": 37,
   "metadata": {},
   "outputs": [],
   "source": [
    "# Perform K-Means clustering\n",
    "optimal_clusters = 3\n",
    "kmeans = KMeans(n_clusters=optimal_clusters, random_state=42)\n",
    "kmeans.fit(rfm_normalized)\n",
    "labels = kmeans.labels_\n",
    "centroids = kmeans.cluster_centers_\n",
    "rfm['Cluster'] = kmeans.predict(rfm_normalized) # Evaluation purposes"
   ]
  },
  {
   "cell_type": "code",
   "execution_count": 38,
   "metadata": {},
   "outputs": [
    {
     "data": {
      "image/png": "[encoded data removed]",
      "text/plain": [
       "<Figure size 720x576 with 2 Axes>"
      ]
     },
     "metadata": {
      "needs_background": "light"
     },
     "output_type": "display_data"
    }
   ],
   "source": [
    "# Ensure that rfm_normalized is converted to a DataFrame\n",
    "rfm_normalized_df = pd.DataFrame(rfm_normalized, columns=['Recency_score', 'Frequency_score', 'Monetary_score'])\n",
    "rfm_normalized_df['Cluster'] = rfm['Cluster']  # Add the cluster labels\n",
    "\n",
    "# Create a 3D scatter plot\n",
    "fig = plt.figure(figsize=(10, 8))\n",
    "ax = fig.add_subplot(111, projection='3d')\n",
    "\n",
    "# Scatter plot\n",
    "scatter = ax.scatter(\n",
    "    rfm_normalized[:, 0],  # Recency\n",
    "    rfm_normalized[:, 1],  # Frequency\n",
    "    rfm_normalized[:, 2],  # Monetary\n",
    "    c=rfm['Cluster'], cmap='viridis', s=50, alpha=0.7\n",
    ")\n",
    "\n",
    "# Labels and title\n",
    "ax.set_title('3D Cluster Visualization')\n",
    "ax.set_xlabel('Recency (Normalized)')\n",
    "ax.set_ylabel('Frequency (Normalized)')\n",
    "ax.set_zlabel('Monetary (Normalized)')\n",
    "plt.colorbar(scatter, label='Cluster')\n",
    "plt.show()"
   ]
  },
  {
   "cell_type": "code",
   "execution_count": 39,
   "metadata": {},
   "outputs": [
    {
     "name": "stdout",
     "output_type": "stream",
     "text": [
      "Calinski-Harabasz Score: 4595.440996343674\n"
     ]
    }
   ],
   "source": [
    "# Compute the Calinski-Harabasz score\n",
    "ch_score = calinski_harabasz_score(rfm_normalized, labels)\n",
    "\n",
    "print(f\"Calinski-Harabasz Score: {ch_score}\")"
   ]
  },
  {
   "cell_type": "markdown",
   "metadata": {},
   "source": [
    "4. Analyze the Clusters\n",
    "\n",
    "- Calculate the average Recency, Frequency, and Monetary values for each cluster to understant behavioral differences between clusters"
   ]
  },
  {
   "cell_type": "code",
   "execution_count": 40,
   "metadata": {},
   "outputs": [
    {
     "name": "stdout",
     "output_type": "stream",
     "text": [
      "         Recency_log  Frequency_log  Monetary_log\n",
      "Cluster                                          \n",
      "0           3.638551       1.372721      6.527246\n",
      "1           5.242219       0.974935      5.671446\n",
      "2           1.962483       2.248725      7.712138\n"
     ]
    }
   ],
   "source": [
    "cluster_profiles = rfm.groupby('Cluster')[['Recency_log', 'Frequency_log', 'Monetary_log']].mean()\n",
    "print(cluster_profiles)"
   ]
  },
  {
   "cell_type": "markdown",
   "metadata": {},
   "source": [
    "**Interpretation**:\n",
    "- Cluster 2: **VIP customers** shop most frequently and spend the most\n",
    "- Cluster 0: **Occasional customers** who shop moderately\n",
    "- Cluster 1: **At-risk customers** who shop rarely and spend the least."
   ]
  },
  {
   "cell_type": "markdown",
   "metadata": {},
   "source": [
    "4. Visualize the Clusters\n",
    "\n",
    "(i) **Radar Chart for Cluster Profiles**\n",
    "\n",
    "Compare average RFM metrics across clusters."
   ]
  },
  {
   "cell_type": "code",
   "execution_count": 41,
   "metadata": {},
   "outputs": [
    {
     "data": {
      "image/png": "[encoded data removed]",
      "text/plain": [
       "<Figure size 540x540 with 1 Axes>"
      ]
     },
     "metadata": {
      "needs_background": "light"
     },
     "output_type": "display_data"
    }
   ],
   "source": [
    "# Prepare data\n",
    "cluster_avg = cluster_profiles.reset_index().iloc[:, 1:].values\n",
    "categories = ['Recency_log', 'Frequency_log', 'Monetary_log']\n",
    "N = len(categories)\n",
    "\n",
    "angles = [n / float(N) * 2 * pi for n in range(N)]\n",
    "angles += angles[:1]\n",
    "\n",
    "# Plot radar chart\n",
    "fig, ax = plt.subplots(figsize=(7.5, 7.5), subplot_kw=dict(polar=True))\n",
    "for i in range(len(cluster_avg)):\n",
    "    values = cluster_avg[i].tolist()\n",
    "    values += values[:1]\n",
    "    ax.plot(angles, values, label=f'Cluster {i}')\n",
    "    ax.fill(angles, values, alpha=0.25)\n",
    "ax.set_yticks([])\n",
    "ax.set_xticks(angles[:-1])\n",
    "ax.set_xticklabels(categories)\n",
    "plt.legend(loc='center left')\n",
    "# plt.savefig('customer_behaviour_clusters.png', dpi=100)\n",
    "plt.show()"
   ]
  },
  {
   "cell_type": "code",
   "execution_count": 42,
   "metadata": {},
   "outputs": [],
   "source": [
    "cluster_labels = {\n",
    "    0: 'Ocassional Customers',\n",
    "    1: 'At Risk/Hibernating',\n",
    "    2: 'VIP Customers'    \n",
    "}\n",
    "rfm['Customer_segment'] = rfm['Cluster'].map(cluster_labels)"
   ]
  },
  {
   "cell_type": "code",
   "execution_count": 116,
   "metadata": {},
   "outputs": [
    {
     "data": {
      "image/png": "[encoded data removed]",
      "text/plain": [
       "<Figure size 432x288 with 1 Axes>"
      ]
     },
     "metadata": {
      "needs_background": "light"
     },
     "output_type": "display_data"
    }
   ],
   "source": [
    "# Validation check\n",
    "rfm['Customer_segment'].value_counts().plot(kind='bar', title='Customer Segments')\n",
    "plt.xticks(rotation=45)\n",
    "plt.show()"
   ]
  },
  {
   "cell_type": "code",
   "execution_count": 43,
   "metadata": {},
   "outputs": [
    {
     "data": {
      "text/html": [
       "<div>\n",
       "<style scoped>\n",
       "    .dataframe tbody tr th:only-of-type {\n",
       "        vertical-align: middle;\n",
       "    }\n",
       "\n",
       "    .dataframe tbody tr th {\n",
       "        vertical-align: top;\n",
       "    }\n",
       "\n",
       "    .dataframe thead th {\n",
       "        text-align: right;\n",
       "    }\n",
       "</style>\n",
       "<table border=\"1\" class=\"dataframe\">\n",
       "  <thead>\n",
       "    <tr style=\"text-align: right;\">\n",
       "      <th></th>\n",
       "      <th>CustomerID</th>\n",
       "      <th>Recency</th>\n",
       "      <th>Frequency</th>\n",
       "      <th>Monetary</th>\n",
       "      <th>Recency_log</th>\n",
       "      <th>Frequency_log</th>\n",
       "      <th>Monetary_log</th>\n",
       "      <th>Recency_score</th>\n",
       "      <th>Frequency_score</th>\n",
       "      <th>Monetary_score</th>\n",
       "      <th>RFM_score</th>\n",
       "      <th>Value_segment</th>\n",
       "      <th>Cluster</th>\n",
       "      <th>Customer_segment</th>\n",
       "    </tr>\n",
       "  </thead>\n",
       "  <tbody>\n",
       "    <tr>\n",
       "      <th>0</th>\n",
       "      <td>12346</td>\n",
       "      <td>326</td>\n",
       "      <td>2</td>\n",
       "      <td>202.50</td>\n",
       "      <td>5.79</td>\n",
       "      <td>1.10</td>\n",
       "      <td>5.32</td>\n",
       "      <td>1</td>\n",
       "      <td>2</td>\n",
       "      <td>1</td>\n",
       "      <td>4</td>\n",
       "      <td>Low-value</td>\n",
       "      <td>1</td>\n",
       "      <td>At Risk/Hibernating</td>\n",
       "    </tr>\n",
       "    <tr>\n",
       "      <th>1</th>\n",
       "      <td>12347</td>\n",
       "      <td>2</td>\n",
       "      <td>7</td>\n",
       "      <td>4262.90</td>\n",
       "      <td>1.10</td>\n",
       "      <td>2.08</td>\n",
       "      <td>8.36</td>\n",
       "      <td>5</td>\n",
       "      <td>4</td>\n",
       "      <td>5</td>\n",
       "      <td>14</td>\n",
       "      <td>High-value</td>\n",
       "      <td>2</td>\n",
       "      <td>VIP Customers</td>\n",
       "    </tr>\n",
       "    <tr>\n",
       "      <th>2</th>\n",
       "      <td>12348</td>\n",
       "      <td>75</td>\n",
       "      <td>4</td>\n",
       "      <td>1759.74</td>\n",
       "      <td>4.33</td>\n",
       "      <td>1.61</td>\n",
       "      <td>7.47</td>\n",
       "      <td>2</td>\n",
       "      <td>3</td>\n",
       "      <td>4</td>\n",
       "      <td>9</td>\n",
       "      <td>Mid-value</td>\n",
       "      <td>0</td>\n",
       "      <td>Ocassional Customers</td>\n",
       "    </tr>\n",
       "    <tr>\n",
       "      <th>3</th>\n",
       "      <td>12349</td>\n",
       "      <td>19</td>\n",
       "      <td>1</td>\n",
       "      <td>1660.05</td>\n",
       "      <td>3.00</td>\n",
       "      <td>0.69</td>\n",
       "      <td>7.42</td>\n",
       "      <td>4</td>\n",
       "      <td>1</td>\n",
       "      <td>4</td>\n",
       "      <td>9</td>\n",
       "      <td>Mid-value</td>\n",
       "      <td>0</td>\n",
       "      <td>Ocassional Customers</td>\n",
       "    </tr>\n",
       "    <tr>\n",
       "      <th>4</th>\n",
       "      <td>12350</td>\n",
       "      <td>310</td>\n",
       "      <td>1</td>\n",
       "      <td>334.40</td>\n",
       "      <td>5.74</td>\n",
       "      <td>0.69</td>\n",
       "      <td>5.82</td>\n",
       "      <td>1</td>\n",
       "      <td>1</td>\n",
       "      <td>2</td>\n",
       "      <td>4</td>\n",
       "      <td>Low-value</td>\n",
       "      <td>1</td>\n",
       "      <td>At Risk/Hibernating</td>\n",
       "    </tr>\n",
       "  </tbody>\n",
       "</table>\n",
       "</div>"
      ],
      "text/plain": [
       "  CustomerID  Recency  Frequency  Monetary  Recency_log  Frequency_log  \\\n",
       "0      12346      326          2    202.50         5.79           1.10   \n",
       "1      12347        2          7   4262.90         1.10           2.08   \n",
       "2      12348       75          4   1759.74         4.33           1.61   \n",
       "3      12349       19          1   1660.05         3.00           0.69   \n",
       "4      12350      310          1    334.40         5.74           0.69   \n",
       "\n",
       "   Monetary_log Recency_score Frequency_score Monetary_score  RFM_score  \\\n",
       "0          5.32             1               2              1          4   \n",
       "1          8.36             5               4              5         14   \n",
       "2          7.47             2               3              4          9   \n",
       "3          7.42             4               1              4          9   \n",
       "4          5.82             1               1              2          4   \n",
       "\n",
       "  Value_segment  Cluster      Customer_segment  \n",
       "0     Low-value        1   At Risk/Hibernating  \n",
       "1    High-value        2         VIP Customers  \n",
       "2     Mid-value        0  Ocassional Customers  \n",
       "3     Mid-value        0  Ocassional Customers  \n",
       "4     Low-value        1   At Risk/Hibernating  "
      ]
     },
     "execution_count": 43,
     "metadata": {},
     "output_type": "execute_result"
    }
   ],
   "source": [
    "rfm.head()"
   ]
  },
  {
   "cell_type": "code",
   "execution_count": 44,
   "metadata": {},
   "outputs": [],
   "source": [
    "df_merged = pd.merge(cleaned_data, rfm, on='CustomerID', how='left')"
   ]
  },
  {
   "cell_type": "code",
   "execution_count": 45,
   "metadata": {
    "execution": {
     "iopub.execute_input": "2024-11-27T17:24:22.780562Z",
     "iopub.status.busy": "2024-11-27T17:24:22.777562Z",
     "iopub.status.idle": "2024-11-27T17:24:23.083259Z",
     "shell.execute_reply": "2024-11-27T17:24:23.083259Z"
    }
   },
   "outputs": [],
   "source": [
    "# Save combined DataFrame\n",
    "df_merged.to_pickle('../data/rfm_data.pkl')"
   ]
  },
  {
   "cell_type": "markdown",
   "metadata": {},
   "source": [
    "## RFM Analysis"
   ]
  },
  {
   "cell_type": "code",
   "execution_count": 75,
   "metadata": {
    "execution": {
     "iopub.execute_input": "2024-11-27T17:24:23.083259Z",
     "iopub.status.busy": "2024-11-27T17:24:23.083259Z",
     "iopub.status.idle": "2024-11-27T17:24:23.348825Z",
     "shell.execute_reply": "2024-11-27T17:24:23.348825Z"
    }
   },
   "outputs": [
    {
     "data": {
      "text/plain": [
       "Index(['InvoiceNo', 'StockCode', 'Description', 'Quantity', 'InvoiceDate',\n",
       "       'UnitPrice', 'CustomerID', 'Country', 'is_canceled', 'is_free_promo',\n",
       "       'InvoiceAmount', 'log_InvoiceAmount', 'log_Quantity', 'Recency',\n",
       "       'Frequency', 'Monetary', 'Recency_log', 'Frequency_log', 'Monetary_log',\n",
       "       'Recency_score', 'Frequency_score', 'Monetary_score', 'RFM_score',\n",
       "       'Value_segment', 'Cluster', 'Customer_segment'],\n",
       "      dtype='object')"
      ]
     },
     "execution_count": 75,
     "metadata": {},
     "output_type": "execute_result"
    }
   ],
   "source": [
    "# Load combined DataFrame\n",
    "rfm_df = pd.read_pickle('../data/rfm_data.pkl')\n",
    "rfm_df.columns"
   ]
  },
  {
   "cell_type": "code",
   "execution_count": 76,
   "metadata": {
    "execution": {
     "iopub.execute_input": "2024-11-27T17:24:23.348825Z",
     "iopub.status.busy": "2024-11-27T17:24:23.348825Z",
     "iopub.status.idle": "2024-11-27T17:24:23.380074Z",
     "shell.execute_reply": "2024-11-27T17:24:23.380074Z"
    }
   },
   "outputs": [],
   "source": [
    "rfm_df[['Recency_log', 'Frequency_log', 'Monetary_log']] = rfm_df[['Recency_log', 'Frequency_log', 'Monetary_log']].astype(int)"
   ]
  },
  {
   "cell_type": "markdown",
   "metadata": {},
   "source": [
    "How are the segments distributed?"
   ]
  },
  {
   "cell_type": "code",
   "execution_count": 57,
   "metadata": {
    "execution": {
     "iopub.execute_input": "2024-11-27T17:24:23.380074Z",
     "iopub.status.busy": "2024-11-27T17:24:23.380074Z",
     "iopub.status.idle": "2024-11-27T17:24:24.653260Z",
     "shell.execute_reply": "2024-11-27T17:24:24.654298Z"
    }
   },
   "outputs": [
    {
     "name": "stdout",
     "output_type": "stream",
     "text": [
      "Value_segment\n",
      "High-value    283090\n",
      "Mid-value      86003\n",
      "Low-value      37736\n",
      "Name: count, dtype: int64\n"
     ]
    },
    {
     "data": {
      "image/png": "[encoded data removed]",
      "text/plain": [
       "<Figure size 432x288 with 1 Axes>"
      ]
     },
     "metadata": {
      "needs_background": "light"
     },
     "output_type": "display_data"
    }
   ],
   "source": [
    "# Value segments\n",
    "value_counts = rfm_df['Value_segment'].value_counts()\n",
    "print(value_counts)\n",
    "\n",
    "# Plot distribution\n",
    "sns.countplot(data=rfm_df, x='Value_segment', order=value_counts.index, palette=\"inferno\")\n",
    "plt.title('Distribution of Value Segments')\n",
    "plt.xlabel('Value Segment')\n",
    "plt.ylabel('Count')\n",
    "plt.xticks(rotation=45)\n",
    "plt.show()"
   ]
  },
  {
   "cell_type": "markdown",
   "metadata": {},
   "source": [
    "The High-Value segment comprises the largest proportion, this is a strong indication of a healthy customer base with substantial engagement and loyalty. \n",
    "\n",
    "The Low-Value segment is the smallest group accounting for roughly 10% of the customer base. This group may include at-risk customers, requiring re-engagement strategies or further segmentation to identify the most promising for retention efforts."
   ]
  },
  {
   "cell_type": "markdown",
   "metadata": {},
   "source": [
    "**Investigating compositions of Value segments by customer segments**.\n",
    "\n",
    "Group by Value_segment and calculate the percentage of Customer_segment within each value segment"
   ]
  },
  {
   "cell_type": "code",
   "execution_count": 58,
   "metadata": {
    "execution": {
     "iopub.execute_input": "2024-11-27T17:24:24.665289Z",
     "iopub.status.busy": "2024-11-27T17:24:24.664294Z",
     "iopub.status.idle": "2024-11-27T17:24:25.138255Z",
     "shell.execute_reply": "2024-11-27T17:24:25.138255Z"
    }
   },
   "outputs": [
    {
     "data": {
      "image/png": "[encoded data removed]",
      "text/plain": [
       "<Figure size 720x432 with 1 Axes>"
      ]
     },
     "metadata": {
      "needs_background": "light"
     },
     "output_type": "display_data"
    }
   ],
   "source": [
    "composition = pd.crosstab(\n",
    "    rfm['Value_segment'], \n",
    "    rfm['Customer_segment'], \n",
    "    normalize='index'\n",
    ").mul(100).reset_index()\n",
    "# print(composition.head())\n",
    "\n",
    "pivot_data = composition.set_index('Value_segment')\n",
    "pivot_data.plot(kind='bar', stacked=True, colormap='inferno', figsize=(10, 6))\n",
    "plt.title('Composition of Value Segments by Customer Segments')\n",
    "plt.xlabel('Value Segment')\n",
    "plt.ylabel('Percentage')\n",
    "plt.legend(title='Customer Segment', bbox_to_anchor=(1.05, 1), loc='upper left')\n",
    "plt.tight_layout()\n",
    "plt.xticks(rotation=45)\n",
    "plt.show()"
   ]
  },
  {
   "cell_type": "markdown",
   "metadata": {},
   "source": [
    "The stacked bars highlight the different customer-segments proportions in the value segments"
   ]
  },
  {
   "cell_type": "markdown",
   "metadata": {},
   "source": [
    "**Analyze Revenue contribution by value segment**\n",
    "\n",
    "*Objective: Understand financial value of each segment*"
   ]
  },
  {
   "cell_type": "code",
   "execution_count": 59,
   "metadata": {
    "execution": {
     "iopub.execute_input": "2024-11-27T17:24:25.138255Z",
     "iopub.status.busy": "2024-11-27T17:24:25.138255Z",
     "iopub.status.idle": "2024-11-27T17:24:25.390692Z",
     "shell.execute_reply": "2024-11-27T17:24:25.390692Z"
    }
   },
   "outputs": [
    {
     "name": "stdout",
     "output_type": "stream",
     "text": [
      "Value_segment\n",
      "Low-value      523958.881\n",
      "Mid-value     1282842.683\n",
      "High-value    5733984.100\n",
      "Name: InvoiceAmount, dtype: float64\n"
     ]
    },
    {
     "data": {
      "image/png": "[encoded data removed]",
      "text/plain": [
       "<Figure size 576x576 with 1 Axes>"
      ]
     },
     "metadata": {},
     "output_type": "display_data"
    }
   ],
   "source": [
    "revenue_by_value_seg = rfm_df.groupby('Value_segment')['InvoiceAmount'].sum()\n",
    "print(revenue_by_value_seg)\n",
    "\n",
    "# Plot a pie chart\n",
    "plt.figure(figsize=(8, 8))\n",
    "wedges, texts, autotexts = plt.pie(\n",
    "    revenue_by_value_seg, \n",
    "    labels=revenue_by_value_seg.index,  # Add segment labels\n",
    "    autopct='%1.1f%%',                 # Show percentage\n",
    "    startangle=320,                    # Rotate for better view\n",
    "    textprops={'fontsize': 14}         # Adjust text size\n",
    ")\n",
    "plt.legend(\n",
    "    wedges, revenue_by_value_seg.index,\n",
    "    title=\"Value Segments\",\n",
    "    loc=\"center left\",\n",
    "    bbox_to_anchor=(1, 0.5)\n",
    ")\n",
    "plt.title('Revenue Contribution by Value Segment', fontsize=14)\n",
    "plt.tight_layout()  # Adjust layout to fit everything\n",
    "plt.show()"
   ]
  },
  {
   "cell_type": "markdown",
   "metadata": {},
   "source": [
    "**Customer Engagement Analysis within Value Segments**"
   ]
  },
  {
   "cell_type": "code",
   "execution_count": 60,
   "metadata": {
    "execution": {
     "iopub.execute_input": "2024-11-27T17:24:25.390692Z",
     "iopub.status.busy": "2024-11-27T17:24:25.390692Z",
     "iopub.status.idle": "2024-11-27T17:24:25.421940Z",
     "shell.execute_reply": "2024-11-27T17:24:25.421940Z"
    }
   },
   "outputs": [
    {
     "data": {
      "text/plain": [
       "Value_segment\n",
       "Low-value     0.361909\n",
       "Mid-value     1.011732\n",
       "High-value    2.366555\n",
       "Name: Frequency_log, dtype: float64"
      ]
     },
     "execution_count": 60,
     "metadata": {},
     "output_type": "execute_result"
    }
   ],
   "source": [
    "engagement_by_value_seg = rfm_df.groupby('Value_segment')['Frequency_log'].mean()\n",
    "engagement_by_value_seg"
   ]
  },
  {
   "cell_type": "code",
   "execution_count": 61,
   "metadata": {
    "execution": {
     "iopub.execute_input": "2024-11-27T17:24:25.562560Z",
     "iopub.status.busy": "2024-11-27T17:24:25.562560Z",
     "iopub.status.idle": "2024-11-27T17:24:25.955263Z",
     "shell.execute_reply": "2024-11-27T17:24:25.955263Z"
    }
   },
   "outputs": [
    {
     "data": {
      "image/png": "[encoded data removed]",
      "text/plain": [
       "<Figure size 576x288 with 2 Axes>"
      ]
     },
     "metadata": {
      "needs_background": "light"
     },
     "output_type": "display_data"
    }
   ],
   "source": [
    "# Convert to DataFrame for Seaborn\n",
    "engagement_df = engagement_by_value_seg.reset_index()\n",
    "engagement_df.columns = ['Value Segment', 'Average Engagement']\n",
    "\n",
    "# Plot a heatmap\n",
    "plt.figure(figsize=(8, 4))\n",
    "sns.heatmap(\n",
    "    engagement_df.pivot_table(index='Value Segment', values='Average Engagement'), \n",
    "    annot=True, fmt=\".2f\", cmap='Blues', cbar_kws={'label': 'Average Engagement'}\n",
    ")\n",
    "plt.title('Customer Engagement Heatmap by Value Segment', fontsize=14)\n",
    "plt.tight_layout()\n",
    "plt.show()"
   ]
  },
  {
   "cell_type": "markdown",
   "metadata": {},
   "source": [
    "Higher transformed values indicate higher average engagement frequencies. The Higher-value segment still engages more frequently on average than Mid-value and Low-value.\n",
    "\n",
    "The back-transformed values provide a clearer sense of the actual engagement levels:\n",
    "\n",
    "- Low-value: Mean frequency is around 1.38, indicating very infrequent engagement.\n",
    "- Mid-value: Mean frequency is approximately 3.35, representing moderate engagement.\n",
    "- High-value: Mean frequency is about 16.52, showing a significantly higher level of engagement."
   ]
  },
  {
   "cell_type": "markdown",
   "metadata": {},
   "source": [
    "**Trend Analysis of Value Segment Behavior**\n",
    "\n",
    "*Objective: Understand how the purchasing behavior of each value segment changes over time.*"
   ]
  },
  {
   "cell_type": "code",
   "execution_count": 62,
   "metadata": {},
   "outputs": [
    {
     "data": {
      "text/plain": [
       "Index(['InvoiceNo', 'StockCode', 'Description', 'Quantity', 'InvoiceDate',\n",
       "       'UnitPrice', 'CustomerID', 'Country', 'is_canceled', 'is_free_promo',\n",
       "       'InvoiceAmount', 'log_InvoiceAmount', 'log_Quantity', 'Recency',\n",
       "       'Frequency', 'Monetary', 'Recency_log', 'Frequency_log', 'Monetary_log',\n",
       "       'Recency_score', 'Frequency_score', 'Monetary_score', 'RFM_score',\n",
       "       'Value_segment', 'Cluster', 'Customer_segment'],\n",
       "      dtype='object')"
      ]
     },
     "execution_count": 62,
     "metadata": {},
     "output_type": "execute_result"
    }
   ],
   "source": [
    "rfm_df.columns"
   ]
  },
  {
   "cell_type": "code",
   "execution_count": 63,
   "metadata": {
    "execution": {
     "iopub.execute_input": "2024-11-27T17:24:25.986514Z",
     "iopub.status.busy": "2024-11-27T17:24:25.970887Z",
     "iopub.status.idle": "2024-11-27T17:24:26.158385Z",
     "shell.execute_reply": "2024-11-27T17:24:26.158385Z"
    }
   },
   "outputs": [],
   "source": [
    "rfm_df['InvoiceDate'] = pd.to_datetime(rfm_df['InvoiceDate'])\n",
    "rfm_df.set_index('InvoiceDate', inplace=True)\n",
    "trend_by_segment = rfm_df.groupby(['Value_segment']).resample('M')['InvoiceAmount'].sum().unstack()\n",
    "# trend_by_segment"
   ]
  },
  {
   "cell_type": "code",
   "execution_count": 64,
   "metadata": {
    "execution": {
     "iopub.execute_input": "2024-11-27T17:24:26.205257Z",
     "iopub.status.busy": "2024-11-27T17:24:26.174009Z",
     "iopub.status.idle": "2024-11-27T17:24:26.975934Z",
     "shell.execute_reply": "2024-11-27T17:24:26.975934Z"
    }
   },
   "outputs": [
    {
     "data": {
      "image/png": "[encoded data removed]",
      "text/plain": [
       "<Figure size 864x432 with 1 Axes>"
      ]
     },
     "metadata": {
      "needs_background": "light"
     },
     "output_type": "display_data"
    }
   ],
   "source": [
    "# Prepare data for seaborn\n",
    "trend_df = trend_by_segment.stack().reset_index()\n",
    "trend_df.columns = ['Value Segment', 'Month', 'Invoice Amount']\n",
    "\n",
    "# Plot line plot\n",
    "plt.figure(figsize=(12, 6))\n",
    "sns.lineplot(\n",
    "    data=trend_df,\n",
    "    x='Month', y='Invoice Amount', hue='Value Segment', marker='o'\n",
    ")\n",
    "\n",
    "# Add titles and labels\n",
    "plt.title('Monthly Revenue Trend by Value Segment', fontsize=14)\n",
    "plt.xlabel('Month', fontsize=12)\n",
    "plt.ylabel('Revenue (Invoice Amount)', fontsize=12)\n",
    "\n",
    "# Improve date readability\n",
    "plt.xticks(rotation=45)\n",
    "plt.tight_layout()\n",
    "\n",
    "# Display the plot\n",
    "plt.show()"
   ]
  },
  {
   "cell_type": "markdown",
   "metadata": {},
   "source": [
    "**Churn Risk and Retention Analysis**\n",
    "\n",
    "*Objective: Evaluate the churn risk for each value segment*"
   ]
  },
  {
   "cell_type": "code",
   "execution_count": 65,
   "metadata": {
    "execution": {
     "iopub.execute_input": "2024-11-27T17:24:26.975934Z",
     "iopub.status.busy": "2024-11-27T17:24:26.975934Z",
     "iopub.status.idle": "2024-11-27T17:24:27.007183Z",
     "shell.execute_reply": "2024-11-27T17:24:27.007183Z"
    }
   },
   "outputs": [
    {
     "data": {
      "text/plain": [
       "Value_segment\n",
       "Low-value     4.309015\n",
       "Mid-value     3.359929\n",
       "High-value    1.721361\n",
       "Name: Recency_log, dtype: float64"
      ]
     },
     "execution_count": 65,
     "metadata": {},
     "output_type": "execute_result"
    }
   ],
   "source": [
    "churn_by_value_segment = rfm_df.groupby('Value_segment')['Recency_log'].mean()  # Longer recency = higher churn risk\n",
    "churn_by_value_segment"
   ]
  },
  {
   "cell_type": "code",
   "execution_count": 66,
   "metadata": {
    "execution": {
     "iopub.execute_input": "2024-11-27T17:24:27.038424Z",
     "iopub.status.busy": "2024-11-27T17:24:27.038424Z",
     "iopub.status.idle": "2024-11-27T17:24:27.309154Z",
     "shell.execute_reply": "2024-11-27T17:24:27.309154Z"
    }
   },
   "outputs": [
    {
     "data": {
      "image/png": "[encoded data removed]",
      "text/plain": [
       "<Figure size 576x360 with 1 Axes>"
      ]
     },
     "metadata": {
      "needs_background": "light"
     },
     "output_type": "display_data"
    }
   ],
   "source": [
    "# Plot a dot plot\n",
    "plt.figure(figsize=(8, 5))\n",
    "plt.scatter(churn_by_value_segment.index, churn_by_value_segment, color=['red', 'orange', 'green'], s=100)\n",
    "\n",
    "# Add labels and title\n",
    "plt.ylabel('Average Recency (Log Scale)', fontsize=12)\n",
    "plt.xlabel('Value Segment', fontsize=12)\n",
    "plt.title('Churn Risk by Value Segment', fontsize=14)\n",
    "\n",
    "# Add values near the dots\n",
    "for index, value in enumerate(churn_by_value_segment):\n",
    "    plt.text(index, value + 0.1, f'{value:.2f}', ha='center', fontsize=10)\n",
    "\n",
    "# Display the chart\n",
    "plt.tight_layout()\n",
    "plt.show()"
   ]
  },
  {
   "cell_type": "markdown",
   "metadata": {},
   "source": [
    "**Cross-Sell and Upsell Potential by Value Segment**\n",
    "\n",
    "*Objective*: Identify potential for cross-selling and upselling within value segments.\n",
    "\n",
    "*Approach*:\n",
    "For each value segment, examine which products are frequently purchased together or which higher-value products can be suggested"
   ]
  },
  {
   "cell_type": "code",
   "execution_count": 67,
   "metadata": {
    "execution": {
     "iopub.execute_input": "2024-11-27T17:24:27.322386Z",
     "iopub.status.busy": "2024-11-27T17:24:27.322386Z",
     "iopub.status.idle": "2024-11-27T17:24:27.431765Z",
     "shell.execute_reply": "2024-11-27T17:24:27.431765Z"
    }
   },
   "outputs": [
    {
     "data": {
      "text/html": [
       "<div>\n",
       "<style scoped>\n",
       "    .dataframe tbody tr th:only-of-type {\n",
       "        vertical-align: middle;\n",
       "    }\n",
       "\n",
       "    .dataframe tbody tr th {\n",
       "        vertical-align: top;\n",
       "    }\n",
       "\n",
       "    .dataframe thead th {\n",
       "        text-align: right;\n",
       "    }\n",
       "</style>\n",
       "<table border=\"1\" class=\"dataframe\">\n",
       "  <thead>\n",
       "    <tr style=\"text-align: right;\">\n",
       "      <th>Description</th>\n",
       "      <th>10 colour spaceboy pen</th>\n",
       "      <th>12 coloured party balloons</th>\n",
       "      <th>12 daisy pegs in wood box</th>\n",
       "      <th>12 egg house painted wood</th>\n",
       "      <th>12 hanging eggs hand painted</th>\n",
       "      <th>12 ivory rose peg place settings</th>\n",
       "      <th>12 message cards with envelopes</th>\n",
       "      <th>12 pencil small tube woodland</th>\n",
       "      <th>12 pencils small tube red retrospot</th>\n",
       "      <th>12 pencils small tube skull</th>\n",
       "      <th>...</th>\n",
       "      <th>zinc star t-light holder</th>\n",
       "      <th>zinc sweetheart soap dish</th>\n",
       "      <th>zinc sweetheart wire letter rack</th>\n",
       "      <th>zinc t-light holder star large</th>\n",
       "      <th>zinc t-light holder stars large</th>\n",
       "      <th>zinc t-light holder stars small</th>\n",
       "      <th>zinc top 2 door wooden shelf</th>\n",
       "      <th>zinc willie winkie candle stick</th>\n",
       "      <th>zinc wire kitchen organiser</th>\n",
       "      <th>zinc wire sweetheart letter tray</th>\n",
       "    </tr>\n",
       "    <tr>\n",
       "      <th>Value_segment</th>\n",
       "      <th></th>\n",
       "      <th></th>\n",
       "      <th></th>\n",
       "      <th></th>\n",
       "      <th></th>\n",
       "      <th></th>\n",
       "      <th></th>\n",
       "      <th></th>\n",
       "      <th></th>\n",
       "      <th></th>\n",
       "      <th></th>\n",
       "      <th></th>\n",
       "      <th></th>\n",
       "      <th></th>\n",
       "      <th></th>\n",
       "      <th></th>\n",
       "      <th></th>\n",
       "      <th></th>\n",
       "      <th></th>\n",
       "      <th></th>\n",
       "      <th></th>\n",
       "    </tr>\n",
       "  </thead>\n",
       "  <tbody>\n",
       "    <tr>\n",
       "      <th>Low-value</th>\n",
       "      <td>494.70</td>\n",
       "      <td>101.4</td>\n",
       "      <td>52.80</td>\n",
       "      <td>191.25</td>\n",
       "      <td>0.00</td>\n",
       "      <td>41.25</td>\n",
       "      <td>375.75</td>\n",
       "      <td>273.00</td>\n",
       "      <td>266.50</td>\n",
       "      <td>268.45</td>\n",
       "      <td>...</td>\n",
       "      <td>52.50</td>\n",
       "      <td>0.00</td>\n",
       "      <td>67.50</td>\n",
       "      <td>181.45</td>\n",
       "      <td>0.0</td>\n",
       "      <td>331.48</td>\n",
       "      <td>33.9</td>\n",
       "      <td>221.00</td>\n",
       "      <td>0.0</td>\n",
       "      <td>11.25</td>\n",
       "    </tr>\n",
       "    <tr>\n",
       "      <th>Mid-value</th>\n",
       "      <td>1116.05</td>\n",
       "      <td>230.1</td>\n",
       "      <td>74.25</td>\n",
       "      <td>165.75</td>\n",
       "      <td>27.04</td>\n",
       "      <td>175.00</td>\n",
       "      <td>709.05</td>\n",
       "      <td>402.35</td>\n",
       "      <td>627.25</td>\n",
       "      <td>489.45</td>\n",
       "      <td>...</td>\n",
       "      <td>370.00</td>\n",
       "      <td>29.88</td>\n",
       "      <td>206.25</td>\n",
       "      <td>462.49</td>\n",
       "      <td>0.0</td>\n",
       "      <td>763.53</td>\n",
       "      <td>0.0</td>\n",
       "      <td>324.70</td>\n",
       "      <td>57.4</td>\n",
       "      <td>47.50</td>\n",
       "    </tr>\n",
       "    <tr>\n",
       "      <th>High-value</th>\n",
       "      <td>3593.56</td>\n",
       "      <td>1041.8</td>\n",
       "      <td>412.50</td>\n",
       "      <td>1068.27</td>\n",
       "      <td>60.32</td>\n",
       "      <td>720.00</td>\n",
       "      <td>1505.40</td>\n",
       "      <td>1858.40</td>\n",
       "      <td>2902.05</td>\n",
       "      <td>3298.40</td>\n",
       "      <td>...</td>\n",
       "      <td>852.02</td>\n",
       "      <td>77.02</td>\n",
       "      <td>649.88</td>\n",
       "      <td>1252.60</td>\n",
       "      <td>22.8</td>\n",
       "      <td>2784.97</td>\n",
       "      <td>135.6</td>\n",
       "      <td>1631.25</td>\n",
       "      <td>99.4</td>\n",
       "      <td>194.49</td>\n",
       "    </tr>\n",
       "  </tbody>\n",
       "</table>\n",
       "<p>3 rows × 3877 columns</p>\n",
       "</div>"
      ],
      "text/plain": [
       "Description    10 colour spaceboy pen  12 coloured party balloons  \\\n",
       "Value_segment                                                       \n",
       "Low-value                      494.70                       101.4   \n",
       "Mid-value                     1116.05                       230.1   \n",
       "High-value                    3593.56                      1041.8   \n",
       "\n",
       "Description    12 daisy pegs in wood box  12 egg house painted wood  \\\n",
       "Value_segment                                                         \n",
       "Low-value                          52.80                     191.25   \n",
       "Mid-value                          74.25                     165.75   \n",
       "High-value                        412.50                    1068.27   \n",
       "\n",
       "Description    12 hanging eggs hand painted  12 ivory rose peg place settings  \\\n",
       "Value_segment                                                                   \n",
       "Low-value                              0.00                             41.25   \n",
       "Mid-value                             27.04                            175.00   \n",
       "High-value                            60.32                            720.00   \n",
       "\n",
       "Description    12 message cards with envelopes  12 pencil small tube woodland  \\\n",
       "Value_segment                                                                   \n",
       "Low-value                               375.75                         273.00   \n",
       "Mid-value                               709.05                         402.35   \n",
       "High-value                             1505.40                        1858.40   \n",
       "\n",
       "Description    12 pencils small tube red retrospot  \\\n",
       "Value_segment                                        \n",
       "Low-value                                   266.50   \n",
       "Mid-value                                   627.25   \n",
       "High-value                                 2902.05   \n",
       "\n",
       "Description    12 pencils small tube skull  ...  zinc star t-light holder  \\\n",
       "Value_segment                               ...                             \n",
       "Low-value                           268.45  ...                     52.50   \n",
       "Mid-value                           489.45  ...                    370.00   \n",
       "High-value                         3298.40  ...                    852.02   \n",
       "\n",
       "Description    zinc sweetheart soap dish  zinc sweetheart wire letter rack  \\\n",
       "Value_segment                                                                \n",
       "Low-value                           0.00                             67.50   \n",
       "Mid-value                          29.88                            206.25   \n",
       "High-value                         77.02                            649.88   \n",
       "\n",
       "Description    zinc t-light holder star large  \\\n",
       "Value_segment                                   \n",
       "Low-value                              181.45   \n",
       "Mid-value                              462.49   \n",
       "High-value                            1252.60   \n",
       "\n",
       "Description    zinc t-light holder stars large  \\\n",
       "Value_segment                                    \n",
       "Low-value                                  0.0   \n",
       "Mid-value                                  0.0   \n",
       "High-value                                22.8   \n",
       "\n",
       "Description    zinc t-light holder stars small  zinc top 2 door wooden shelf  \\\n",
       "Value_segment                                                                  \n",
       "Low-value                               331.48                          33.9   \n",
       "Mid-value                               763.53                           0.0   \n",
       "High-value                             2784.97                         135.6   \n",
       "\n",
       "Description    zinc willie winkie candle stick  zinc wire kitchen organiser  \\\n",
       "Value_segment                                                                 \n",
       "Low-value                               221.00                          0.0   \n",
       "Mid-value                               324.70                         57.4   \n",
       "High-value                             1631.25                         99.4   \n",
       "\n",
       "Description    zinc wire sweetheart letter tray  \n",
       "Value_segment                                    \n",
       "Low-value                                 11.25  \n",
       "Mid-value                                 47.50  \n",
       "High-value                               194.49  \n",
       "\n",
       "[3 rows x 3877 columns]"
      ]
     },
     "execution_count": 67,
     "metadata": {},
     "output_type": "execute_result"
    }
   ],
   "source": [
    "cross_sell_potential = rfm_df.groupby(['Value_segment', 'Description'])['InvoiceAmount'].sum().unstack()\n",
    "cross_sell_potential"
   ]
  },
  {
   "cell_type": "code",
   "execution_count": 68,
   "metadata": {
    "execution": {
     "iopub.execute_input": "2024-11-27T17:24:27.431765Z",
     "iopub.status.busy": "2024-11-27T17:24:27.431765Z",
     "iopub.status.idle": "2024-11-27T17:24:28.394940Z",
     "shell.execute_reply": "2024-11-27T17:24:28.395941Z"
    }
   },
   "outputs": [
    {
     "data": {
      "image/png": "[encoded data removed]",
      "text/plain": [
       "<Figure size 720x432 with 1 Axes>"
      ]
     },
     "metadata": {
      "needs_background": "light"
     },
     "output_type": "display_data"
    }
   ],
   "source": [
    "# Aggregate top 10 products by value segment\n",
    "top_products_by_segment = cross_sell_potential.sum(axis=1).nlargest(10)\n",
    "\n",
    "plt.figure(figsize=(10, 6))\n",
    "for segment in cross_sell_potential.index:\n",
    "    top_products = cross_sell_potential.loc[segment].nlargest(10)  # Top 10 products for the segment\n",
    "    plt.barh(top_products.index, top_products.values, label=segment)\n",
    "\n",
    "# Add labels and legend\n",
    "plt.xlabel('Transaction Amount', fontsize=12)\n",
    "plt.ylabel('Product Description', fontsize=12)\n",
    "plt.title('Top 10 Products by Value Segment', fontsize=14)\n",
    "plt.legend(title=\"Value Segment\", loc='upper right')\n",
    "plt.tight_layout()\n",
    "\n",
    "# Show the plot\n",
    "plt.show()"
   ]
  },
  {
   "cell_type": "markdown",
   "metadata": {},
   "source": [
    "**Geographic and Demographic Insights by Value Segment**\n",
    "\n",
    "*Objective:* \n",
    "\n",
    "Examine how location (Country) and demographic factors (e.g., age, gender, etc.) influence the purchasing behavior of each value segment.\n",
    "\n",
    "*Approach:*\n",
    "\n",
    "Look at the geographical distribution of each segment.\n",
    "For example, VIP customers may be more concentrated in certain regions or countries."
   ]
  },
  {
   "cell_type": "code",
   "execution_count": 69,
   "metadata": {
    "execution": {
     "iopub.execute_input": "2024-11-27T17:24:28.427224Z",
     "iopub.status.busy": "2024-11-27T17:24:28.425063Z",
     "iopub.status.idle": "2024-11-27T17:24:28.496527Z",
     "shell.execute_reply": "2024-11-27T17:24:28.497525Z"
    }
   },
   "outputs": [
    {
     "data": {
      "text/html": [
       "<div>\n",
       "<style scoped>\n",
       "    .dataframe tbody tr th:only-of-type {\n",
       "        vertical-align: middle;\n",
       "    }\n",
       "\n",
       "    .dataframe tbody tr th {\n",
       "        vertical-align: top;\n",
       "    }\n",
       "\n",
       "    .dataframe thead th {\n",
       "        text-align: right;\n",
       "    }\n",
       "</style>\n",
       "<table border=\"1\" class=\"dataframe\">\n",
       "  <thead>\n",
       "    <tr style=\"text-align: right;\">\n",
       "      <th>Value_segment</th>\n",
       "      <th>Low-value</th>\n",
       "      <th>Mid-value</th>\n",
       "      <th>High-value</th>\n",
       "    </tr>\n",
       "    <tr>\n",
       "      <th>Country</th>\n",
       "      <th></th>\n",
       "      <th></th>\n",
       "      <th></th>\n",
       "    </tr>\n",
       "  </thead>\n",
       "  <tbody>\n",
       "    <tr>\n",
       "      <th>Australia</th>\n",
       "      <td>401.90</td>\n",
       "      <td>4806.05</td>\n",
       "      <td>96318.58</td>\n",
       "    </tr>\n",
       "    <tr>\n",
       "      <th>Austria</th>\n",
       "      <td>1800.14</td>\n",
       "      <td>7603.26</td>\n",
       "      <td>437.98</td>\n",
       "    </tr>\n",
       "    <tr>\n",
       "      <th>Bahrain</th>\n",
       "      <td>548.40</td>\n",
       "      <td>0.00</td>\n",
       "      <td>0.00</td>\n",
       "    </tr>\n",
       "    <tr>\n",
       "      <th>Belgium</th>\n",
       "      <td>2085.25</td>\n",
       "      <td>12615.54</td>\n",
       "      <td>26495.55</td>\n",
       "    </tr>\n",
       "    <tr>\n",
       "      <th>Brazil</th>\n",
       "      <td>1143.60</td>\n",
       "      <td>0.00</td>\n",
       "      <td>0.00</td>\n",
       "    </tr>\n",
       "  </tbody>\n",
       "</table>\n",
       "</div>"
      ],
      "text/plain": [
       "Value_segment  Low-value  Mid-value  High-value\n",
       "Country                                        \n",
       "Australia         401.90    4806.05    96318.58\n",
       "Austria          1800.14    7603.26      437.98\n",
       "Bahrain           548.40       0.00        0.00\n",
       "Belgium          2085.25   12615.54    26495.55\n",
       "Brazil           1143.60       0.00        0.00"
      ]
     },
     "execution_count": 69,
     "metadata": {},
     "output_type": "execute_result"
    }
   ],
   "source": [
    "geographic_by_segment = rfm_df.groupby(['Country', 'Value_segment'])['InvoiceAmount'].sum().unstack()\n",
    "geographic_by_segment.head()"
   ]
  },
  {
   "cell_type": "code",
   "execution_count": 70,
   "metadata": {
    "execution": {
     "iopub.execute_input": "2024-11-27T17:24:28.562398Z",
     "iopub.status.busy": "2024-11-27T17:24:28.561399Z",
     "iopub.status.idle": "2024-11-27T17:24:29.175813Z",
     "shell.execute_reply": "2024-11-27T17:24:29.175813Z"
    }
   },
   "outputs": [
    {
     "data": {
      "image/png": "[encoded data removed]",
      "text/plain": [
       "<Figure size 864x576 with 1 Axes>"
      ]
     },
     "metadata": {
      "needs_background": "light"
     },
     "output_type": "display_data"
    }
   ],
   "source": [
    "# Select top 10 countries\n",
    "top_countries = geographic_by_segment.sum(axis=1).nlargest(10).index\n",
    "stacked_data = geographic_by_segment.loc[top_countries]\n",
    "\n",
    "# Plot a stacked bar chart\n",
    "stacked_data.plot(kind='barh', stacked=True, figsize=(12, 8), colormap='viridis')\n",
    "\n",
    "# Add labels and title\n",
    "plt.xlabel('Total Revenue', fontsize=12)\n",
    "plt.ylabel('Country', fontsize=12)\n",
    "plt.title('Top 10 Countries by Revenue and Value Segment', fontsize=14)\n",
    "plt.legend(title='Value Segment', bbox_to_anchor=(1.05, 1), loc='upper left')\n",
    "plt.tight_layout()\n",
    "\n",
    "# Show the chart\n",
    "plt.show()"
   ]
  },
  {
   "cell_type": "markdown",
   "metadata": {},
   "source": [
    "9. **Marketing Effectiveness by Segment**\n",
    "\n",
    "*Objective:* \n",
    "\n",
    "Evaluate how effective different marketing campaigns are for each segment.\n",
    "\n",
    "*Approach*:\n",
    "\n",
    "Compare conversion rates, response to promotions, and discount redemption rates across value segments.\n",
    "Flow to Next: Allows the retailer to refine their marketing strategies for each value segment based on the campaign's performance."
   ]
  },
  {
   "cell_type": "markdown",
   "metadata": {},
   "source": [
    "### **Analyze Value Segments Over Time**"
   ]
  },
  {
   "cell_type": "code",
   "execution_count": 71,
   "metadata": {},
   "outputs": [
    {
     "data": {
      "text/html": [
       "<div>\n",
       "<style scoped>\n",
       "    .dataframe tbody tr th:only-of-type {\n",
       "        vertical-align: middle;\n",
       "    }\n",
       "\n",
       "    .dataframe tbody tr th {\n",
       "        vertical-align: top;\n",
       "    }\n",
       "\n",
       "    .dataframe thead th {\n",
       "        text-align: right;\n",
       "    }\n",
       "</style>\n",
       "<table border=\"1\" class=\"dataframe\">\n",
       "  <thead>\n",
       "    <tr style=\"text-align: right;\">\n",
       "      <th></th>\n",
       "      <th>YearMonth</th>\n",
       "      <th>Value_segment</th>\n",
       "      <th>Recency_log</th>\n",
       "      <th>Frequency_log</th>\n",
       "      <th>Monetary_log</th>\n",
       "    </tr>\n",
       "  </thead>\n",
       "  <tbody>\n",
       "    <tr>\n",
       "      <th>0</th>\n",
       "      <td>2010-12</td>\n",
       "      <td>Low-value</td>\n",
       "      <td>4.944867</td>\n",
       "      <td>0.463607</td>\n",
       "      <td>5.175177</td>\n",
       "    </tr>\n",
       "    <tr>\n",
       "      <th>1</th>\n",
       "      <td>2010-12</td>\n",
       "      <td>Mid-value</td>\n",
       "      <td>3.939821</td>\n",
       "      <td>1.257786</td>\n",
       "      <td>6.499912</td>\n",
       "    </tr>\n",
       "    <tr>\n",
       "      <th>2</th>\n",
       "      <td>2010-12</td>\n",
       "      <td>High-value</td>\n",
       "      <td>1.671833</td>\n",
       "      <td>2.460395</td>\n",
       "      <td>8.115356</td>\n",
       "    </tr>\n",
       "    <tr>\n",
       "      <th>3</th>\n",
       "      <td>2011-01</td>\n",
       "      <td>Low-value</td>\n",
       "      <td>4.956924</td>\n",
       "      <td>0.431965</td>\n",
       "      <td>5.491143</td>\n",
       "    </tr>\n",
       "    <tr>\n",
       "      <th>4</th>\n",
       "      <td>2011-01</td>\n",
       "      <td>Mid-value</td>\n",
       "      <td>4.025101</td>\n",
       "      <td>1.134502</td>\n",
       "      <td>6.614729</td>\n",
       "    </tr>\n",
       "  </tbody>\n",
       "</table>\n",
       "</div>"
      ],
      "text/plain": [
       "  YearMonth Value_segment  Recency_log  Frequency_log  Monetary_log\n",
       "0   2010-12     Low-value     4.944867       0.463607      5.175177\n",
       "1   2010-12     Mid-value     3.939821       1.257786      6.499912\n",
       "2   2010-12    High-value     1.671833       2.460395      8.115356\n",
       "3   2011-01     Low-value     4.956924       0.431965      5.491143\n",
       "4   2011-01     Mid-value     4.025101       1.134502      6.614729"
      ]
     },
     "execution_count": 71,
     "metadata": {},
     "output_type": "execute_result"
    }
   ],
   "source": [
    "# Extract year and month for analysis\n",
    "rfm_df.index = pd.to_datetime(rfm_df.index) # since rfm_df has InvoiceDate as the index \n",
    "rfm_df['YearMonth'] = rfm_df.index.to_period('M')\n",
    "rfm_df[['YearMonth']].head()\n",
    "\n",
    "# Aggregate RFM metrics by time\n",
    "rfm_trends = rfm_df.groupby(['YearMonth', 'Value_segment'])[['Recency_log', 'Frequency_log', 'Monetary_log']].mean().reset_index()\n",
    "\n",
    "rfm_trends.head()"
   ]
  },
  {
   "cell_type": "code",
   "execution_count": 72,
   "metadata": {},
   "outputs": [
    {
     "data": {
      "image/png": "[encoded data removed]",
      "text/plain": [
       "<Figure size 1296x360 with 3 Axes>"
      ]
     },
     "metadata": {
      "needs_background": "light"
     },
     "output_type": "display_data"
    }
   ],
   "source": [
    "# Convert YearMonth to string for plotting\n",
    "rfm_trends['YearMonth'] = rfm_trends['YearMonth'].astype(str)\n",
    "# Plot trends for each metric\n",
    "metrics =['Recency_log', 'Frequency_log', 'Monetary_log']\n",
    "\n",
    "fig, axes = plt.subplots(1, 3, figsize=(18, 5))\n",
    "\n",
    "for i, metric in enumerate(metrics):\n",
    "    sns.lineplot(data=rfm_trends, x='YearMonth', y=metric, hue='Value_segment', ax=axes[i])\n",
    "    axes[i].set_title(f'{metric} Trends Over Time')\n",
    "    axes[i].set_xlabel('Time')\n",
    "    axes[i].set_ylabel(metric)\n",
    "    axes[i].tick_params(axis='x', rotation=45)\n",
    "\n",
    "plt.tight_layout()\n",
    "plt.show()"
   ]
  },
  {
   "cell_type": "markdown",
   "metadata": {},
   "source": [
    "**Analyze Customer Value-Segment Transitions Over Time**"
   ]
  },
  {
   "cell_type": "code",
   "execution_count": 73,
   "metadata": {},
   "outputs": [
    {
     "data": {
      "image/png": "[encoded data removed]",
      "text/plain": [
       "<Figure size 576x432 with 2 Axes>"
      ]
     },
     "metadata": {
      "needs_background": "light"
     },
     "output_type": "display_data"
    }
   ],
   "source": [
    "# Create snapshots for two time periods\n",
    "snapshot_1 = rfm_df[rfm_df['YearMonth'] == '2010-12'][['CustomerID', 'Value_segment']].rename(columns={'Value_segment': 'Segment_Dec'})\n",
    "snapshot_2 = rfm_df[rfm_df['YearMonth'] == '2011-06'][['CustomerID', 'Value_segment']].rename(columns={'Value_segment': 'Segment_Feb'})\n",
    "\n",
    "# Merge snapshots to observe transitions\n",
    "transitions = snapshot_1.merge(snapshot_2, on='CustomerID', how='inner')\n",
    "\n",
    "# Generate transition matrix\n",
    "transition_matrix = pd.crosstab(transitions['Segment_Dec'], transitions['Segment_Feb'], normalize='index') * 100\n",
    "\n",
    "# Visualize the transition matrix\n",
    "plt.figure(figsize=(8, 6))\n",
    "sns.heatmap(transition_matrix, annot=True, fmt=\".2f\", cmap=\"coolwarm\")\n",
    "plt.title('Value Segment Transition Matrix (%)')\n",
    "plt.xlabel('Dec Segments')\n",
    "plt.ylabel('Feb Segments')\n",
    "plt.show()\n"
   ]
  },
  {
   "cell_type": "markdown",
   "metadata": {},
   "source": [
    "**Analyzing Proportion of Each Segment Over Time**"
   ]
  },
  {
   "cell_type": "code",
   "execution_count": 74,
   "metadata": {},
   "outputs": [
    {
     "data": {
      "image/png": "[encoded data removed]",
      "text/plain": [
       "<Figure size 864x432 with 1 Axes>"
      ]
     },
     "metadata": {
      "needs_background": "light"
     },
     "output_type": "display_data"
    }
   ],
   "source": [
    "# Converting period column to string for plotting\n",
    "rfm_df['YearMonth'] = rfm_df['YearMonth'].astype(str)\n",
    "# Create a crosstab of Value_segment by YearMonth\n",
    "value_segment_crosstab = pd.crosstab(\n",
    "    rfm_df['YearMonth'], \n",
    "    rfm_df['Value_segment'], \n",
    "    normalize='index'  # Normalize within each time period (row-wise)\n",
    ").mul(100)  # Convert proportions to percentages\n",
    "\n",
    "# Reset index for plotting\n",
    "value_segment_crosstab = value_segment_crosstab.reset_index()\n",
    "\n",
    "# Melt the DataFrame for Seaborn compatibility\n",
    "segment_distribution = value_segment_crosstab.melt(\n",
    "    id_vars='YearMonth', \n",
    "    var_name='Value_segment', \n",
    "    value_name='Percentage'\n",
    ")\n",
    "\n",
    "# Plot the segment distribution over time\n",
    "plt.figure(figsize=(12, 6))\n",
    "sns.lineplot(\n",
    "    data=segment_distribution, \n",
    "    x='YearMonth', y='Percentage', hue='Value_segment', marker='o'\n",
    ")\n",
    "plt.title('Value Segment Distribution Over Time')\n",
    "plt.xlabel('Time')\n",
    "plt.ylabel('Percentage of Customers')\n",
    "plt.xticks(rotation=45)\n",
    "plt.show()"
   ]
  },
  {
   "cell_type": "markdown",
   "metadata": {},
   "source": [
    "## **Customer Segment Analysis**"
   ]
  },
  {
   "cell_type": "markdown",
   "metadata": {},
   "source": [
    "**1. Revenue Contribution by Customer Segment**"
   ]
  },
  {
   "cell_type": "code",
   "execution_count": 93,
   "metadata": {},
   "outputs": [
    {
     "data": {
      "image/png": "[encoded data removed]",
      "text/plain": [
       "<Figure size 576x432 with 1 Axes>"
      ]
     },
     "metadata": {},
     "output_type": "display_data"
    }
   ],
   "source": [
    "# Reset index to have InvoiceDate as column\n",
    "# rfm_df.reset_index(inplace=True)\n",
    "\n",
    "# Group data by Customer Segment to calculate revenue\n",
    "revenue_by_segment = rfm_df.groupby('Customer_segment')['InvoiceAmount'].sum()\n",
    "\n",
    "# Plot a pie chart\n",
    "plt.figure(figsize=(8, 6))\n",
    "revenue_by_segment.plot(kind='pie', autopct='%1.1f%%', startangle=55, cmap='Blues_r', legend=False)\n",
    "plt.title('Revenue Contribution by Customer Segment')\n",
    "plt.ylabel('')  # Remove default y-axis label\n",
    "plt.show()"
   ]
  },
  {
   "cell_type": "markdown",
   "metadata": {},
   "source": [
    "**2. Customer Rentention and Churn Risk**\n",
    "\n",
    "Analyze customer retention and identify high-risk segments using `Recency`"
   ]
  },
  {
   "cell_type": "code",
   "execution_count": 76,
   "metadata": {},
   "outputs": [
    {
     "data": {
      "image/png": "[encoded data removed]",
      "text/plain": [
       "<Figure size 576x432 with 1 Axes>"
      ]
     },
     "metadata": {
      "needs_background": "light"
     },
     "output_type": "display_data"
    }
   ],
   "source": [
    "# Calculate average recency for each segment\n",
    "recency_by_segment = rfm_df.groupby('Customer_segment')['Recency_log'].mean()\n",
    "\n",
    "# Bar plot to visualize\n",
    "plt.figure(figsize=(8, 6))\n",
    "sns.barplot(x=recency_by_segment.index, y=recency_by_segment.values, palette='viridis')\n",
    "plt.title('Average Recency by Customer Segment')\n",
    "plt.ylabel('Average Recency (Days)')\n",
    "plt.xlabel('Customer Segment')\n",
    "plt.xticks(rotation=45)\n",
    "plt.show()"
   ]
  },
  {
   "cell_type": "code",
   "execution_count": 77,
   "metadata": {},
   "outputs": [],
   "source": [
    "# recency_by_segment.sort_values().plot(kind='barh', color='skyblue', figsize=(8, 6))\n",
    "# plt.title('Average Recency by Customer Segment')\n",
    "# plt.xlabel('Average Recency (Days)')\n",
    "# plt.ylabel('Customer Segment')\n",
    "# plt.show()"
   ]
  },
  {
   "cell_type": "markdown",
   "metadata": {},
   "source": [
    "**3. Product Preference by Segment**"
   ]
  },
  {
   "cell_type": "code",
   "execution_count": 79,
   "metadata": {},
   "outputs": [],
   "source": [
    "# # Select one segment (example: 'VIP Customers')\n",
    "# cluster_0 = top_products_by_segment[top_products_by_segment['Customer_segment'] == 'VIP Customers']\n",
    "\n",
    "# # Plot horizontal bar graph\n",
    "# plt.barh(cluster_0['Description'], cluster_0['InvoiceAmount'], color='cornflowerblue')\n",
    "# plt.title('Top 3 Products for VIP Customers')\n",
    "# plt.xlabel('Revenue')\n",
    "# plt.ylabel('Products')\n",
    "# plt.gca().invert_yaxis()  # Optional: Invert y-axis to display the highest revenue at the top\n",
    "# # plt.tight_layout()  # Adjust layout to avoid overlap\n",
    "# plt.show()"
   ]
  },
  {
   "cell_type": "code",
   "execution_count": null,
   "metadata": {},
   "outputs": [],
   "source": [
    "sns.catplot(\n",
    "    data=top_products_by_segment, kind='bar',\n",
    "    x='Customer_segment', y='TransactionAmount', hue='Description', palette='Set2', height=6, aspect=2\n",
    ")\n",
    "plt.title('Top Products by Customer Segment')\n",
    "plt.xlabel('Customer Segment')\n",
    "plt.ylabel('Revenue')\n",
    "plt.show()\n"
   ]
  },
  {
   "cell_type": "markdown",
   "metadata": {},
   "source": [
    "**4. Geographics Insights**\n",
    "\n",
    "Examine Segment behavior across countries"
   ]
  },
  {
   "cell_type": "code",
   "execution_count": null,
   "metadata": {},
   "outputs": [],
   "source": [
    "# Group by Country and Segment to find revenue contribution\n",
    "geo_segment_data = rfm_df.groupby(['Country', 'Customer_segment'])['TransactionAmount'].sum().unstack()\n",
    "\n",
    "# Plot stacked bar chart\n",
    "geo_segment_data.plot(kind='bar', stacked=True, figsize=(12, 8), colormap='tab10')\n",
    "plt.title('Geographic Revenue by Customer Segment')\n",
    "plt.xlabel('Country')\n",
    "plt.ylabel('Revenue')\n",
    "plt.xticks(rotation=90)\n",
    "plt.legend(title='Customer Segment')\n",
    "plt.show()"
   ]
  },
  {
   "cell_type": "code",
   "execution_count": null,
   "metadata": {},
   "outputs": [],
   "source": [
    "# Geographical Heatmap\n",
    "import plotly.express as px\n",
    "\n",
    "geo_summary = rfm_df.groupby('Country')['TransactionAmount'].sum().reset_index()\n",
    "fig = px.choropleth(\n",
    "    geo_summary, locations='Country', locationmode='country names',\n",
    "    color='TransactionAmount', color_continuous_scale='Blues',\n",
    "    title='Revenue by Country'\n",
    ")\n",
    "fig.show()"
   ]
  },
  {
   "cell_type": "markdown",
   "metadata": {},
   "source": [
    "**5. Purchase Patterns Over Time**"
   ]
  },
  {
   "cell_type": "code",
   "execution_count": null,
   "metadata": {},
   "outputs": [],
   "source": [
    "# Group data by YearMonth and Segment to analyze trends\n",
    "monthly_trend = rfm_df.groupby(['YearMonth', 'Customer_segment'])['TransactionAmount'].sum().unstack()\n",
    "\n",
    "# Plot line chart\n",
    "plt.figure(figsize=(10, 6))\n",
    "for column in monthly_trend:\n",
    "    plt.plot(monthly_trend.index, monthly_trend[column], label=column)\n",
    "plt.title('Monthly Purchase Trends by Customer Segment')\n",
    "plt.xlabel('Month')\n",
    "plt.ylabel('Revenue')\n",
    "plt.legend(title='Customer Segment')\n",
    "plt.xticks(rotation=45)\n",
    "plt.show()"
   ]
  },
  {
   "cell_type": "code",
   "execution_count": null,
   "metadata": {},
   "outputs": [],
   "source": [
    "# Highlight seasonality using Area charts\n",
    "monthly_trend.plot(kind='area', stacked=True, colormap='viridis', figsize=(10, 6), alpha=0.8)\n",
    "plt.title('Monthly Revenue Trends by Customer Segment')\n",
    "plt.xlabel('Year-Month')\n",
    "plt.ylabel('Revenue')\n",
    "plt.show()"
   ]
  },
  {
   "cell_type": "markdown",
   "metadata": {},
   "source": [
    "**6. Customer Lifetime Value**"
   ]
  },
  {
   "cell_type": "code",
   "execution_count": null,
   "metadata": {},
   "outputs": [],
   "source": [
    "# Calculate average CLV for each segment\n",
    "clv_by_segment = rfm_df.groupby('Customer_segment')['Monetary_log'].mean()\n",
    "\n",
    "# Plot CLV distribution\n",
    "plt.figure(figsize=(8, 6))\n",
    "sns.barplot(x=clv_by_segment.index, y=clv_by_segment.values, palette='coolwarm')\n",
    "plt.title('Customer Lifetime Value by Segment')\n",
    "plt.xlabel('Customer Segment')\n",
    "plt.ylabel('Average CLV')\n",
    "plt.show()"
   ]
  },
  {
   "cell_type": "markdown",
   "metadata": {},
   "source": [
    "**7. Cross-sell and Upsell Opportunities**\n",
    "\n",
    "Uncover patterns in product purchases for cross-sell opportunities"
   ]
  },
  {
   "cell_type": "code",
   "execution_count": null,
   "metadata": {},
   "outputs": [],
   "source": [
    "# # Generate a basket matrix\n",
    "# basket = rfm_df.groupby(['CustomerID', 'Description'])['Quantity'].sum().unstack().fillna(0)\n",
    "# basket = basket.applymap(lambda x: 1 if x > 0 else 0)\n",
    "\n",
    "# # Apply apriori algorithm\n",
    "# frequent_itemsets = apriori(basket, min_support=0.05, use_colnames=True)\n",
    "# rules = association_rules(frequent_itemsets, metric=\"lift\", min_threshold=1.5)\n",
    "\n",
    "# # Display top 5 rules\n",
    "# print(rules[['antecedents', 'consequents', 'support', 'confidence', 'lift']].head())"
   ]
  },
  {
   "cell_type": "code",
   "execution_count": null,
   "metadata": {},
   "outputs": [],
   "source": [
    "# from mlxtend.frequent_patterns import fpgrowth, association_rules\n",
    "\n",
    "# # Generate the basket matrix\n",
    "# basket = rfm_df.groupby(['CustomerID', 'Description'])['Quantity'].sum().unstack().fillna(0)\n",
    "# basket = basket.applymap(lambda x: 1 if x > 0 else 0)\n",
    "\n",
    "# # Apply fp-growth\n",
    "# frequent_itemsets = fpgrowth(basket, min_support=0.05, use_colnames=True)\n",
    "\n",
    "# # Generate association rules\n",
    "# rules = association_rules(frequent_itemsets, metric=\"lift\", min_threshold=1.5)\n",
    "\n",
    "# # Display the top 5 rules\n",
    "# print(rules[['antecedents', 'consequents', 'support', 'confidence', 'lift']].head())"
   ]
  },
  {
   "cell_type": "code",
   "execution_count": null,
   "metadata": {},
   "outputs": [],
   "source": [
    "# # Cross-selling patterns\n",
    "# G = nx.from_pandas_edgelist(rules, source='antecedents', target='consequents', edge_attr='lift')\n",
    "# plt.figure(figsize=(10, 8))\n",
    "# nx.draw(G, with_labels=True, node_size=3000, node_color='skyblue', font_size=10, font_color='black')\n",
    "# plt.title('Cross-Sell Opportunities')\n",
    "# plt.show()"
   ]
  },
  {
   "cell_type": "markdown",
   "metadata": {},
   "source": [
    "**10. Final Recommendations for Action**\n",
    "\n",
    "*Objective:* \n",
    "\n",
    "Provide actionable insights based on the combined analysis.\n",
    "\n",
    "*Approach:*\n",
    "\n",
    "Use the findings to create a segment-based marketing strategy, targeting each value segment with appropriate strategies like loyalty rewards, re-engagement campaigns, or personalized offers.\n",
    "Flow to Next: This can result in ongoing tracking of performance, where you'll reanalyze your value segments periodically to refine strategies."
   ]
  }
 ],
 "metadata": {
  "kernelspec": {
   "display_name": "learn-env",
   "language": "python",
   "name": "python3"
  },
  "language_info": {
   "codemirror_mode": {
    "name": "ipython",
    "version": 3
   },
   "file_extension": ".py",
   "mimetype": "text/x-python",
   "name": "python",
   "nbconvert_exporter": "python",
   "pygments_lexer": "ipython3",
   "version": "3.8.5"
  }
 },
 "nbformat": 4,
 "nbformat_minor": 2
}
