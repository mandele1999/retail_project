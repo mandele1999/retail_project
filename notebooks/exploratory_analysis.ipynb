{
 "cells": [
  {
   "cell_type": "code",
   "execution_count": 1,
   "metadata": {
    "execution": {
     "iopub.execute_input": "2024-11-27T17:24:09.664240Z",
     "iopub.status.busy": "2024-11-27T17:24:09.664240Z",
     "iopub.status.idle": "2024-11-27T17:24:12.725922Z",
     "shell.execute_reply": "2024-11-27T17:24:12.725922Z"
    }
   },
   "outputs": [],
   "source": [
    "# Import libraries\n",
    "import pandas as pd\n",
    "import numpy as np\n",
    "\n",
    "from datetime import datetime\n",
    "from sklearn.model_selection import train_test_split\n",
    "from sklearn.ensemble import RandomForestClassifier\n",
    "\n",
    "import matplotlib.pyplot as plt\n",
    "import seaborn as sns\n",
    "sns.set(style=\"whitegrid\")\n",
    "\n",
    "import warnings\n",
    "warnings.filterwarnings('ignore')"
   ]
  },
  {
   "cell_type": "markdown",
   "metadata": {},
   "source": [
    "# **1. Data Cleaning and Preparation**"
   ]
  },
  {
   "cell_type": "code",
   "execution_count": 2,
   "metadata": {
    "execution": {
     "iopub.execute_input": "2024-11-27T17:24:12.725922Z",
     "iopub.status.busy": "2024-11-27T17:24:12.725922Z",
     "iopub.status.idle": "2024-11-27T17:24:13.683014Z",
     "shell.execute_reply": "2024-11-27T17:24:13.683014Z"
    }
   },
   "outputs": [
    {
     "name": "stdout",
     "output_type": "stream",
     "text": [
      "Rows, Columns count (541909, 8)\n"
     ]
    },
    {
     "data": {
      "text/html": [
       "<div>\n",
       "<style scoped>\n",
       "    .dataframe tbody tr th:only-of-type {\n",
       "        vertical-align: middle;\n",
       "    }\n",
       "\n",
       "    .dataframe tbody tr th {\n",
       "        vertical-align: top;\n",
       "    }\n",
       "\n",
       "    .dataframe thead th {\n",
       "        text-align: right;\n",
       "    }\n",
       "</style>\n",
       "<table border=\"1\" class=\"dataframe\">\n",
       "  <thead>\n",
       "    <tr style=\"text-align: right;\">\n",
       "      <th></th>\n",
       "      <th>InvoiceNo</th>\n",
       "      <th>StockCode</th>\n",
       "      <th>Description</th>\n",
       "      <th>Quantity</th>\n",
       "      <th>InvoiceDate</th>\n",
       "      <th>UnitPrice</th>\n",
       "      <th>CustomerID</th>\n",
       "      <th>Country</th>\n",
       "    </tr>\n",
       "  </thead>\n",
       "  <tbody>\n",
       "    <tr>\n",
       "      <th>0</th>\n",
       "      <td>536365</td>\n",
       "      <td>85123A</td>\n",
       "      <td>WHITE HANGING HEART T-LIGHT HOLDER</td>\n",
       "      <td>6</td>\n",
       "      <td>12/1/10 8:26</td>\n",
       "      <td>2.55</td>\n",
       "      <td>17850.0</td>\n",
       "      <td>United Kingdom</td>\n",
       "    </tr>\n",
       "    <tr>\n",
       "      <th>1</th>\n",
       "      <td>536365</td>\n",
       "      <td>71053</td>\n",
       "      <td>WHITE METAL LANTERN</td>\n",
       "      <td>6</td>\n",
       "      <td>12/1/10 8:26</td>\n",
       "      <td>3.39</td>\n",
       "      <td>17850.0</td>\n",
       "      <td>United Kingdom</td>\n",
       "    </tr>\n",
       "    <tr>\n",
       "      <th>2</th>\n",
       "      <td>536365</td>\n",
       "      <td>84406B</td>\n",
       "      <td>CREAM CUPID HEARTS COAT HANGER</td>\n",
       "      <td>8</td>\n",
       "      <td>12/1/10 8:26</td>\n",
       "      <td>2.75</td>\n",
       "      <td>17850.0</td>\n",
       "      <td>United Kingdom</td>\n",
       "    </tr>\n",
       "    <tr>\n",
       "      <th>3</th>\n",
       "      <td>536365</td>\n",
       "      <td>84029G</td>\n",
       "      <td>KNITTED UNION FLAG HOT WATER BOTTLE</td>\n",
       "      <td>6</td>\n",
       "      <td>12/1/10 8:26</td>\n",
       "      <td>3.39</td>\n",
       "      <td>17850.0</td>\n",
       "      <td>United Kingdom</td>\n",
       "    </tr>\n",
       "    <tr>\n",
       "      <th>4</th>\n",
       "      <td>536365</td>\n",
       "      <td>84029E</td>\n",
       "      <td>RED WOOLLY HOTTIE WHITE HEART.</td>\n",
       "      <td>6</td>\n",
       "      <td>12/1/10 8:26</td>\n",
       "      <td>3.39</td>\n",
       "      <td>17850.0</td>\n",
       "      <td>United Kingdom</td>\n",
       "    </tr>\n",
       "  </tbody>\n",
       "</table>\n",
       "</div>"
      ],
      "text/plain": [
       "  InvoiceNo StockCode                          Description  Quantity  \\\n",
       "0    536365    85123A   WHITE HANGING HEART T-LIGHT HOLDER         6   \n",
       "1    536365     71053                  WHITE METAL LANTERN         6   \n",
       "2    536365    84406B       CREAM CUPID HEARTS COAT HANGER         8   \n",
       "3    536365    84029G  KNITTED UNION FLAG HOT WATER BOTTLE         6   \n",
       "4    536365    84029E       RED WOOLLY HOTTIE WHITE HEART.         6   \n",
       "\n",
       "    InvoiceDate  UnitPrice  CustomerID         Country  \n",
       "0  12/1/10 8:26       2.55     17850.0  United Kingdom  \n",
       "1  12/1/10 8:26       3.39     17850.0  United Kingdom  \n",
       "2  12/1/10 8:26       2.75     17850.0  United Kingdom  \n",
       "3  12/1/10 8:26       3.39     17850.0  United Kingdom  \n",
       "4  12/1/10 8:26       3.39     17850.0  United Kingdom  "
      ]
     },
     "execution_count": 2,
     "metadata": {},
     "output_type": "execute_result"
    }
   ],
   "source": [
    "data = pd.read_csv('../data/online_retail.csv')\n",
    "print(f'Rows, Columns count', data.shape)\n",
    "data.head()"
   ]
  },
  {
   "cell_type": "markdown",
   "metadata": {},
   "source": [
    "**1. Data Inspection**"
   ]
  },
  {
   "cell_type": "code",
   "execution_count": 3,
   "metadata": {
    "execution": {
     "iopub.execute_input": "2024-11-27T17:24:13.698639Z",
     "iopub.status.busy": "2024-11-27T17:24:13.683014Z",
     "iopub.status.idle": "2024-11-27T17:24:13.839266Z",
     "shell.execute_reply": "2024-11-27T17:24:13.839266Z"
    }
   },
   "outputs": [
    {
     "name": "stdout",
     "output_type": "stream",
     "text": [
      "<class 'pandas.core.frame.DataFrame'>\n",
      "RangeIndex: 541909 entries, 0 to 541908\n",
      "Data columns (total 8 columns):\n",
      " #   Column       Non-Null Count   Dtype  \n",
      "---  ------       --------------   -----  \n",
      " 0   InvoiceNo    541909 non-null  object \n",
      " 1   StockCode    541909 non-null  object \n",
      " 2   Description  540455 non-null  object \n",
      " 3   Quantity     541909 non-null  int64  \n",
      " 4   InvoiceDate  541909 non-null  object \n",
      " 5   UnitPrice    541909 non-null  float64\n",
      " 6   CustomerID   406829 non-null  float64\n",
      " 7   Country      541909 non-null  object \n",
      "dtypes: float64(2), int64(1), object(5)\n",
      "memory usage: 33.1+ MB\n"
     ]
    }
   ],
   "source": [
    "# Data summary information\n",
    "data.info()"
   ]
  },
  {
   "cell_type": "markdown",
   "metadata": {},
   "source": [
    "Missing values are present in `Description, CustomerID`, `InvoiceDate, CustomerID` have incorrect datatypes"
   ]
  },
  {
   "cell_type": "code",
   "execution_count": 4,
   "metadata": {
    "execution": {
     "iopub.execute_input": "2024-11-27T17:24:13.839266Z",
     "iopub.status.busy": "2024-11-27T17:24:13.839266Z",
     "iopub.status.idle": "2024-11-27T17:24:13.917384Z",
     "shell.execute_reply": "2024-11-27T17:24:13.917384Z"
    }
   },
   "outputs": [
    {
     "data": {
      "text/html": [
       "<div>\n",
       "<style scoped>\n",
       "    .dataframe tbody tr th:only-of-type {\n",
       "        vertical-align: middle;\n",
       "    }\n",
       "\n",
       "    .dataframe tbody tr th {\n",
       "        vertical-align: top;\n",
       "    }\n",
       "\n",
       "    .dataframe thead th {\n",
       "        text-align: right;\n",
       "    }\n",
       "</style>\n",
       "<table border=\"1\" class=\"dataframe\">\n",
       "  <thead>\n",
       "    <tr style=\"text-align: right;\">\n",
       "      <th></th>\n",
       "      <th>Quantity</th>\n",
       "      <th>UnitPrice</th>\n",
       "      <th>CustomerID</th>\n",
       "    </tr>\n",
       "  </thead>\n",
       "  <tbody>\n",
       "    <tr>\n",
       "      <th>count</th>\n",
       "      <td>541909.000000</td>\n",
       "      <td>541909.000000</td>\n",
       "      <td>406829.000000</td>\n",
       "    </tr>\n",
       "    <tr>\n",
       "      <th>mean</th>\n",
       "      <td>9.552250</td>\n",
       "      <td>4.611114</td>\n",
       "      <td>15287.690570</td>\n",
       "    </tr>\n",
       "    <tr>\n",
       "      <th>std</th>\n",
       "      <td>218.081158</td>\n",
       "      <td>96.759853</td>\n",
       "      <td>1713.600303</td>\n",
       "    </tr>\n",
       "    <tr>\n",
       "      <th>min</th>\n",
       "      <td>-80995.000000</td>\n",
       "      <td>-11062.060000</td>\n",
       "      <td>12346.000000</td>\n",
       "    </tr>\n",
       "    <tr>\n",
       "      <th>25%</th>\n",
       "      <td>1.000000</td>\n",
       "      <td>1.250000</td>\n",
       "      <td>13953.000000</td>\n",
       "    </tr>\n",
       "    <tr>\n",
       "      <th>50%</th>\n",
       "      <td>3.000000</td>\n",
       "      <td>2.080000</td>\n",
       "      <td>15152.000000</td>\n",
       "    </tr>\n",
       "    <tr>\n",
       "      <th>75%</th>\n",
       "      <td>10.000000</td>\n",
       "      <td>4.130000</td>\n",
       "      <td>16791.000000</td>\n",
       "    </tr>\n",
       "    <tr>\n",
       "      <th>max</th>\n",
       "      <td>80995.000000</td>\n",
       "      <td>38970.000000</td>\n",
       "      <td>18287.000000</td>\n",
       "    </tr>\n",
       "  </tbody>\n",
       "</table>\n",
       "</div>"
      ],
      "text/plain": [
       "            Quantity      UnitPrice     CustomerID\n",
       "count  541909.000000  541909.000000  406829.000000\n",
       "mean        9.552250       4.611114   15287.690570\n",
       "std       218.081158      96.759853    1713.600303\n",
       "min    -80995.000000  -11062.060000   12346.000000\n",
       "25%         1.000000       1.250000   13953.000000\n",
       "50%         3.000000       2.080000   15152.000000\n",
       "75%        10.000000       4.130000   16791.000000\n",
       "max     80995.000000   38970.000000   18287.000000"
      ]
     },
     "execution_count": 4,
     "metadata": {},
     "output_type": "execute_result"
    }
   ],
   "source": [
    "# Statistical summary\n",
    "data.describe()"
   ]
  },
  {
   "cell_type": "markdown",
   "metadata": {},
   "source": [
    "Our numerical columns are highly skewed, they also appear to have invalid values; there are negative values present\n",
    "\n",
    "**2. Data Cleaning**"
   ]
  },
  {
   "cell_type": "code",
   "execution_count": 5,
   "metadata": {
    "execution": {
     "iopub.execute_input": "2024-11-27T17:24:13.917384Z",
     "iopub.status.busy": "2024-11-27T17:24:13.917384Z",
     "iopub.status.idle": "2024-11-27T17:24:17.466404Z",
     "shell.execute_reply": "2024-11-27T17:24:17.466404Z"
    }
   },
   "outputs": [
    {
     "name": "stdout",
     "output_type": "stream",
     "text": [
      "Missing values per column\n",
      " InvoiceNo           0\n",
      "StockCode           0\n",
      "Description      1454\n",
      "Quantity            0\n",
      "InvoiceDate         0\n",
      "UnitPrice           0\n",
      "CustomerID     135080\n",
      "Country             0\n",
      "dtype: int64\n",
      "Missing values after cleaning:\n",
      " InvoiceNo            0\n",
      "StockCode            0\n",
      "Description          0\n",
      "Quantity             0\n",
      "InvoiceDate          0\n",
      "UnitPrice            0\n",
      "CustomerID           0\n",
      "Country              0\n",
      "TransactionAmount    0\n",
      "dtype: int64 \n",
      "\n",
      "Updated Rows, Columns: (397880, 9)\n"
     ]
    },
    {
     "data": {
      "text/html": [
       "<div>\n",
       "<style scoped>\n",
       "    .dataframe tbody tr th:only-of-type {\n",
       "        vertical-align: middle;\n",
       "    }\n",
       "\n",
       "    .dataframe tbody tr th {\n",
       "        vertical-align: top;\n",
       "    }\n",
       "\n",
       "    .dataframe thead th {\n",
       "        text-align: right;\n",
       "    }\n",
       "</style>\n",
       "<table border=\"1\" class=\"dataframe\">\n",
       "  <thead>\n",
       "    <tr style=\"text-align: right;\">\n",
       "      <th></th>\n",
       "      <th>InvoiceNo</th>\n",
       "      <th>StockCode</th>\n",
       "      <th>Description</th>\n",
       "      <th>Quantity</th>\n",
       "      <th>InvoiceDate</th>\n",
       "      <th>UnitPrice</th>\n",
       "      <th>CustomerID</th>\n",
       "      <th>Country</th>\n",
       "      <th>TransactionAmount</th>\n",
       "    </tr>\n",
       "  </thead>\n",
       "  <tbody>\n",
       "    <tr>\n",
       "      <th>0</th>\n",
       "      <td>536365</td>\n",
       "      <td>85123A</td>\n",
       "      <td>WHITE HANGING HEART T-LIGHT HOLDER</td>\n",
       "      <td>6</td>\n",
       "      <td>2010-12-01 08:26:00</td>\n",
       "      <td>2.55</td>\n",
       "      <td>17850</td>\n",
       "      <td>United Kingdom</td>\n",
       "      <td>15.30</td>\n",
       "    </tr>\n",
       "    <tr>\n",
       "      <th>1</th>\n",
       "      <td>536365</td>\n",
       "      <td>71053</td>\n",
       "      <td>WHITE METAL LANTERN</td>\n",
       "      <td>6</td>\n",
       "      <td>2010-12-01 08:26:00</td>\n",
       "      <td>3.39</td>\n",
       "      <td>17850</td>\n",
       "      <td>United Kingdom</td>\n",
       "      <td>20.34</td>\n",
       "    </tr>\n",
       "    <tr>\n",
       "      <th>2</th>\n",
       "      <td>536365</td>\n",
       "      <td>84406B</td>\n",
       "      <td>CREAM CUPID HEARTS COAT HANGER</td>\n",
       "      <td>8</td>\n",
       "      <td>2010-12-01 08:26:00</td>\n",
       "      <td>2.75</td>\n",
       "      <td>17850</td>\n",
       "      <td>United Kingdom</td>\n",
       "      <td>22.00</td>\n",
       "    </tr>\n",
       "    <tr>\n",
       "      <th>3</th>\n",
       "      <td>536365</td>\n",
       "      <td>84029G</td>\n",
       "      <td>KNITTED UNION FLAG HOT WATER BOTTLE</td>\n",
       "      <td>6</td>\n",
       "      <td>2010-12-01 08:26:00</td>\n",
       "      <td>3.39</td>\n",
       "      <td>17850</td>\n",
       "      <td>United Kingdom</td>\n",
       "      <td>20.34</td>\n",
       "    </tr>\n",
       "    <tr>\n",
       "      <th>4</th>\n",
       "      <td>536365</td>\n",
       "      <td>84029E</td>\n",
       "      <td>RED WOOLLY HOTTIE WHITE HEART.</td>\n",
       "      <td>6</td>\n",
       "      <td>2010-12-01 08:26:00</td>\n",
       "      <td>3.39</td>\n",
       "      <td>17850</td>\n",
       "      <td>United Kingdom</td>\n",
       "      <td>20.34</td>\n",
       "    </tr>\n",
       "  </tbody>\n",
       "</table>\n",
       "</div>"
      ],
      "text/plain": [
       "  InvoiceNo StockCode                          Description  Quantity  \\\n",
       "0    536365    85123A   WHITE HANGING HEART T-LIGHT HOLDER         6   \n",
       "1    536365     71053                  WHITE METAL LANTERN         6   \n",
       "2    536365    84406B       CREAM CUPID HEARTS COAT HANGER         8   \n",
       "3    536365    84029G  KNITTED UNION FLAG HOT WATER BOTTLE         6   \n",
       "4    536365    84029E       RED WOOLLY HOTTIE WHITE HEART.         6   \n",
       "\n",
       "          InvoiceDate  UnitPrice CustomerID         Country  TransactionAmount  \n",
       "0 2010-12-01 08:26:00       2.55      17850  United Kingdom              15.30  \n",
       "1 2010-12-01 08:26:00       3.39      17850  United Kingdom              20.34  \n",
       "2 2010-12-01 08:26:00       2.75      17850  United Kingdom              22.00  \n",
       "3 2010-12-01 08:26:00       3.39      17850  United Kingdom              20.34  \n",
       "4 2010-12-01 08:26:00       3.39      17850  United Kingdom              20.34  "
      ]
     },
     "execution_count": 5,
     "metadata": {},
     "output_type": "execute_result"
    }
   ],
   "source": [
    "# Data cleaning\n",
    "# Check for and drop missing values for critical columns\n",
    "print(f'Missing values per column\\n',data.isnull().sum())\n",
    "data.dropna(subset=['InvoiceDate', 'CustomerID', 'InvoiceDate'], inplace=True)\n",
    "\n",
    "# Change invoiceDate to DateTime format\n",
    "data['InvoiceDate'] = pd.to_datetime(data['InvoiceDate'], errors='coerce')\n",
    "# Convert customerID to str\n",
    "data['CustomerID'] = data['CustomerID'].astype(int).astype(str)\n",
    "\n",
    "# Filter invalid values in Quantity and UnitPrice columns\n",
    "data = data[(data['Quantity'] > 0) & (data['UnitPrice'] > 0.01)]\n",
    "\n",
    "# Create TransactionAmount columns\n",
    "data['TransactionAmount'] = (data['UnitPrice'] * data['Quantity']).round(2)\n",
    "\n",
    "# Inspection check\n",
    "print(f'Missing values after cleaning:\\n', data.isna().sum(), '\\n')\n",
    "print(f'Updated Rows, Columns:', data.shape)\n",
    "data.head()"
   ]
  },
  {
   "cell_type": "markdown",
   "metadata": {},
   "source": [
    "**Checking Duplicate Entries**"
   ]
  },
  {
   "cell_type": "code",
   "execution_count": 6,
   "metadata": {
    "execution": {
     "iopub.execute_input": "2024-11-27T17:24:17.482024Z",
     "iopub.status.busy": "2024-11-27T17:24:17.466404Z",
     "iopub.status.idle": "2024-11-27T17:24:18.124888Z",
     "shell.execute_reply": "2024-11-27T17:24:18.124888Z"
    }
   },
   "outputs": [
    {
     "name": "stdout",
     "output_type": "stream",
     "text": [
      "Duplicate Entries:  5192\n"
     ]
    },
    {
     "data": {
      "text/html": [
       "<div>\n",
       "<style scoped>\n",
       "    .dataframe tbody tr th:only-of-type {\n",
       "        vertical-align: middle;\n",
       "    }\n",
       "\n",
       "    .dataframe tbody tr th {\n",
       "        vertical-align: top;\n",
       "    }\n",
       "\n",
       "    .dataframe thead th {\n",
       "        text-align: right;\n",
       "    }\n",
       "</style>\n",
       "<table border=\"1\" class=\"dataframe\">\n",
       "  <thead>\n",
       "    <tr style=\"text-align: right;\">\n",
       "      <th></th>\n",
       "      <th>InvoiceNo</th>\n",
       "      <th>StockCode</th>\n",
       "      <th>Description</th>\n",
       "      <th>Quantity</th>\n",
       "      <th>InvoiceDate</th>\n",
       "      <th>UnitPrice</th>\n",
       "      <th>CustomerID</th>\n",
       "      <th>Country</th>\n",
       "      <th>TransactionAmount</th>\n",
       "    </tr>\n",
       "  </thead>\n",
       "  <tbody>\n",
       "    <tr>\n",
       "      <th>485</th>\n",
       "      <td>536409</td>\n",
       "      <td>22111</td>\n",
       "      <td>SCOTTIE DOG HOT WATER BOTTLE</td>\n",
       "      <td>1</td>\n",
       "      <td>2010-12-01 11:45:00</td>\n",
       "      <td>4.95</td>\n",
       "      <td>17908</td>\n",
       "      <td>United Kingdom</td>\n",
       "      <td>4.95</td>\n",
       "    </tr>\n",
       "    <tr>\n",
       "      <th>489</th>\n",
       "      <td>536409</td>\n",
       "      <td>22866</td>\n",
       "      <td>HAND WARMER SCOTTY DOG DESIGN</td>\n",
       "      <td>1</td>\n",
       "      <td>2010-12-01 11:45:00</td>\n",
       "      <td>2.10</td>\n",
       "      <td>17908</td>\n",
       "      <td>United Kingdom</td>\n",
       "      <td>2.10</td>\n",
       "    </tr>\n",
       "    <tr>\n",
       "      <th>494</th>\n",
       "      <td>536409</td>\n",
       "      <td>21866</td>\n",
       "      <td>UNION JACK FLAG LUGGAGE TAG</td>\n",
       "      <td>1</td>\n",
       "      <td>2010-12-01 11:45:00</td>\n",
       "      <td>1.25</td>\n",
       "      <td>17908</td>\n",
       "      <td>United Kingdom</td>\n",
       "      <td>1.25</td>\n",
       "    </tr>\n",
       "    <tr>\n",
       "      <th>517</th>\n",
       "      <td>536409</td>\n",
       "      <td>21866</td>\n",
       "      <td>UNION JACK FLAG LUGGAGE TAG</td>\n",
       "      <td>1</td>\n",
       "      <td>2010-12-01 11:45:00</td>\n",
       "      <td>1.25</td>\n",
       "      <td>17908</td>\n",
       "      <td>United Kingdom</td>\n",
       "      <td>1.25</td>\n",
       "    </tr>\n",
       "    <tr>\n",
       "      <th>521</th>\n",
       "      <td>536409</td>\n",
       "      <td>22900</td>\n",
       "      <td>SET 2 TEA TOWELS I LOVE LONDON</td>\n",
       "      <td>1</td>\n",
       "      <td>2010-12-01 11:45:00</td>\n",
       "      <td>2.95</td>\n",
       "      <td>17908</td>\n",
       "      <td>United Kingdom</td>\n",
       "      <td>2.95</td>\n",
       "    </tr>\n",
       "  </tbody>\n",
       "</table>\n",
       "</div>"
      ],
      "text/plain": [
       "    InvoiceNo StockCode                       Description  Quantity  \\\n",
       "485    536409     22111      SCOTTIE DOG HOT WATER BOTTLE         1   \n",
       "489    536409     22866     HAND WARMER SCOTTY DOG DESIGN         1   \n",
       "494    536409     21866       UNION JACK FLAG LUGGAGE TAG         1   \n",
       "517    536409     21866       UNION JACK FLAG LUGGAGE TAG         1   \n",
       "521    536409     22900   SET 2 TEA TOWELS I LOVE LONDON          1   \n",
       "\n",
       "            InvoiceDate  UnitPrice CustomerID         Country  \\\n",
       "485 2010-12-01 11:45:00       4.95      17908  United Kingdom   \n",
       "489 2010-12-01 11:45:00       2.10      17908  United Kingdom   \n",
       "494 2010-12-01 11:45:00       1.25      17908  United Kingdom   \n",
       "517 2010-12-01 11:45:00       1.25      17908  United Kingdom   \n",
       "521 2010-12-01 11:45:00       2.95      17908  United Kingdom   \n",
       "\n",
       "     TransactionAmount  \n",
       "485               4.95  \n",
       "489               2.10  \n",
       "494               1.25  \n",
       "517               1.25  \n",
       "521               2.95  "
      ]
     },
     "execution_count": 6,
     "metadata": {},
     "output_type": "execute_result"
    }
   ],
   "source": [
    "print(f'Duplicate Entries: ', data.duplicated().sum()) # 5192 Duplicates\n",
    "duplicates = data[data.duplicated(keep=False)]\n",
    "duplicates.head() "
   ]
  },
  {
   "cell_type": "code",
   "execution_count": 7,
   "metadata": {
    "execution": {
     "iopub.execute_input": "2024-11-27T17:24:18.140489Z",
     "iopub.status.busy": "2024-11-27T17:24:18.140489Z",
     "iopub.status.idle": "2024-11-27T17:24:18.485800Z",
     "shell.execute_reply": "2024-11-27T17:24:18.485800Z"
    }
   },
   "outputs": [
    {
     "name": "stdout",
     "output_type": "stream",
     "text": [
      "4809\n"
     ]
    },
    {
     "data": {
      "text/plain": [
       "InvoiceNo  StockCode  Description                       Quantity  InvoiceDate          UnitPrice  CustomerID  Country         TransactionAmount\n",
       "536409     21866      UNION JACK FLAG LUGGAGE TAG       1         2010-12-01 11:45:00  1.25       17908       United Kingdom  1.25                 2\n",
       "           22111      SCOTTIE DOG HOT WATER BOTTLE      1         2010-12-01 11:45:00  4.95       17908       United Kingdom  4.95                 2\n",
       "           22866      HAND WARMER SCOTTY DOG DESIGN     1         2010-12-01 11:45:00  2.10       17908       United Kingdom  2.10                 2\n",
       "           22900       SET 2 TEA TOWELS I LOVE LONDON   1         2010-12-01 11:45:00  2.95       17908       United Kingdom  2.95                 2\n",
       "536412     21448      12 DAISY PEGS IN WOOD BOX         1         2010-12-01 11:49:00  1.65       17920       United Kingdom  1.65                 2\n",
       "dtype: int64"
      ]
     },
     "execution_count": 7,
     "metadata": {},
     "output_type": "execute_result"
    }
   ],
   "source": [
    "duplicate_groups = data[data.duplicated(keep=False)].groupby(list(data.columns)).size()\n",
    "print(len(duplicate_groups))\n",
    "duplicate_groups.head()"
   ]
  },
  {
   "cell_type": "code",
   "execution_count": 8,
   "metadata": {
    "execution": {
     "iopub.execute_input": "2024-11-27T17:24:18.501423Z",
     "iopub.status.busy": "2024-11-27T17:24:18.501423Z",
     "iopub.status.idle": "2024-11-27T17:24:19.144436Z",
     "shell.execute_reply": "2024-11-27T17:24:19.144436Z"
    }
   },
   "outputs": [
    {
     "name": "stdout",
     "output_type": "stream",
     "text": [
      "Duplicated Entries:  0\n"
     ]
    }
   ],
   "source": [
    "# Drop duplicates but keep 1st occurence of a duplicated entry\n",
    "data = data.drop_duplicates(keep='last')\n",
    "print(f'Duplicated Entries: ', data.duplicated().sum())"
   ]
  },
  {
   "cell_type": "code",
   "execution_count": 9,
   "metadata": {
    "execution": {
     "iopub.execute_input": "2024-11-27T17:24:19.144436Z",
     "iopub.status.busy": "2024-11-27T17:24:19.144436Z",
     "iopub.status.idle": "2024-11-27T17:24:19.238205Z",
     "shell.execute_reply": "2024-11-27T17:24:19.238205Z"
    }
   },
   "outputs": [
    {
     "data": {
      "text/html": [
       "<div>\n",
       "<style scoped>\n",
       "    .dataframe tbody tr th:only-of-type {\n",
       "        vertical-align: middle;\n",
       "    }\n",
       "\n",
       "    .dataframe tbody tr th {\n",
       "        vertical-align: top;\n",
       "    }\n",
       "\n",
       "    .dataframe thead th {\n",
       "        text-align: right;\n",
       "    }\n",
       "</style>\n",
       "<table border=\"1\" class=\"dataframe\">\n",
       "  <thead>\n",
       "    <tr style=\"text-align: right;\">\n",
       "      <th></th>\n",
       "      <th>Quantity</th>\n",
       "      <th>UnitPrice</th>\n",
       "      <th>TransactionAmount</th>\n",
       "    </tr>\n",
       "  </thead>\n",
       "  <tbody>\n",
       "    <tr>\n",
       "      <th>count</th>\n",
       "      <td>392688.000000</td>\n",
       "      <td>392688.000000</td>\n",
       "      <td>392688.00000</td>\n",
       "    </tr>\n",
       "    <tr>\n",
       "      <th>mean</th>\n",
       "      <td>13.119825</td>\n",
       "      <td>3.125946</td>\n",
       "      <td>22.63173</td>\n",
       "    </tr>\n",
       "    <tr>\n",
       "      <th>std</th>\n",
       "      <td>180.493747</td>\n",
       "      <td>22.241947</td>\n",
       "      <td>311.10080</td>\n",
       "    </tr>\n",
       "    <tr>\n",
       "      <th>min</th>\n",
       "      <td>1.000000</td>\n",
       "      <td>0.040000</td>\n",
       "      <td>0.06000</td>\n",
       "    </tr>\n",
       "    <tr>\n",
       "      <th>25%</th>\n",
       "      <td>2.000000</td>\n",
       "      <td>1.250000</td>\n",
       "      <td>4.95000</td>\n",
       "    </tr>\n",
       "    <tr>\n",
       "      <th>50%</th>\n",
       "      <td>6.000000</td>\n",
       "      <td>1.950000</td>\n",
       "      <td>12.45000</td>\n",
       "    </tr>\n",
       "    <tr>\n",
       "      <th>75%</th>\n",
       "      <td>12.000000</td>\n",
       "      <td>3.750000</td>\n",
       "      <td>19.80000</td>\n",
       "    </tr>\n",
       "    <tr>\n",
       "      <th>max</th>\n",
       "      <td>80995.000000</td>\n",
       "      <td>8142.750000</td>\n",
       "      <td>168469.60000</td>\n",
       "    </tr>\n",
       "  </tbody>\n",
       "</table>\n",
       "</div>"
      ],
      "text/plain": [
       "            Quantity      UnitPrice  TransactionAmount\n",
       "count  392688.000000  392688.000000       392688.00000\n",
       "mean       13.119825       3.125946           22.63173\n",
       "std       180.493747      22.241947          311.10080\n",
       "min         1.000000       0.040000            0.06000\n",
       "25%         2.000000       1.250000            4.95000\n",
       "50%         6.000000       1.950000           12.45000\n",
       "75%        12.000000       3.750000           19.80000\n",
       "max     80995.000000    8142.750000       168469.60000"
      ]
     },
     "execution_count": 9,
     "metadata": {},
     "output_type": "execute_result"
    }
   ],
   "source": [
    "data.describe(include=['number'])"
   ]
  },
  {
   "cell_type": "code",
   "execution_count": 10,
   "metadata": {
    "execution": {
     "iopub.execute_input": "2024-11-27T17:24:19.238205Z",
     "iopub.status.busy": "2024-11-27T17:24:19.238205Z",
     "iopub.status.idle": "2024-11-27T17:24:19.285079Z",
     "shell.execute_reply": "2024-11-27T17:24:19.285079Z"
    }
   },
   "outputs": [
    {
     "name": "stdout",
     "output_type": "stream",
     "text": [
      "Quantity             407.343614\n",
      "TransactionAmount    448.519529\n",
      "dtype: float64\n"
     ]
    }
   ],
   "source": [
    "print(data[['Quantity', 'TransactionAmount']].skew())"
   ]
  },
  {
   "cell_type": "markdown",
   "metadata": {},
   "source": [
    "**Handling Outliers**"
   ]
  },
  {
   "cell_type": "code",
   "execution_count": 11,
   "metadata": {
    "execution": {
     "iopub.execute_input": "2024-11-27T17:24:19.285079Z",
     "iopub.status.busy": "2024-11-27T17:24:19.285079Z",
     "iopub.status.idle": "2024-11-27T17:24:19.396679Z",
     "shell.execute_reply": "2024-11-27T17:24:19.396679Z"
    }
   },
   "outputs": [
    {
     "data": {
      "text/html": [
       "<div>\n",
       "<style scoped>\n",
       "    .dataframe tbody tr th:only-of-type {\n",
       "        vertical-align: middle;\n",
       "    }\n",
       "\n",
       "    .dataframe tbody tr th {\n",
       "        vertical-align: top;\n",
       "    }\n",
       "\n",
       "    .dataframe thead th {\n",
       "        text-align: right;\n",
       "    }\n",
       "</style>\n",
       "<table border=\"1\" class=\"dataframe\">\n",
       "  <thead>\n",
       "    <tr style=\"text-align: right;\">\n",
       "      <th></th>\n",
       "      <th>Quantity</th>\n",
       "      <th>UnitPrice</th>\n",
       "      <th>TransactionAmount</th>\n",
       "    </tr>\n",
       "  </thead>\n",
       "  <tbody>\n",
       "    <tr>\n",
       "      <th>count</th>\n",
       "      <td>392688.000000</td>\n",
       "      <td>392688.000000</td>\n",
       "      <td>392688.000000</td>\n",
       "    </tr>\n",
       "    <tr>\n",
       "      <th>mean</th>\n",
       "      <td>11.022504</td>\n",
       "      <td>3.125946</td>\n",
       "      <td>19.153151</td>\n",
       "    </tr>\n",
       "    <tr>\n",
       "      <th>std</th>\n",
       "      <td>18.158489</td>\n",
       "      <td>22.241947</td>\n",
       "      <td>29.701350</td>\n",
       "    </tr>\n",
       "    <tr>\n",
       "      <th>min</th>\n",
       "      <td>1.000000</td>\n",
       "      <td>0.040000</td>\n",
       "      <td>0.550000</td>\n",
       "    </tr>\n",
       "    <tr>\n",
       "      <th>25%</th>\n",
       "      <td>2.000000</td>\n",
       "      <td>1.250000</td>\n",
       "      <td>4.950000</td>\n",
       "    </tr>\n",
       "    <tr>\n",
       "      <th>50%</th>\n",
       "      <td>6.000000</td>\n",
       "      <td>1.950000</td>\n",
       "      <td>12.450000</td>\n",
       "    </tr>\n",
       "    <tr>\n",
       "      <th>75%</th>\n",
       "      <td>12.000000</td>\n",
       "      <td>3.750000</td>\n",
       "      <td>19.800000</td>\n",
       "    </tr>\n",
       "    <tr>\n",
       "      <th>max</th>\n",
       "      <td>120.000000</td>\n",
       "      <td>8142.750000</td>\n",
       "      <td>203.520000</td>\n",
       "    </tr>\n",
       "  </tbody>\n",
       "</table>\n",
       "</div>"
      ],
      "text/plain": [
       "            Quantity      UnitPrice  TransactionAmount\n",
       "count  392688.000000  392688.000000      392688.000000\n",
       "mean       11.022504       3.125946          19.153151\n",
       "std        18.158489      22.241947          29.701350\n",
       "min         1.000000       0.040000           0.550000\n",
       "25%         2.000000       1.250000           4.950000\n",
       "50%         6.000000       1.950000          12.450000\n",
       "75%        12.000000       3.750000          19.800000\n",
       "max       120.000000    8142.750000         203.520000"
      ]
     },
     "execution_count": 11,
     "metadata": {},
     "output_type": "execute_result"
    }
   ],
   "source": [
    "def cap_outliers(series, lower_quantile=0.01, upper_quantile=0.99):\n",
    "    lower_bound = series.quantile(lower_quantile)\n",
    "    upper_bound = series.quantile(upper_quantile)\n",
    "    return series.clip(lower=lower_bound, upper=upper_bound)\n",
    "\n",
    "# # Automatically apply capping to all numeric columns\n",
    "# data[data.select_dtypes(include=['float64', 'int64']).columns] = data.select_dtypes(include=['float64', 'int64']).apply(\n",
    "#     lambda x: cap_outliers(x)\n",
    "# )\n",
    "# Columns to cap outliers\n",
    "columns_to_cap = ['Quantity', 'TransactionAmount']  # Replace with your column names\n",
    "\n",
    "# Apply the capping function to each column\n",
    "for col in columns_to_cap:\n",
    "    data[col] = cap_outliers(data[col])\n",
    "\n",
    "# Check summary statistics to confirm\n",
    "data.describe(include='number')"
   ]
  },
  {
   "cell_type": "code",
   "execution_count": 12,
   "metadata": {
    "execution": {
     "iopub.execute_input": "2024-11-27T17:24:19.412305Z",
     "iopub.status.busy": "2024-11-27T17:24:19.412305Z",
     "iopub.status.idle": "2024-11-27T17:24:19.427950Z",
     "shell.execute_reply": "2024-11-27T17:24:19.427950Z"
    }
   },
   "outputs": [
    {
     "data": {
      "text/html": [
       "<div>\n",
       "<style scoped>\n",
       "    .dataframe tbody tr th:only-of-type {\n",
       "        vertical-align: middle;\n",
       "    }\n",
       "\n",
       "    .dataframe tbody tr th {\n",
       "        vertical-align: top;\n",
       "    }\n",
       "\n",
       "    .dataframe thead th {\n",
       "        text-align: right;\n",
       "    }\n",
       "</style>\n",
       "<table border=\"1\" class=\"dataframe\">\n",
       "  <thead>\n",
       "    <tr style=\"text-align: right;\">\n",
       "      <th></th>\n",
       "      <th>InvoiceNo</th>\n",
       "      <th>StockCode</th>\n",
       "      <th>Description</th>\n",
       "      <th>Quantity</th>\n",
       "      <th>InvoiceDate</th>\n",
       "      <th>UnitPrice</th>\n",
       "      <th>CustomerID</th>\n",
       "      <th>Country</th>\n",
       "      <th>TransactionAmount</th>\n",
       "    </tr>\n",
       "  </thead>\n",
       "  <tbody>\n",
       "    <tr>\n",
       "      <th>0</th>\n",
       "      <td>536365</td>\n",
       "      <td>85123A</td>\n",
       "      <td>WHITE HANGING HEART T-LIGHT HOLDER</td>\n",
       "      <td>6</td>\n",
       "      <td>2010-12-01 08:26:00</td>\n",
       "      <td>2.55</td>\n",
       "      <td>17850</td>\n",
       "      <td>United Kingdom</td>\n",
       "      <td>15.30</td>\n",
       "    </tr>\n",
       "    <tr>\n",
       "      <th>1</th>\n",
       "      <td>536365</td>\n",
       "      <td>71053</td>\n",
       "      <td>WHITE METAL LANTERN</td>\n",
       "      <td>6</td>\n",
       "      <td>2010-12-01 08:26:00</td>\n",
       "      <td>3.39</td>\n",
       "      <td>17850</td>\n",
       "      <td>United Kingdom</td>\n",
       "      <td>20.34</td>\n",
       "    </tr>\n",
       "    <tr>\n",
       "      <th>2</th>\n",
       "      <td>536365</td>\n",
       "      <td>84406B</td>\n",
       "      <td>CREAM CUPID HEARTS COAT HANGER</td>\n",
       "      <td>8</td>\n",
       "      <td>2010-12-01 08:26:00</td>\n",
       "      <td>2.75</td>\n",
       "      <td>17850</td>\n",
       "      <td>United Kingdom</td>\n",
       "      <td>22.00</td>\n",
       "    </tr>\n",
       "  </tbody>\n",
       "</table>\n",
       "</div>"
      ],
      "text/plain": [
       "  InvoiceNo StockCode                         Description  Quantity  \\\n",
       "0    536365    85123A  WHITE HANGING HEART T-LIGHT HOLDER         6   \n",
       "1    536365     71053                 WHITE METAL LANTERN         6   \n",
       "2    536365    84406B      CREAM CUPID HEARTS COAT HANGER         8   \n",
       "\n",
       "          InvoiceDate  UnitPrice CustomerID         Country  TransactionAmount  \n",
       "0 2010-12-01 08:26:00       2.55      17850  United Kingdom              15.30  \n",
       "1 2010-12-01 08:26:00       3.39      17850  United Kingdom              20.34  \n",
       "2 2010-12-01 08:26:00       2.75      17850  United Kingdom              22.00  "
      ]
     },
     "execution_count": 12,
     "metadata": {},
     "output_type": "execute_result"
    }
   ],
   "source": [
    "data.head(3)"
   ]
  },
  {
   "cell_type": "code",
   "execution_count": 13,
   "metadata": {
    "execution": {
     "iopub.execute_input": "2024-11-27T17:24:19.427950Z",
     "iopub.status.busy": "2024-11-27T17:24:19.427950Z",
     "iopub.status.idle": "2024-11-27T17:24:19.474803Z",
     "shell.execute_reply": "2024-11-27T17:24:19.474803Z"
    }
   },
   "outputs": [
    {
     "name": "stdout",
     "output_type": "stream",
     "text": [
      "Skewness before Log-Transform after removing Outliers: \n",
      " Quantity             4.006558\n",
      "TransactionAmount    4.164272\n",
      "dtype: float64 \n",
      "\n"
     ]
    }
   ],
   "source": [
    "print(f'Skewness before Log-Transform after removing Outliers: \\n', data[['Quantity', 'TransactionAmount']].skew(),'\\n')\n",
    "# print(f'Skewness after Log-Transform: \\n', data[['Quantity_log', 'TransactionAmount_log']].skew())"
   ]
  },
  {
   "cell_type": "code",
   "execution_count": 14,
   "metadata": {
    "execution": {
     "iopub.execute_input": "2024-11-27T17:24:19.490428Z",
     "iopub.status.busy": "2024-11-27T17:24:19.490428Z",
     "iopub.status.idle": "2024-11-27T17:24:20.463527Z",
     "shell.execute_reply": "2024-11-27T17:24:20.463527Z"
    }
   },
   "outputs": [
    {
     "name": "stdout",
     "output_type": "stream",
     "text": [
      "Number of Duplicates: 1 \n",
      "\n"
     ]
    },
    {
     "data": {
      "text/html": [
       "<div>\n",
       "<style scoped>\n",
       "    .dataframe tbody tr th:only-of-type {\n",
       "        vertical-align: middle;\n",
       "    }\n",
       "\n",
       "    .dataframe tbody tr th {\n",
       "        vertical-align: top;\n",
       "    }\n",
       "\n",
       "    .dataframe thead th {\n",
       "        text-align: right;\n",
       "    }\n",
       "</style>\n",
       "<table border=\"1\" class=\"dataframe\">\n",
       "  <thead>\n",
       "    <tr style=\"text-align: right;\">\n",
       "      <th></th>\n",
       "      <th>InvoiceNo</th>\n",
       "      <th>StockCode</th>\n",
       "      <th>Description</th>\n",
       "      <th>Quantity</th>\n",
       "      <th>InvoiceDate</th>\n",
       "      <th>UnitPrice</th>\n",
       "      <th>CustomerID</th>\n",
       "      <th>Country</th>\n",
       "      <th>TransactionAmount</th>\n",
       "    </tr>\n",
       "  </thead>\n",
       "  <tbody>\n",
       "  </tbody>\n",
       "</table>\n",
       "</div>"
      ],
      "text/plain": [
       "Empty DataFrame\n",
       "Columns: [InvoiceNo, StockCode, Description, Quantity, InvoiceDate, UnitPrice, CustomerID, Country, TransactionAmount]\n",
       "Index: []"
      ]
     },
     "execution_count": 14,
     "metadata": {},
     "output_type": "execute_result"
    }
   ],
   "source": [
    "# Duplicates check\n",
    "print(f'Number of Duplicates:', data.duplicated().sum(), '\\n')\n",
    "# Drop duplicates\n",
    "data.drop_duplicates(keep='first', inplace=True)\n",
    "# Inpect duplicate entries (Should return zero entries)\n",
    "data[data.duplicated(keep=False)]"
   ]
  },
  {
   "cell_type": "code",
   "execution_count": 15,
   "metadata": {
    "execution": {
     "iopub.execute_input": "2024-11-27T17:24:20.463527Z",
     "iopub.status.busy": "2024-11-27T17:24:20.463527Z",
     "iopub.status.idle": "2024-11-27T17:24:20.588522Z",
     "shell.execute_reply": "2024-11-27T17:24:20.588522Z"
    }
   },
   "outputs": [
    {
     "name": "stdout",
     "output_type": "stream",
     "text": [
      "<class 'pandas.core.frame.DataFrame'>\n",
      "Index: 392687 entries, 0 to 541908\n",
      "Data columns (total 9 columns):\n",
      " #   Column             Non-Null Count   Dtype         \n",
      "---  ------             --------------   -----         \n",
      " 0   InvoiceNo          392687 non-null  object        \n",
      " 1   StockCode          392687 non-null  object        \n",
      " 2   Description        392687 non-null  object        \n",
      " 3   Quantity           392687 non-null  int64         \n",
      " 4   InvoiceDate        392687 non-null  datetime64[ns]\n",
      " 5   UnitPrice          392687 non-null  float64       \n",
      " 6   CustomerID         392687 non-null  object        \n",
      " 7   Country            392687 non-null  object        \n",
      " 8   TransactionAmount  392687 non-null  float64       \n",
      "dtypes: datetime64[ns](1), float64(2), int64(1), object(5)\n",
      "memory usage: 30.0+ MB\n"
     ]
    }
   ],
   "source": [
    "data.info()"
   ]
  },
  {
   "cell_type": "code",
   "execution_count": 16,
   "metadata": {
    "execution": {
     "iopub.execute_input": "2024-11-27T17:24:20.588522Z",
     "iopub.status.busy": "2024-11-27T17:24:20.588522Z",
     "iopub.status.idle": "2024-11-27T17:24:20.838510Z",
     "shell.execute_reply": "2024-11-27T17:24:20.838510Z"
    }
   },
   "outputs": [],
   "source": [
    "# Save cleaned data\n",
    "data.to_pickle('../data/cleaned_data.pkl')"
   ]
  },
  {
   "cell_type": "markdown",
   "metadata": {},
   "source": [
    "## **Exploratory Data Analysis**"
   ]
  },
  {
   "cell_type": "code",
   "execution_count": 17,
   "metadata": {
    "execution": {
     "iopub.execute_input": "2024-11-27T17:24:20.838510Z",
     "iopub.status.busy": "2024-11-27T17:24:20.838510Z",
     "iopub.status.idle": "2024-11-27T17:24:21.122681Z",
     "shell.execute_reply": "2024-11-27T17:24:21.122681Z"
    }
   },
   "outputs": [
    {
     "data": {
      "text/html": [
       "<div>\n",
       "<style scoped>\n",
       "    .dataframe tbody tr th:only-of-type {\n",
       "        vertical-align: middle;\n",
       "    }\n",
       "\n",
       "    .dataframe tbody tr th {\n",
       "        vertical-align: top;\n",
       "    }\n",
       "\n",
       "    .dataframe thead th {\n",
       "        text-align: right;\n",
       "    }\n",
       "</style>\n",
       "<table border=\"1\" class=\"dataframe\">\n",
       "  <thead>\n",
       "    <tr style=\"text-align: right;\">\n",
       "      <th></th>\n",
       "      <th>InvoiceNo</th>\n",
       "      <th>StockCode</th>\n",
       "      <th>Description</th>\n",
       "      <th>Quantity</th>\n",
       "      <th>InvoiceDate</th>\n",
       "      <th>UnitPrice</th>\n",
       "      <th>CustomerID</th>\n",
       "      <th>Country</th>\n",
       "      <th>TransactionAmount</th>\n",
       "    </tr>\n",
       "  </thead>\n",
       "  <tbody>\n",
       "    <tr>\n",
       "      <th>0</th>\n",
       "      <td>536365</td>\n",
       "      <td>85123A</td>\n",
       "      <td>WHITE HANGING HEART T-LIGHT HOLDER</td>\n",
       "      <td>6</td>\n",
       "      <td>2010-12-01 08:26:00</td>\n",
       "      <td>2.55</td>\n",
       "      <td>17850</td>\n",
       "      <td>United Kingdom</td>\n",
       "      <td>15.30</td>\n",
       "    </tr>\n",
       "    <tr>\n",
       "      <th>1</th>\n",
       "      <td>536365</td>\n",
       "      <td>71053</td>\n",
       "      <td>WHITE METAL LANTERN</td>\n",
       "      <td>6</td>\n",
       "      <td>2010-12-01 08:26:00</td>\n",
       "      <td>3.39</td>\n",
       "      <td>17850</td>\n",
       "      <td>United Kingdom</td>\n",
       "      <td>20.34</td>\n",
       "    </tr>\n",
       "    <tr>\n",
       "      <th>2</th>\n",
       "      <td>536365</td>\n",
       "      <td>84406B</td>\n",
       "      <td>CREAM CUPID HEARTS COAT HANGER</td>\n",
       "      <td>8</td>\n",
       "      <td>2010-12-01 08:26:00</td>\n",
       "      <td>2.75</td>\n",
       "      <td>17850</td>\n",
       "      <td>United Kingdom</td>\n",
       "      <td>22.00</td>\n",
       "    </tr>\n",
       "    <tr>\n",
       "      <th>3</th>\n",
       "      <td>536365</td>\n",
       "      <td>84029G</td>\n",
       "      <td>KNITTED UNION FLAG HOT WATER BOTTLE</td>\n",
       "      <td>6</td>\n",
       "      <td>2010-12-01 08:26:00</td>\n",
       "      <td>3.39</td>\n",
       "      <td>17850</td>\n",
       "      <td>United Kingdom</td>\n",
       "      <td>20.34</td>\n",
       "    </tr>\n",
       "    <tr>\n",
       "      <th>4</th>\n",
       "      <td>536365</td>\n",
       "      <td>84029E</td>\n",
       "      <td>RED WOOLLY HOTTIE WHITE HEART.</td>\n",
       "      <td>6</td>\n",
       "      <td>2010-12-01 08:26:00</td>\n",
       "      <td>3.39</td>\n",
       "      <td>17850</td>\n",
       "      <td>United Kingdom</td>\n",
       "      <td>20.34</td>\n",
       "    </tr>\n",
       "  </tbody>\n",
       "</table>\n",
       "</div>"
      ],
      "text/plain": [
       "  InvoiceNo StockCode                          Description  Quantity  \\\n",
       "0    536365    85123A   WHITE HANGING HEART T-LIGHT HOLDER         6   \n",
       "1    536365     71053                  WHITE METAL LANTERN         6   \n",
       "2    536365    84406B       CREAM CUPID HEARTS COAT HANGER         8   \n",
       "3    536365    84029G  KNITTED UNION FLAG HOT WATER BOTTLE         6   \n",
       "4    536365    84029E       RED WOOLLY HOTTIE WHITE HEART.         6   \n",
       "\n",
       "          InvoiceDate  UnitPrice CustomerID         Country  TransactionAmount  \n",
       "0 2010-12-01 08:26:00       2.55      17850  United Kingdom              15.30  \n",
       "1 2010-12-01 08:26:00       3.39      17850  United Kingdom              20.34  \n",
       "2 2010-12-01 08:26:00       2.75      17850  United Kingdom              22.00  \n",
       "3 2010-12-01 08:26:00       3.39      17850  United Kingdom              20.34  \n",
       "4 2010-12-01 08:26:00       3.39      17850  United Kingdom              20.34  "
      ]
     },
     "execution_count": 17,
     "metadata": {},
     "output_type": "execute_result"
    }
   ],
   "source": [
    "df = pd.read_pickle('../data/cleaned_data.pkl')\n",
    "df.head()"
   ]
  },
  {
   "cell_type": "markdown",
   "metadata": {},
   "source": [
    "---"
   ]
  },
  {
   "cell_type": "markdown",
   "metadata": {},
   "source": [
    "### **Calculate RFM Metrics**"
   ]
  },
  {
   "cell_type": "code",
   "execution_count": 18,
   "metadata": {
    "execution": {
     "iopub.execute_input": "2024-11-27T17:24:21.122681Z",
     "iopub.status.busy": "2024-11-27T17:24:21.122681Z",
     "iopub.status.idle": "2024-11-27T17:24:21.153930Z",
     "shell.execute_reply": "2024-11-27T17:24:21.153930Z"
    }
   },
   "outputs": [
    {
     "data": {
      "text/plain": [
       "Timestamp('2011-12-10 12:50:00')"
      ]
     },
     "execution_count": 18,
     "metadata": {},
     "output_type": "execute_result"
    }
   ],
   "source": [
    "# Calculate Reference data\n",
    "reference_date = df['InvoiceDate'].max() + pd.DateOffset(1)\n",
    "reference_date"
   ]
  },
  {
   "cell_type": "code",
   "execution_count": 19,
   "metadata": {
    "execution": {
     "iopub.execute_input": "2024-11-27T17:24:21.185156Z",
     "iopub.status.busy": "2024-11-27T17:24:21.153930Z",
     "iopub.status.idle": "2024-11-27T17:24:22.172255Z",
     "shell.execute_reply": "2024-11-27T17:24:22.173255Z"
    }
   },
   "outputs": [
    {
     "data": {
      "text/html": [
       "<div>\n",
       "<style scoped>\n",
       "    .dataframe tbody tr th:only-of-type {\n",
       "        vertical-align: middle;\n",
       "    }\n",
       "\n",
       "    .dataframe tbody tr th {\n",
       "        vertical-align: top;\n",
       "    }\n",
       "\n",
       "    .dataframe thead th {\n",
       "        text-align: right;\n",
       "    }\n",
       "</style>\n",
       "<table border=\"1\" class=\"dataframe\">\n",
       "  <thead>\n",
       "    <tr style=\"text-align: right;\">\n",
       "      <th></th>\n",
       "      <th>CustomerID</th>\n",
       "      <th>Recency</th>\n",
       "      <th>Frequency</th>\n",
       "      <th>Monetary</th>\n",
       "    </tr>\n",
       "  </thead>\n",
       "  <tbody>\n",
       "    <tr>\n",
       "      <th>0</th>\n",
       "      <td>12346</td>\n",
       "      <td>326</td>\n",
       "      <td>1</td>\n",
       "      <td>203.52</td>\n",
       "    </tr>\n",
       "    <tr>\n",
       "      <th>1</th>\n",
       "      <td>12347</td>\n",
       "      <td>2</td>\n",
       "      <td>7</td>\n",
       "      <td>4263.92</td>\n",
       "    </tr>\n",
       "    <tr>\n",
       "      <th>2</th>\n",
       "      <td>12348</td>\n",
       "      <td>75</td>\n",
       "      <td>4</td>\n",
       "      <td>1760.76</td>\n",
       "    </tr>\n",
       "    <tr>\n",
       "      <th>3</th>\n",
       "      <td>12349</td>\n",
       "      <td>19</td>\n",
       "      <td>1</td>\n",
       "      <td>1661.07</td>\n",
       "    </tr>\n",
       "    <tr>\n",
       "      <th>4</th>\n",
       "      <td>12350</td>\n",
       "      <td>310</td>\n",
       "      <td>1</td>\n",
       "      <td>334.40</td>\n",
       "    </tr>\n",
       "  </tbody>\n",
       "</table>\n",
       "</div>"
      ],
      "text/plain": [
       "  CustomerID  Recency  Frequency  Monetary\n",
       "0      12346      326          1    203.52\n",
       "1      12347        2          7   4263.92\n",
       "2      12348       75          4   1760.76\n",
       "3      12349       19          1   1661.07\n",
       "4      12350      310          1    334.40"
      ]
     },
     "execution_count": 19,
     "metadata": {},
     "output_type": "execute_result"
    }
   ],
   "source": [
    "# Calculate RFM Metrics\n",
    "rfm = df.groupby('CustomerID').agg(\n",
    "    Recency=('InvoiceDate', lambda x: (reference_date - x.max()).days),\n",
    "    Frequency=('InvoiceNo', 'nunique'),\n",
    "    Monetary=('TransactionAmount', 'sum')\n",
    ").reset_index()\n",
    "\n",
    "# RFM table preview\n",
    "rfm.head()"
   ]
  },
  {
   "cell_type": "code",
   "execution_count": 20,
   "metadata": {
    "execution": {
     "iopub.execute_input": "2024-11-27T17:24:22.183250Z",
     "iopub.status.busy": "2024-11-27T17:24:22.181250Z",
     "iopub.status.idle": "2024-11-27T17:24:22.205151Z",
     "shell.execute_reply": "2024-11-27T17:24:22.207150Z"
    }
   },
   "outputs": [
    {
     "name": "stdout",
     "output_type": "stream",
     "text": [
      "Recency       1.246048\n",
      "Frequency    12.067031\n",
      "Monetary     20.563899\n",
      "dtype: float64\n"
     ]
    }
   ],
   "source": [
    "# Check skewness of RFM metrics\n",
    "print(rfm[[\"Recency\", \"Frequency\", \"Monetary\"]].skew())"
   ]
  },
  {
   "cell_type": "code",
   "execution_count": 21,
   "metadata": {
    "execution": {
     "iopub.execute_input": "2024-11-27T17:24:22.220970Z",
     "iopub.status.busy": "2024-11-27T17:24:22.219144Z",
     "iopub.status.idle": "2024-11-27T17:24:22.274503Z",
     "shell.execute_reply": "2024-11-27T17:24:22.276501Z"
    }
   },
   "outputs": [
    {
     "data": {
      "text/html": [
       "<div>\n",
       "<style scoped>\n",
       "    .dataframe tbody tr th:only-of-type {\n",
       "        vertical-align: middle;\n",
       "    }\n",
       "\n",
       "    .dataframe tbody tr th {\n",
       "        vertical-align: top;\n",
       "    }\n",
       "\n",
       "    .dataframe thead th {\n",
       "        text-align: right;\n",
       "    }\n",
       "</style>\n",
       "<table border=\"1\" class=\"dataframe\">\n",
       "  <thead>\n",
       "    <tr style=\"text-align: right;\">\n",
       "      <th></th>\n",
       "      <th>CustomerID</th>\n",
       "      <th>Recency</th>\n",
       "      <th>Frequency</th>\n",
       "      <th>Monetary</th>\n",
       "      <th>Recency_log</th>\n",
       "      <th>Frequency_log</th>\n",
       "      <th>Monetary_log</th>\n",
       "    </tr>\n",
       "  </thead>\n",
       "  <tbody>\n",
       "    <tr>\n",
       "      <th>0</th>\n",
       "      <td>12346</td>\n",
       "      <td>326</td>\n",
       "      <td>1</td>\n",
       "      <td>203.52</td>\n",
       "      <td>5.79</td>\n",
       "      <td>0.69</td>\n",
       "      <td>5.32</td>\n",
       "    </tr>\n",
       "    <tr>\n",
       "      <th>1</th>\n",
       "      <td>12347</td>\n",
       "      <td>2</td>\n",
       "      <td>7</td>\n",
       "      <td>4263.92</td>\n",
       "      <td>1.10</td>\n",
       "      <td>2.08</td>\n",
       "      <td>8.36</td>\n",
       "    </tr>\n",
       "    <tr>\n",
       "      <th>2</th>\n",
       "      <td>12348</td>\n",
       "      <td>75</td>\n",
       "      <td>4</td>\n",
       "      <td>1760.76</td>\n",
       "      <td>4.33</td>\n",
       "      <td>1.61</td>\n",
       "      <td>7.47</td>\n",
       "    </tr>\n",
       "    <tr>\n",
       "      <th>3</th>\n",
       "      <td>12349</td>\n",
       "      <td>19</td>\n",
       "      <td>1</td>\n",
       "      <td>1661.07</td>\n",
       "      <td>3.00</td>\n",
       "      <td>0.69</td>\n",
       "      <td>7.42</td>\n",
       "    </tr>\n",
       "    <tr>\n",
       "      <th>4</th>\n",
       "      <td>12350</td>\n",
       "      <td>310</td>\n",
       "      <td>1</td>\n",
       "      <td>334.40</td>\n",
       "      <td>5.74</td>\n",
       "      <td>0.69</td>\n",
       "      <td>5.82</td>\n",
       "    </tr>\n",
       "  </tbody>\n",
       "</table>\n",
       "</div>"
      ],
      "text/plain": [
       "  CustomerID  Recency  Frequency  Monetary  Recency_log  Frequency_log  \\\n",
       "0      12346      326          1    203.52         5.79           0.69   \n",
       "1      12347        2          7   4263.92         1.10           2.08   \n",
       "2      12348       75          4   1760.76         4.33           1.61   \n",
       "3      12349       19          1   1661.07         3.00           0.69   \n",
       "4      12350      310          1    334.40         5.74           0.69   \n",
       "\n",
       "   Monetary_log  \n",
       "0          5.32  \n",
       "1          8.36  \n",
       "2          7.47  \n",
       "3          7.42  \n",
       "4          5.82  "
      ]
     },
     "execution_count": 21,
     "metadata": {},
     "output_type": "execute_result"
    }
   ],
   "source": [
    "# Log-Transform RFM Metrics\n",
    "rfm[[\"Recency_log\", \"Frequency_log\", \"Monetary_log\"]] = rfm[[\"Recency\", \"Frequency\", \"Monetary\"]].apply(lambda x: np.log1p(x)).round(2)\n",
    "rfm.head()"
   ]
  },
  {
   "cell_type": "code",
   "execution_count": 22,
   "metadata": {
    "execution": {
     "iopub.execute_input": "2024-11-27T17:24:22.285939Z",
     "iopub.status.busy": "2024-11-27T17:24:22.284686Z",
     "iopub.status.idle": "2024-11-27T17:24:22.304471Z",
     "shell.execute_reply": "2024-11-27T17:24:22.305469Z"
    }
   },
   "outputs": [
    {
     "data": {
      "text/plain": [
       "Recency_log     -0.379257\n",
       "Frequency_log    1.200459\n",
       "Monetary_log     0.306526\n",
       "dtype: float64"
      ]
     },
     "execution_count": 22,
     "metadata": {},
     "output_type": "execute_result"
    }
   ],
   "source": [
    "rfm[[\"Recency_log\", \"Frequency_log\", \"Monetary_log\"]].skew()"
   ]
  },
  {
   "cell_type": "markdown",
   "metadata": {},
   "source": [
    "### **RFM Scoring**"
   ]
  },
  {
   "cell_type": "code",
   "execution_count": 23,
   "metadata": {
    "execution": {
     "iopub.execute_input": "2024-11-27T17:24:22.313467Z",
     "iopub.status.busy": "2024-11-27T17:24:22.312466Z",
     "iopub.status.idle": "2024-11-27T17:24:22.354405Z",
     "shell.execute_reply": "2024-11-27T17:24:22.355403Z"
    }
   },
   "outputs": [
    {
     "data": {
      "text/html": [
       "<div>\n",
       "<style scoped>\n",
       "    .dataframe tbody tr th:only-of-type {\n",
       "        vertical-align: middle;\n",
       "    }\n",
       "\n",
       "    .dataframe tbody tr th {\n",
       "        vertical-align: top;\n",
       "    }\n",
       "\n",
       "    .dataframe thead th {\n",
       "        text-align: right;\n",
       "    }\n",
       "</style>\n",
       "<table border=\"1\" class=\"dataframe\">\n",
       "  <thead>\n",
       "    <tr style=\"text-align: right;\">\n",
       "      <th></th>\n",
       "      <th>CustomerID</th>\n",
       "      <th>Recency</th>\n",
       "      <th>Frequency</th>\n",
       "      <th>Monetary</th>\n",
       "      <th>Recency_log</th>\n",
       "      <th>Frequency_log</th>\n",
       "      <th>Monetary_log</th>\n",
       "      <th>RFM_score</th>\n",
       "    </tr>\n",
       "  </thead>\n",
       "  <tbody>\n",
       "    <tr>\n",
       "      <th>0</th>\n",
       "      <td>12346</td>\n",
       "      <td>1</td>\n",
       "      <td>1</td>\n",
       "      <td>1</td>\n",
       "      <td>5.79</td>\n",
       "      <td>0.69</td>\n",
       "      <td>5.32</td>\n",
       "      <td>3</td>\n",
       "    </tr>\n",
       "    <tr>\n",
       "      <th>1</th>\n",
       "      <td>12347</td>\n",
       "      <td>5</td>\n",
       "      <td>5</td>\n",
       "      <td>5</td>\n",
       "      <td>1.10</td>\n",
       "      <td>2.08</td>\n",
       "      <td>8.36</td>\n",
       "      <td>15</td>\n",
       "    </tr>\n",
       "    <tr>\n",
       "      <th>2</th>\n",
       "      <td>12348</td>\n",
       "      <td>2</td>\n",
       "      <td>4</td>\n",
       "      <td>4</td>\n",
       "      <td>4.33</td>\n",
       "      <td>1.61</td>\n",
       "      <td>7.47</td>\n",
       "      <td>10</td>\n",
       "    </tr>\n",
       "    <tr>\n",
       "      <th>3</th>\n",
       "      <td>12349</td>\n",
       "      <td>4</td>\n",
       "      <td>1</td>\n",
       "      <td>4</td>\n",
       "      <td>3.00</td>\n",
       "      <td>0.69</td>\n",
       "      <td>7.42</td>\n",
       "      <td>9</td>\n",
       "    </tr>\n",
       "    <tr>\n",
       "      <th>4</th>\n",
       "      <td>12350</td>\n",
       "      <td>1</td>\n",
       "      <td>1</td>\n",
       "      <td>2</td>\n",
       "      <td>5.74</td>\n",
       "      <td>0.69</td>\n",
       "      <td>5.82</td>\n",
       "      <td>4</td>\n",
       "    </tr>\n",
       "  </tbody>\n",
       "</table>\n",
       "</div>"
      ],
      "text/plain": [
       "  CustomerID Recency Frequency Monetary  Recency_log  Frequency_log  \\\n",
       "0      12346       1         1        1         5.79           0.69   \n",
       "1      12347       5         5        5         1.10           2.08   \n",
       "2      12348       2         4        4         4.33           1.61   \n",
       "3      12349       4         1        4         3.00           0.69   \n",
       "4      12350       1         1        2         5.74           0.69   \n",
       "\n",
       "   Monetary_log  RFM_score  \n",
       "0          5.32          3  \n",
       "1          8.36         15  \n",
       "2          7.47         10  \n",
       "3          7.42          9  \n",
       "4          5.82          4  "
      ]
     },
     "execution_count": 23,
     "metadata": {},
     "output_type": "execute_result"
    }
   ],
   "source": [
    "rfm['Recency'] = pd.qcut(rfm['Recency'], 5, labels=[5,4,3,2,1])\n",
    "rfm['Frequency'] = pd.qcut(rfm['Frequency'].rank(method='first'), 5, labels=[1,2,3,4,5])\n",
    "rfm['Monetary'] = pd.qcut(rfm['Monetary'].rank(method='first'), 5, labels=[1,2,3,4,5])\n",
    "\n",
    "# Combine scores into one\n",
    "rfm['RFM_score'] = rfm['Recency'].astype(int) + rfm['Frequency'].astype(int) + rfm['Monetary'].astype(int)\n",
    "\n",
    "rfm.head()"
   ]
  },
  {
   "cell_type": "markdown",
   "metadata": {},
   "source": [
    "### **Value Segmentation**"
   ]
  },
  {
   "cell_type": "code",
   "execution_count": 24,
   "metadata": {
    "execution": {
     "iopub.execute_input": "2024-11-27T17:24:22.362401Z",
     "iopub.status.busy": "2024-11-27T17:24:22.361400Z",
     "iopub.status.idle": "2024-11-27T17:24:22.393941Z",
     "shell.execute_reply": "2024-11-27T17:24:22.394943Z"
    }
   },
   "outputs": [
    {
     "data": {
      "text/html": [
       "<div>\n",
       "<style scoped>\n",
       "    .dataframe tbody tr th:only-of-type {\n",
       "        vertical-align: middle;\n",
       "    }\n",
       "\n",
       "    .dataframe tbody tr th {\n",
       "        vertical-align: top;\n",
       "    }\n",
       "\n",
       "    .dataframe thead th {\n",
       "        text-align: right;\n",
       "    }\n",
       "</style>\n",
       "<table border=\"1\" class=\"dataframe\">\n",
       "  <thead>\n",
       "    <tr style=\"text-align: right;\">\n",
       "      <th></th>\n",
       "      <th>CustomerID</th>\n",
       "      <th>Recency</th>\n",
       "      <th>Frequency</th>\n",
       "      <th>Monetary</th>\n",
       "      <th>Recency_log</th>\n",
       "      <th>Frequency_log</th>\n",
       "      <th>Monetary_log</th>\n",
       "      <th>RFM_score</th>\n",
       "      <th>Value_segment</th>\n",
       "    </tr>\n",
       "  </thead>\n",
       "  <tbody>\n",
       "    <tr>\n",
       "      <th>0</th>\n",
       "      <td>12346</td>\n",
       "      <td>1</td>\n",
       "      <td>1</td>\n",
       "      <td>1</td>\n",
       "      <td>5.79</td>\n",
       "      <td>0.69</td>\n",
       "      <td>5.32</td>\n",
       "      <td>3</td>\n",
       "      <td>Low-value</td>\n",
       "    </tr>\n",
       "    <tr>\n",
       "      <th>1</th>\n",
       "      <td>12347</td>\n",
       "      <td>5</td>\n",
       "      <td>5</td>\n",
       "      <td>5</td>\n",
       "      <td>1.10</td>\n",
       "      <td>2.08</td>\n",
       "      <td>8.36</td>\n",
       "      <td>15</td>\n",
       "      <td>High-value</td>\n",
       "    </tr>\n",
       "    <tr>\n",
       "      <th>2</th>\n",
       "      <td>12348</td>\n",
       "      <td>2</td>\n",
       "      <td>4</td>\n",
       "      <td>4</td>\n",
       "      <td>4.33</td>\n",
       "      <td>1.61</td>\n",
       "      <td>7.47</td>\n",
       "      <td>10</td>\n",
       "      <td>Mid-value</td>\n",
       "    </tr>\n",
       "    <tr>\n",
       "      <th>3</th>\n",
       "      <td>12349</td>\n",
       "      <td>4</td>\n",
       "      <td>1</td>\n",
       "      <td>4</td>\n",
       "      <td>3.00</td>\n",
       "      <td>0.69</td>\n",
       "      <td>7.42</td>\n",
       "      <td>9</td>\n",
       "      <td>Mid-value</td>\n",
       "    </tr>\n",
       "    <tr>\n",
       "      <th>4</th>\n",
       "      <td>12350</td>\n",
       "      <td>1</td>\n",
       "      <td>1</td>\n",
       "      <td>2</td>\n",
       "      <td>5.74</td>\n",
       "      <td>0.69</td>\n",
       "      <td>5.82</td>\n",
       "      <td>4</td>\n",
       "      <td>Low-value</td>\n",
       "    </tr>\n",
       "  </tbody>\n",
       "</table>\n",
       "</div>"
      ],
      "text/plain": [
       "  CustomerID Recency Frequency Monetary  Recency_log  Frequency_log  \\\n",
       "0      12346       1         1        1         5.79           0.69   \n",
       "1      12347       5         5        5         1.10           2.08   \n",
       "2      12348       2         4        4         4.33           1.61   \n",
       "3      12349       4         1        4         3.00           0.69   \n",
       "4      12350       1         1        2         5.74           0.69   \n",
       "\n",
       "   Monetary_log  RFM_score Value_segment  \n",
       "0          5.32          3     Low-value  \n",
       "1          8.36         15    High-value  \n",
       "2          7.47         10     Mid-value  \n",
       "3          7.42          9     Mid-value  \n",
       "4          5.82          4     Low-value  "
      ]
     },
     "execution_count": 24,
     "metadata": {},
     "output_type": "execute_result"
    }
   ],
   "source": [
    "value_labels = ['Low-value', 'Mid-value', 'High-value']\n",
    "rfm['Value_segment'] = pd.qcut(rfm['RFM_score'], q=3, labels=value_labels)\n",
    "# Preview\n",
    "rfm.head()"
   ]
  },
  {
   "cell_type": "markdown",
   "metadata": {},
   "source": [
    "### **Behavioral Segmentation**"
   ]
  },
  {
   "cell_type": "code",
   "execution_count": 25,
   "metadata": {
    "execution": {
     "iopub.execute_input": "2024-11-27T17:24:22.406829Z",
     "iopub.status.busy": "2024-11-27T17:24:22.404830Z",
     "iopub.status.idle": "2024-11-27T17:24:22.568448Z",
     "shell.execute_reply": "2024-11-27T17:24:22.567449Z"
    }
   },
   "outputs": [
    {
     "name": "stdout",
     "output_type": "stream",
     "text": [
      "Customer_segment\n",
      "Potential Loyalists    1078\n",
      "Loyal Customers        1016\n",
      "VIP                     931\n",
      "At Risk                 766\n",
      "Hibernating             547\n",
      "Name: count, dtype: int64\n"
     ]
    },
    {
     "data": {
      "text/html": [
       "<div>\n",
       "<style scoped>\n",
       "    .dataframe tbody tr th:only-of-type {\n",
       "        vertical-align: middle;\n",
       "    }\n",
       "\n",
       "    .dataframe tbody tr th {\n",
       "        vertical-align: top;\n",
       "    }\n",
       "\n",
       "    .dataframe thead th {\n",
       "        text-align: right;\n",
       "    }\n",
       "</style>\n",
       "<table border=\"1\" class=\"dataframe\">\n",
       "  <thead>\n",
       "    <tr style=\"text-align: right;\">\n",
       "      <th></th>\n",
       "      <th>CustomerID</th>\n",
       "      <th>Recency</th>\n",
       "      <th>Frequency</th>\n",
       "      <th>Monetary</th>\n",
       "      <th>Recency_log</th>\n",
       "      <th>Frequency_log</th>\n",
       "      <th>Monetary_log</th>\n",
       "      <th>RFM_score</th>\n",
       "      <th>Value_segment</th>\n",
       "      <th>Customer_segment</th>\n",
       "    </tr>\n",
       "  </thead>\n",
       "  <tbody>\n",
       "    <tr>\n",
       "      <th>0</th>\n",
       "      <td>12346</td>\n",
       "      <td>1</td>\n",
       "      <td>1</td>\n",
       "      <td>1</td>\n",
       "      <td>5.79</td>\n",
       "      <td>0.69</td>\n",
       "      <td>5.32</td>\n",
       "      <td>3</td>\n",
       "      <td>Low-value</td>\n",
       "      <td>Hibernating</td>\n",
       "    </tr>\n",
       "    <tr>\n",
       "      <th>1</th>\n",
       "      <td>12347</td>\n",
       "      <td>5</td>\n",
       "      <td>5</td>\n",
       "      <td>5</td>\n",
       "      <td>1.10</td>\n",
       "      <td>2.08</td>\n",
       "      <td>8.36</td>\n",
       "      <td>15</td>\n",
       "      <td>High-value</td>\n",
       "      <td>VIP</td>\n",
       "    </tr>\n",
       "    <tr>\n",
       "      <th>2</th>\n",
       "      <td>12348</td>\n",
       "      <td>2</td>\n",
       "      <td>4</td>\n",
       "      <td>4</td>\n",
       "      <td>4.33</td>\n",
       "      <td>1.61</td>\n",
       "      <td>7.47</td>\n",
       "      <td>10</td>\n",
       "      <td>Mid-value</td>\n",
       "      <td>Loyal Customers</td>\n",
       "    </tr>\n",
       "    <tr>\n",
       "      <th>3</th>\n",
       "      <td>12349</td>\n",
       "      <td>4</td>\n",
       "      <td>1</td>\n",
       "      <td>4</td>\n",
       "      <td>3.00</td>\n",
       "      <td>0.69</td>\n",
       "      <td>7.42</td>\n",
       "      <td>9</td>\n",
       "      <td>Mid-value</td>\n",
       "      <td>Potential Loyalists</td>\n",
       "    </tr>\n",
       "    <tr>\n",
       "      <th>4</th>\n",
       "      <td>12350</td>\n",
       "      <td>1</td>\n",
       "      <td>1</td>\n",
       "      <td>2</td>\n",
       "      <td>5.74</td>\n",
       "      <td>0.69</td>\n",
       "      <td>5.82</td>\n",
       "      <td>4</td>\n",
       "      <td>Low-value</td>\n",
       "      <td>Hibernating</td>\n",
       "    </tr>\n",
       "  </tbody>\n",
       "</table>\n",
       "</div>"
      ],
      "text/plain": [
       "  CustomerID Recency Frequency Monetary  Recency_log  Frequency_log  \\\n",
       "0      12346       1         1        1         5.79           0.69   \n",
       "1      12347       5         5        5         1.10           2.08   \n",
       "2      12348       2         4        4         4.33           1.61   \n",
       "3      12349       4         1        4         3.00           0.69   \n",
       "4      12350       1         1        2         5.74           0.69   \n",
       "\n",
       "   Monetary_log  RFM_score Value_segment     Customer_segment  \n",
       "0          5.32          3     Low-value          Hibernating  \n",
       "1          8.36         15    High-value                  VIP  \n",
       "2          7.47         10     Mid-value      Loyal Customers  \n",
       "3          7.42          9     Mid-value  Potential Loyalists  \n",
       "4          5.82          4     Low-value          Hibernating  "
      ]
     },
     "execution_count": 25,
     "metadata": {},
     "output_type": "execute_result"
    }
   ],
   "source": [
    "def behaviour_segment(row):\n",
    "    if row['RFM_score'] >= 13:\n",
    "        return 'VIP'\n",
    "    if row['RFM_score'] >= 10:\n",
    "        return 'Loyal Customers'\n",
    "    if row['RFM_score'] >= 7:\n",
    "        return 'Potential Loyalists'\n",
    "    if row['RFM_score'] >= 5:\n",
    "        return 'At Risk'\n",
    "    else:\n",
    "        return 'Hibernating'\n",
    "    \n",
    "# Applying the segmentation strategy\n",
    "rfm['Customer_segment'] = rfm.apply(behaviour_segment, axis=1)\n",
    "print(rfm['Customer_segment'].value_counts())\n",
    "\n",
    "rfm.head()"
   ]
  },
  {
   "cell_type": "code",
   "execution_count": 26,
   "metadata": {
    "execution": {
     "iopub.execute_input": "2024-11-27T17:24:22.629992Z",
     "iopub.status.busy": "2024-11-27T17:24:22.628991Z",
     "iopub.status.idle": "2024-11-27T17:24:22.772565Z",
     "shell.execute_reply": "2024-11-27T17:24:22.773563Z"
    }
   },
   "outputs": [
    {
     "name": "stdout",
     "output_type": "stream",
     "text": [
      "(392687, 18)\n"
     ]
    },
    {
     "data": {
      "text/html": [
       "<div>\n",
       "<style scoped>\n",
       "    .dataframe tbody tr th:only-of-type {\n",
       "        vertical-align: middle;\n",
       "    }\n",
       "\n",
       "    .dataframe tbody tr th {\n",
       "        vertical-align: top;\n",
       "    }\n",
       "\n",
       "    .dataframe thead th {\n",
       "        text-align: right;\n",
       "    }\n",
       "</style>\n",
       "<table border=\"1\" class=\"dataframe\">\n",
       "  <thead>\n",
       "    <tr style=\"text-align: right;\">\n",
       "      <th></th>\n",
       "      <th>InvoiceNo</th>\n",
       "      <th>StockCode</th>\n",
       "      <th>Description</th>\n",
       "      <th>Quantity</th>\n",
       "      <th>InvoiceDate</th>\n",
       "      <th>UnitPrice</th>\n",
       "      <th>CustomerID</th>\n",
       "      <th>Country</th>\n",
       "      <th>TransactionAmount</th>\n",
       "      <th>Recency</th>\n",
       "      <th>Frequency</th>\n",
       "      <th>Monetary</th>\n",
       "      <th>Recency_log</th>\n",
       "      <th>Frequency_log</th>\n",
       "      <th>Monetary_log</th>\n",
       "      <th>RFM_score</th>\n",
       "      <th>Value_segment</th>\n",
       "      <th>Customer_segment</th>\n",
       "    </tr>\n",
       "  </thead>\n",
       "  <tbody>\n",
       "    <tr>\n",
       "      <th>0</th>\n",
       "      <td>536365</td>\n",
       "      <td>85123A</td>\n",
       "      <td>WHITE HANGING HEART T-LIGHT HOLDER</td>\n",
       "      <td>6</td>\n",
       "      <td>2010-12-01 08:26:00</td>\n",
       "      <td>2.55</td>\n",
       "      <td>17850</td>\n",
       "      <td>United Kingdom</td>\n",
       "      <td>15.30</td>\n",
       "      <td>1</td>\n",
       "      <td>5</td>\n",
       "      <td>5</td>\n",
       "      <td>5.92</td>\n",
       "      <td>3.56</td>\n",
       "      <td>8.59</td>\n",
       "      <td>11</td>\n",
       "      <td>Mid-value</td>\n",
       "      <td>Loyal Customers</td>\n",
       "    </tr>\n",
       "    <tr>\n",
       "      <th>1</th>\n",
       "      <td>536365</td>\n",
       "      <td>71053</td>\n",
       "      <td>WHITE METAL LANTERN</td>\n",
       "      <td>6</td>\n",
       "      <td>2010-12-01 08:26:00</td>\n",
       "      <td>3.39</td>\n",
       "      <td>17850</td>\n",
       "      <td>United Kingdom</td>\n",
       "      <td>20.34</td>\n",
       "      <td>1</td>\n",
       "      <td>5</td>\n",
       "      <td>5</td>\n",
       "      <td>5.92</td>\n",
       "      <td>3.56</td>\n",
       "      <td>8.59</td>\n",
       "      <td>11</td>\n",
       "      <td>Mid-value</td>\n",
       "      <td>Loyal Customers</td>\n",
       "    </tr>\n",
       "    <tr>\n",
       "      <th>2</th>\n",
       "      <td>536365</td>\n",
       "      <td>84406B</td>\n",
       "      <td>CREAM CUPID HEARTS COAT HANGER</td>\n",
       "      <td>8</td>\n",
       "      <td>2010-12-01 08:26:00</td>\n",
       "      <td>2.75</td>\n",
       "      <td>17850</td>\n",
       "      <td>United Kingdom</td>\n",
       "      <td>22.00</td>\n",
       "      <td>1</td>\n",
       "      <td>5</td>\n",
       "      <td>5</td>\n",
       "      <td>5.92</td>\n",
       "      <td>3.56</td>\n",
       "      <td>8.59</td>\n",
       "      <td>11</td>\n",
       "      <td>Mid-value</td>\n",
       "      <td>Loyal Customers</td>\n",
       "    </tr>\n",
       "  </tbody>\n",
       "</table>\n",
       "</div>"
      ],
      "text/plain": [
       "  InvoiceNo StockCode                         Description  Quantity  \\\n",
       "0    536365    85123A  WHITE HANGING HEART T-LIGHT HOLDER         6   \n",
       "1    536365     71053                 WHITE METAL LANTERN         6   \n",
       "2    536365    84406B      CREAM CUPID HEARTS COAT HANGER         8   \n",
       "\n",
       "          InvoiceDate  UnitPrice CustomerID         Country  \\\n",
       "0 2010-12-01 08:26:00       2.55      17850  United Kingdom   \n",
       "1 2010-12-01 08:26:00       3.39      17850  United Kingdom   \n",
       "2 2010-12-01 08:26:00       2.75      17850  United Kingdom   \n",
       "\n",
       "   TransactionAmount Recency Frequency Monetary  Recency_log  Frequency_log  \\\n",
       "0              15.30       1         5        5         5.92           3.56   \n",
       "1              20.34       1         5        5         5.92           3.56   \n",
       "2              22.00       1         5        5         5.92           3.56   \n",
       "\n",
       "   Monetary_log  RFM_score Value_segment Customer_segment  \n",
       "0          8.59         11     Mid-value  Loyal Customers  \n",
       "1          8.59         11     Mid-value  Loyal Customers  \n",
       "2          8.59         11     Mid-value  Loyal Customers  "
      ]
     },
     "execution_count": 26,
     "metadata": {},
     "output_type": "execute_result"
    }
   ],
   "source": [
    "# Merge the RFM metrics back to the original dataframe\n",
    "df_combined = df.merge(rfm, on='CustomerID', how='left')\n",
    "print(df_combined.shape)\n",
    "df_combined.head(3)"
   ]
  },
  {
   "cell_type": "code",
   "execution_count": 27,
   "metadata": {
    "execution": {
     "iopub.execute_input": "2024-11-27T17:24:22.780562Z",
     "iopub.status.busy": "2024-11-27T17:24:22.777562Z",
     "iopub.status.idle": "2024-11-27T17:24:23.083259Z",
     "shell.execute_reply": "2024-11-27T17:24:23.083259Z"
    }
   },
   "outputs": [],
   "source": [
    "# Save combined DataFrame\n",
    "df_combined.to_pickle('../data/combined_data.pkl')"
   ]
  },
  {
   "cell_type": "markdown",
   "metadata": {},
   "source": [
    "## **Overview of Segments (RFM Analysis)**"
   ]
  },
  {
   "cell_type": "code",
   "execution_count": 76,
   "metadata": {
    "execution": {
     "iopub.execute_input": "2024-11-27T17:24:23.083259Z",
     "iopub.status.busy": "2024-11-27T17:24:23.083259Z",
     "iopub.status.idle": "2024-11-27T17:24:23.348825Z",
     "shell.execute_reply": "2024-11-27T17:24:23.348825Z"
    }
   },
   "outputs": [
    {
     "data": {
      "text/plain": [
       "Index(['InvoiceNo', 'StockCode', 'Description', 'Quantity', 'InvoiceDate',\n",
       "       'UnitPrice', 'CustomerID', 'Country', 'TransactionAmount', 'Recency',\n",
       "       'Frequency', 'Monetary', 'Recency_log', 'Frequency_log', 'Monetary_log',\n",
       "       'RFM_score', 'Value_segment', 'Customer_segment'],\n",
       "      dtype='object')"
      ]
     },
     "execution_count": 76,
     "metadata": {},
     "output_type": "execute_result"
    }
   ],
   "source": [
    "# Load combined DataFrame\n",
    "rfm_df = pd.read_pickle('../data/combined_data.pkl')\n",
    "rfm_df.columns"
   ]
  },
  {
   "cell_type": "code",
   "execution_count": 77,
   "metadata": {
    "execution": {
     "iopub.execute_input": "2024-11-27T17:24:23.348825Z",
     "iopub.status.busy": "2024-11-27T17:24:23.348825Z",
     "iopub.status.idle": "2024-11-27T17:24:23.380074Z",
     "shell.execute_reply": "2024-11-27T17:24:23.380074Z"
    }
   },
   "outputs": [],
   "source": [
    "rfm_df[['Recency', 'Frequency', 'Monetary']] = rfm_df[['Recency', 'Frequency', 'Monetary']].astype(int)"
   ]
  },
  {
   "cell_type": "markdown",
   "metadata": {},
   "source": [
    "How are the segments distributed?"
   ]
  },
  {
   "cell_type": "code",
   "execution_count": 78,
   "metadata": {
    "execution": {
     "iopub.execute_input": "2024-11-27T17:24:23.380074Z",
     "iopub.status.busy": "2024-11-27T17:24:23.380074Z",
     "iopub.status.idle": "2024-11-27T17:24:24.653260Z",
     "shell.execute_reply": "2024-11-27T17:24:24.654298Z"
    }
   },
   "outputs": [
    {
     "name": "stdout",
     "output_type": "stream",
     "text": [
      "Value_segment\n",
      "High-value    272510\n",
      "Mid-value      84209\n",
      "Low-value      35968\n",
      "Name: count, dtype: int64\n"
     ]
    },
    {
     "data": {
      "image/png": "[encoded data removed]",
      "text/plain": [
       "<Figure size 432x288 with 1 Axes>"
      ]
     },
     "metadata": {
      "needs_background": "light"
     },
     "output_type": "display_data"
    }
   ],
   "source": [
    "# Value segments\n",
    "value_counts = rfm_df['Value_segment'].value_counts()\n",
    "print(value_counts)\n",
    "\n",
    "# Plot distribution\n",
    "sns.countplot(data=rfm_df, x='Value_segment', order=value_counts.index, palette=\"inferno\")\n",
    "plt.title('Distribution of Value Segments')\n",
    "plt.xlabel('Value Segment')\n",
    "plt.ylabel('Count')\n",
    "plt.xticks(rotation=45)\n",
    "plt.show()"
   ]
  },
  {
   "cell_type": "markdown",
   "metadata": {},
   "source": [
    "**Investigating compositions of Value segments by customer segments**.\n",
    "\n",
    "Group by Value_segment and calculate the percentage of Customer_segment within each value segment"
   ]
  },
  {
   "cell_type": "code",
   "execution_count": 79,
   "metadata": {
    "execution": {
     "iopub.execute_input": "2024-11-27T17:24:24.665289Z",
     "iopub.status.busy": "2024-11-27T17:24:24.664294Z",
     "iopub.status.idle": "2024-11-27T17:24:25.138255Z",
     "shell.execute_reply": "2024-11-27T17:24:25.138255Z"
    }
   },
   "outputs": [
    {
     "data": {
      "image/png": "[encoded data removed]",
      "text/plain": [
       "<Figure size 720x432 with 1 Axes>"
      ]
     },
     "metadata": {
      "needs_background": "light"
     },
     "output_type": "display_data"
    }
   ],
   "source": [
    "composition = pd.crosstab(\n",
    "    rfm['Value_segment'], \n",
    "    rfm['Customer_segment'], \n",
    "    normalize='index'\n",
    ").mul(100).reset_index()\n",
    "# print(composition.head())\n",
    "\n",
    "pivot_data = composition.set_index('Value_segment')\n",
    "pivot_data.plot(kind='bar', stacked=True, colormap='inferno', figsize=(10, 6))\n",
    "plt.title('Composition of Value Segments by Customer Segments')\n",
    "plt.xlabel('Value Segment')\n",
    "plt.ylabel('Percentage')\n",
    "plt.legend(title='Customer Segment', bbox_to_anchor=(1.05, 1), loc='upper left')\n",
    "plt.tight_layout()\n",
    "plt.xticks(rotation=45)\n",
    "plt.show()"
   ]
  },
  {
   "cell_type": "markdown",
   "metadata": {},
   "source": [
    "**Analyze Revenue contribution by value segment**\n",
    "\n",
    "*Objective: Understand financial value of each segment*"
   ]
  },
  {
   "cell_type": "code",
   "execution_count": 80,
   "metadata": {
    "execution": {
     "iopub.execute_input": "2024-11-27T17:24:25.138255Z",
     "iopub.status.busy": "2024-11-27T17:24:25.138255Z",
     "iopub.status.idle": "2024-11-27T17:24:25.390692Z",
     "shell.execute_reply": "2024-11-27T17:24:25.390692Z"
    }
   },
   "outputs": [
    {
     "name": "stdout",
     "output_type": "stream",
     "text": [
      "Value_segment\n",
      "Low-value      527628.31\n",
      "Mid-value     1310305.44\n",
      "High-value    5683075.40\n",
      "Name: TransactionAmount, dtype: float64\n"
     ]
    },
    {
     "data": {
      "image/png": "[encoded data removed]",
      "text/plain": [
       "<Figure size 576x576 with 1 Axes>"
      ]
     },
     "metadata": {},
     "output_type": "display_data"
    }
   ],
   "source": [
    "revenue_by_value_seg = rfm_df.groupby('Value_segment')['TransactionAmount'].sum()\n",
    "print(revenue_by_value_seg)\n",
    "\n",
    "# Plot a pie chart\n",
    "plt.figure(figsize=(8, 8))\n",
    "wedges, texts, autotexts = plt.pie(\n",
    "    revenue_by_value_seg, \n",
    "    labels=revenue_by_value_seg.index,  # Add segment labels\n",
    "    autopct='%1.1f%%',                 # Show percentage\n",
    "    startangle=320,                    # Rotate for better view\n",
    "    textprops={'fontsize': 14}         # Adjust text size\n",
    ")\n",
    "plt.legend(\n",
    "    wedges, revenue_by_value_seg.index,\n",
    "    title=\"Value Segments\",\n",
    "    loc=\"center left\",\n",
    "    bbox_to_anchor=(1, 0.5)\n",
    ")\n",
    "plt.title('Revenue Contribution by Value Segment', fontsize=14)\n",
    "plt.tight_layout()  # Adjust layout to fit everything\n",
    "plt.show()"
   ]
  },
  {
   "cell_type": "markdown",
   "metadata": {},
   "source": [
    "**Customer Engagement Analysis within Value Segments**"
   ]
  },
  {
   "cell_type": "code",
   "execution_count": 115,
   "metadata": {
    "execution": {
     "iopub.execute_input": "2024-11-27T17:24:25.390692Z",
     "iopub.status.busy": "2024-11-27T17:24:25.390692Z",
     "iopub.status.idle": "2024-11-27T17:24:25.421940Z",
     "shell.execute_reply": "2024-11-27T17:24:25.421940Z"
    }
   },
   "outputs": [
    {
     "data": {
      "text/plain": [
       "Value_segment\n",
       "Low-value     0.810562\n",
       "Mid-value     1.369330\n",
       "High-value    2.677773\n",
       "Name: Frequency_log, dtype: float64"
      ]
     },
     "execution_count": 115,
     "metadata": {},
     "output_type": "execute_result"
    }
   ],
   "source": [
    "engagement_by_value_seg = rfm_df.groupby('Value_segment')['Frequency_log'].mean()\n",
    "engagement_by_value_seg"
   ]
  },
  {
   "cell_type": "code",
   "execution_count": 82,
   "metadata": {
    "execution": {
     "iopub.execute_input": "2024-11-27T17:24:25.562560Z",
     "iopub.status.busy": "2024-11-27T17:24:25.562560Z",
     "iopub.status.idle": "2024-11-27T17:24:25.955263Z",
     "shell.execute_reply": "2024-11-27T17:24:25.955263Z"
    }
   },
   "outputs": [
    {
     "data": {
      "image/png": "[encoded data removed]",
      "text/plain": [
       "<Figure size 576x288 with 2 Axes>"
      ]
     },
     "metadata": {
      "needs_background": "light"
     },
     "output_type": "display_data"
    }
   ],
   "source": [
    "# Convert to DataFrame for Seaborn\n",
    "engagement_df = engagement_by_value_seg.reset_index()\n",
    "engagement_df.columns = ['Value Segment', 'Average Engagement']\n",
    "\n",
    "# Plot a heatmap\n",
    "plt.figure(figsize=(8, 4))\n",
    "sns.heatmap(\n",
    "    engagement_df.pivot_table(index='Value Segment', values='Average Engagement'), \n",
    "    annot=True, fmt=\".2f\", cmap='Blues', cbar_kws={'label': 'Average Engagement'}\n",
    ")\n",
    "plt.title('Customer Engagement Heatmap by Value Segment', fontsize=14)\n",
    "plt.tight_layout()\n",
    "plt.show()"
   ]
  },
  {
   "cell_type": "markdown",
   "metadata": {},
   "source": [
    "**Trend Analysis of Value Segment Behavior**\n",
    "\n",
    "*Objective: Understand how the purchasing behavior of each value segment changes over time.*"
   ]
  },
  {
   "cell_type": "code",
   "execution_count": 83,
   "metadata": {
    "execution": {
     "iopub.execute_input": "2024-11-27T17:24:25.986514Z",
     "iopub.status.busy": "2024-11-27T17:24:25.970887Z",
     "iopub.status.idle": "2024-11-27T17:24:26.158385Z",
     "shell.execute_reply": "2024-11-27T17:24:26.158385Z"
    }
   },
   "outputs": [],
   "source": [
    "rfm_df['InvoiceDate'] = pd.to_datetime(rfm_df['InvoiceDate'])\n",
    "rfm_df.set_index('InvoiceDate', inplace=True)\n",
    "trend_by_segment = rfm_df.groupby(['Value_segment']).resample('M')['TransactionAmount'].sum().unstack()\n",
    "# trend_by_segment"
   ]
  },
  {
   "cell_type": "code",
   "execution_count": 84,
   "metadata": {
    "execution": {
     "iopub.execute_input": "2024-11-27T17:24:26.205257Z",
     "iopub.status.busy": "2024-11-27T17:24:26.174009Z",
     "iopub.status.idle": "2024-11-27T17:24:26.975934Z",
     "shell.execute_reply": "2024-11-27T17:24:26.975934Z"
    }
   },
   "outputs": [
    {
     "data": {
      "image/png": "[encoded data removed]",
      "text/plain": [
       "<Figure size 864x432 with 1 Axes>"
      ]
     },
     "metadata": {
      "needs_background": "light"
     },
     "output_type": "display_data"
    }
   ],
   "source": [
    "# Prepare data for seaborn\n",
    "trend_df = trend_by_segment.stack().reset_index()\n",
    "trend_df.columns = ['Value Segment', 'Month', 'Transaction Amount']\n",
    "\n",
    "# Plot line plot\n",
    "plt.figure(figsize=(12, 6))\n",
    "sns.lineplot(\n",
    "    data=trend_df,\n",
    "    x='Month', y='Transaction Amount', hue='Value Segment', marker='o'\n",
    ")\n",
    "\n",
    "# Add titles and labels\n",
    "plt.title('Monthly Revenue Trend by Value Segment', fontsize=14)\n",
    "plt.xlabel('Month', fontsize=12)\n",
    "plt.ylabel('Revenue (Transaction Amount)', fontsize=12)\n",
    "\n",
    "# Improve date readability\n",
    "plt.xticks(rotation=45)\n",
    "plt.tight_layout()\n",
    "\n",
    "# Display the plot\n",
    "plt.show()"
   ]
  },
  {
   "cell_type": "markdown",
   "metadata": {},
   "source": [
    "**Churn Risk and Retention Analysis**\n",
    "\n",
    "*Objective: Evaluate the churn risk for each value segment*"
   ]
  },
  {
   "cell_type": "code",
   "execution_count": 120,
   "metadata": {
    "execution": {
     "iopub.execute_input": "2024-11-27T17:24:26.975934Z",
     "iopub.status.busy": "2024-11-27T17:24:26.975934Z",
     "iopub.status.idle": "2024-11-27T17:24:27.007183Z",
     "shell.execute_reply": "2024-11-27T17:24:27.007183Z"
    }
   },
   "outputs": [
    {
     "data": {
      "text/plain": [
       "Value_segment\n",
       "Low-value     4.854753\n",
       "Mid-value     3.904243\n",
       "High-value    2.243912\n",
       "Name: Recency_log, dtype: float64"
      ]
     },
     "execution_count": 120,
     "metadata": {},
     "output_type": "execute_result"
    }
   ],
   "source": [
    "churn_by_value_segment = rfm_df.groupby('Value_segment')['Recency_log'].mean()  # Longer recency = higher churn risk\n",
    "churn_by_value_segment"
   ]
  },
  {
   "cell_type": "code",
   "execution_count": 121,
   "metadata": {
    "execution": {
     "iopub.execute_input": "2024-11-27T17:24:27.038424Z",
     "iopub.status.busy": "2024-11-27T17:24:27.038424Z",
     "iopub.status.idle": "2024-11-27T17:24:27.309154Z",
     "shell.execute_reply": "2024-11-27T17:24:27.309154Z"
    }
   },
   "outputs": [
    {
     "data": {
      "image/png": "[encoded data removed]",
      "text/plain": [
       "<Figure size 576x360 with 1 Axes>"
      ]
     },
     "metadata": {
      "needs_background": "light"
     },
     "output_type": "display_data"
    }
   ],
   "source": [
    "# Plot a dot plot\n",
    "plt.figure(figsize=(8, 5))\n",
    "plt.scatter(churn_by_value_segment.index, churn_by_value_segment, color=['red', 'orange', 'green'], s=100)\n",
    "\n",
    "# Add labels and title\n",
    "plt.ylabel('Average Recency (Log Scale)', fontsize=12)\n",
    "plt.xlabel('Value Segment', fontsize=12)\n",
    "plt.title('Churn Risk by Value Segment', fontsize=14)\n",
    "\n",
    "# Add values near the dots\n",
    "for index, value in enumerate(churn_by_value_segment):\n",
    "    plt.text(index, value + 0.1, f'{value:.2f}', ha='center', fontsize=10)\n",
    "\n",
    "# Display the chart\n",
    "plt.tight_layout()\n",
    "plt.show()"
   ]
  },
  {
   "cell_type": "markdown",
   "metadata": {},
   "source": [
    "**Cross-Sell and Upsell Potential by Value Segment**\n",
    "\n",
    "*Objective*: Identify potential for cross-selling and upselling within value segments.\n",
    "\n",
    "*Approach*:\n",
    "For each value segment, examine which products are frequently purchased together or which higher-value products can be suggested"
   ]
  },
  {
   "cell_type": "code",
   "execution_count": 87,
   "metadata": {
    "execution": {
     "iopub.execute_input": "2024-11-27T17:24:27.322386Z",
     "iopub.status.busy": "2024-11-27T17:24:27.322386Z",
     "iopub.status.idle": "2024-11-27T17:24:27.431765Z",
     "shell.execute_reply": "2024-11-27T17:24:27.431765Z"
    }
   },
   "outputs": [
    {
     "data": {
      "text/html": [
       "<div>\n",
       "<style scoped>\n",
       "    .dataframe tbody tr th:only-of-type {\n",
       "        vertical-align: middle;\n",
       "    }\n",
       "\n",
       "    .dataframe tbody tr th {\n",
       "        vertical-align: top;\n",
       "    }\n",
       "\n",
       "    .dataframe thead th {\n",
       "        text-align: right;\n",
       "    }\n",
       "</style>\n",
       "<table border=\"1\" class=\"dataframe\">\n",
       "  <thead>\n",
       "    <tr style=\"text-align: right;\">\n",
       "      <th>StockCode</th>\n",
       "      <th>10002</th>\n",
       "      <th>10080</th>\n",
       "      <th>10120</th>\n",
       "      <th>10123C</th>\n",
       "      <th>10124A</th>\n",
       "      <th>10124G</th>\n",
       "      <th>10125</th>\n",
       "      <th>10133</th>\n",
       "      <th>10135</th>\n",
       "      <th>11001</th>\n",
       "      <th>...</th>\n",
       "      <th>90214U</th>\n",
       "      <th>90214V</th>\n",
       "      <th>90214W</th>\n",
       "      <th>90214Y</th>\n",
       "      <th>90214Z</th>\n",
       "      <th>BANK CHARGES</th>\n",
       "      <th>C2</th>\n",
       "      <th>DOT</th>\n",
       "      <th>M</th>\n",
       "      <th>POST</th>\n",
       "    </tr>\n",
       "    <tr>\n",
       "      <th>Value_segment</th>\n",
       "      <th></th>\n",
       "      <th></th>\n",
       "      <th></th>\n",
       "      <th></th>\n",
       "      <th></th>\n",
       "      <th></th>\n",
       "      <th></th>\n",
       "      <th></th>\n",
       "      <th></th>\n",
       "      <th></th>\n",
       "      <th></th>\n",
       "      <th></th>\n",
       "      <th></th>\n",
       "      <th></th>\n",
       "      <th></th>\n",
       "      <th></th>\n",
       "      <th></th>\n",
       "      <th></th>\n",
       "      <th></th>\n",
       "      <th></th>\n",
       "      <th></th>\n",
       "    </tr>\n",
       "  </thead>\n",
       "  <tbody>\n",
       "    <tr>\n",
       "      <th>Low-value</th>\n",
       "      <td>19.55</td>\n",
       "      <td>9.36</td>\n",
       "      <td>3.28</td>\n",
       "      <td>2.60</td>\n",
       "      <td>1.26</td>\n",
       "      <td>0.00</td>\n",
       "      <td>47.30</td>\n",
       "      <td>134.31</td>\n",
       "      <td>408.35</td>\n",
       "      <td>35.49</td>\n",
       "      <td>...</td>\n",
       "      <td>0.00</td>\n",
       "      <td>0.00</td>\n",
       "      <td>0.00</td>\n",
       "      <td>13.92</td>\n",
       "      <td>0.00</td>\n",
       "      <td>30.0</td>\n",
       "      <td>661.0</td>\n",
       "      <td>0.00</td>\n",
       "      <td>1655.12</td>\n",
       "      <td>6805.89</td>\n",
       "    </tr>\n",
       "    <tr>\n",
       "      <th>Mid-value</th>\n",
       "      <td>53.55</td>\n",
       "      <td>11.47</td>\n",
       "      <td>15.85</td>\n",
       "      <td>0.00</td>\n",
       "      <td>1.68</td>\n",
       "      <td>3.78</td>\n",
       "      <td>134.85</td>\n",
       "      <td>349.77</td>\n",
       "      <td>217.55</td>\n",
       "      <td>576.29</td>\n",
       "      <td>...</td>\n",
       "      <td>3.48</td>\n",
       "      <td>3.48</td>\n",
       "      <td>3.48</td>\n",
       "      <td>3.48</td>\n",
       "      <td>3.48</td>\n",
       "      <td>30.0</td>\n",
       "      <td>800.0</td>\n",
       "      <td>0.00</td>\n",
       "      <td>2206.93</td>\n",
       "      <td>14762.61</td>\n",
       "    </tr>\n",
       "    <tr>\n",
       "      <th>High-value</th>\n",
       "      <td>626.45</td>\n",
       "      <td>93.90</td>\n",
       "      <td>24.30</td>\n",
       "      <td>0.65</td>\n",
       "      <td>3.91</td>\n",
       "      <td>3.36</td>\n",
       "      <td>747.30</td>\n",
       "      <td>655.17</td>\n",
       "      <td>1149.81</td>\n",
       "      <td>1057.06</td>\n",
       "      <td>...</td>\n",
       "      <td>0.00</td>\n",
       "      <td>2.50</td>\n",
       "      <td>0.00</td>\n",
       "      <td>1.25</td>\n",
       "      <td>0.00</td>\n",
       "      <td>105.0</td>\n",
       "      <td>5225.0</td>\n",
       "      <td>2568.61</td>\n",
       "      <td>8876.95</td>\n",
       "      <td>44578.85</td>\n",
       "    </tr>\n",
       "  </tbody>\n",
       "</table>\n",
       "<p>3 rows × 3664 columns</p>\n",
       "</div>"
      ],
      "text/plain": [
       "StockCode       10002  10080  10120  10123C  10124A  10124G   10125   10133  \\\n",
       "Value_segment                                                                 \n",
       "Low-value       19.55   9.36   3.28    2.60    1.26    0.00   47.30  134.31   \n",
       "Mid-value       53.55  11.47  15.85    0.00    1.68    3.78  134.85  349.77   \n",
       "High-value     626.45  93.90  24.30    0.65    3.91    3.36  747.30  655.17   \n",
       "\n",
       "StockCode        10135    11001  ...  90214U  90214V  90214W  90214Y  90214Z  \\\n",
       "Value_segment                    ...                                           \n",
       "Low-value       408.35    35.49  ...    0.00    0.00    0.00   13.92    0.00   \n",
       "Mid-value       217.55   576.29  ...    3.48    3.48    3.48    3.48    3.48   \n",
       "High-value     1149.81  1057.06  ...    0.00    2.50    0.00    1.25    0.00   \n",
       "\n",
       "StockCode      BANK CHARGES      C2      DOT        M      POST  \n",
       "Value_segment                                                    \n",
       "Low-value              30.0   661.0     0.00  1655.12   6805.89  \n",
       "Mid-value              30.0   800.0     0.00  2206.93  14762.61  \n",
       "High-value            105.0  5225.0  2568.61  8876.95  44578.85  \n",
       "\n",
       "[3 rows x 3664 columns]"
      ]
     },
     "execution_count": 87,
     "metadata": {},
     "output_type": "execute_result"
    }
   ],
   "source": [
    "cross_sell_potential = rfm_df.groupby(['Value_segment', 'StockCode'])['TransactionAmount'].sum().unstack()\n",
    "cross_sell_potential"
   ]
  },
  {
   "cell_type": "code",
   "execution_count": 88,
   "metadata": {
    "execution": {
     "iopub.execute_input": "2024-11-27T17:24:27.431765Z",
     "iopub.status.busy": "2024-11-27T17:24:27.431765Z",
     "iopub.status.idle": "2024-11-27T17:24:28.394940Z",
     "shell.execute_reply": "2024-11-27T17:24:28.395941Z"
    }
   },
   "outputs": [
    {
     "data": {
      "image/png": "[encoded data removed]",
      "text/plain": [
       "<Figure size 720x432 with 1 Axes>"
      ]
     },
     "metadata": {
      "needs_background": "light"
     },
     "output_type": "display_data"
    }
   ],
   "source": [
    "# Aggregate top 10 products by value segment\n",
    "top_products_by_segment = cross_sell_potential.sum(axis=1).nlargest(10)\n",
    "\n",
    "plt.figure(figsize=(10, 6))\n",
    "for segment in cross_sell_potential.index:\n",
    "    top_products = cross_sell_potential.loc[segment].nlargest(10)  # Top 10 products for the segment\n",
    "    plt.barh(top_products.index, top_products.values, label=segment)\n",
    "\n",
    "# Add labels and legend\n",
    "plt.xlabel('Transaction Amount', fontsize=12)\n",
    "plt.ylabel('Product (StockCode)', fontsize=12)\n",
    "plt.title('Top 10 Products by Value Segment', fontsize=14)\n",
    "plt.legend(title=\"Value Segment\", loc='upper right')\n",
    "plt.tight_layout()\n",
    "\n",
    "# Show the plot\n",
    "plt.show()"
   ]
  },
  {
   "cell_type": "markdown",
   "metadata": {},
   "source": [
    "**Geographic and Demographic Insights by Value Segment**\n",
    "\n",
    "*Objective:* \n",
    "\n",
    "Examine how location (Country) and demographic factors (e.g., age, gender, etc.) influence the purchasing behavior of each value segment.\n",
    "\n",
    "*Approach:*\n",
    "\n",
    "Look at the geographical distribution of each segment.\n",
    "For example, VIP customers may be more concentrated in certain regions or countries."
   ]
  },
  {
   "cell_type": "code",
   "execution_count": 89,
   "metadata": {
    "execution": {
     "iopub.execute_input": "2024-11-27T17:24:28.427224Z",
     "iopub.status.busy": "2024-11-27T17:24:28.425063Z",
     "iopub.status.idle": "2024-11-27T17:24:28.496527Z",
     "shell.execute_reply": "2024-11-27T17:24:28.497525Z"
    }
   },
   "outputs": [
    {
     "data": {
      "text/html": [
       "<div>\n",
       "<style scoped>\n",
       "    .dataframe tbody tr th:only-of-type {\n",
       "        vertical-align: middle;\n",
       "    }\n",
       "\n",
       "    .dataframe tbody tr th {\n",
       "        vertical-align: top;\n",
       "    }\n",
       "\n",
       "    .dataframe thead th {\n",
       "        text-align: right;\n",
       "    }\n",
       "</style>\n",
       "<table border=\"1\" class=\"dataframe\">\n",
       "  <thead>\n",
       "    <tr style=\"text-align: right;\">\n",
       "      <th>Value_segment</th>\n",
       "      <th>Low-value</th>\n",
       "      <th>Mid-value</th>\n",
       "      <th>High-value</th>\n",
       "    </tr>\n",
       "    <tr>\n",
       "      <th>Country</th>\n",
       "      <th></th>\n",
       "      <th></th>\n",
       "      <th></th>\n",
       "    </tr>\n",
       "  </thead>\n",
       "  <tbody>\n",
       "    <tr>\n",
       "      <th>Australia</th>\n",
       "      <td>1208.04</td>\n",
       "      <td>4000.93</td>\n",
       "      <td>96477.16</td>\n",
       "    </tr>\n",
       "    <tr>\n",
       "      <th>Austria</th>\n",
       "      <td>2987.98</td>\n",
       "      <td>6141.28</td>\n",
       "      <td>715.18</td>\n",
       "    </tr>\n",
       "    <tr>\n",
       "      <th>Bahrain</th>\n",
       "      <td>548.40</td>\n",
       "      <td>0.00</td>\n",
       "      <td>0.00</td>\n",
       "    </tr>\n",
       "    <tr>\n",
       "      <th>Belgium</th>\n",
       "      <td>2937.49</td>\n",
       "      <td>11763.30</td>\n",
       "      <td>26495.55</td>\n",
       "    </tr>\n",
       "    <tr>\n",
       "      <th>Brazil</th>\n",
       "      <td>1143.60</td>\n",
       "      <td>0.00</td>\n",
       "      <td>0.00</td>\n",
       "    </tr>\n",
       "  </tbody>\n",
       "</table>\n",
       "</div>"
      ],
      "text/plain": [
       "Value_segment  Low-value  Mid-value  High-value\n",
       "Country                                        \n",
       "Australia        1208.04    4000.93    96477.16\n",
       "Austria          2987.98    6141.28      715.18\n",
       "Bahrain           548.40       0.00        0.00\n",
       "Belgium          2937.49   11763.30    26495.55\n",
       "Brazil           1143.60       0.00        0.00"
      ]
     },
     "execution_count": 89,
     "metadata": {},
     "output_type": "execute_result"
    }
   ],
   "source": [
    "geographic_by_segment = rfm_df.groupby(['Country', 'Value_segment'])['TransactionAmount'].sum().unstack()\n",
    "geographic_by_segment.head()"
   ]
  },
  {
   "cell_type": "code",
   "execution_count": 90,
   "metadata": {
    "execution": {
     "iopub.execute_input": "2024-11-27T17:24:28.562398Z",
     "iopub.status.busy": "2024-11-27T17:24:28.561399Z",
     "iopub.status.idle": "2024-11-27T17:24:29.175813Z",
     "shell.execute_reply": "2024-11-27T17:24:29.175813Z"
    }
   },
   "outputs": [
    {
     "data": {
      "image/png": "[encoded data removed]",
      "text/plain": [
       "<Figure size 864x576 with 1 Axes>"
      ]
     },
     "metadata": {
      "needs_background": "light"
     },
     "output_type": "display_data"
    }
   ],
   "source": [
    "# Select top 10 countries\n",
    "top_countries = geographic_by_segment.sum(axis=1).nlargest(10).index\n",
    "stacked_data = geographic_by_segment.loc[top_countries]\n",
    "\n",
    "# Plot a stacked bar chart\n",
    "stacked_data.plot(kind='barh', stacked=True, figsize=(12, 8), colormap='viridis')\n",
    "\n",
    "# Add labels and title\n",
    "plt.xlabel('Total Revenue', fontsize=12)\n",
    "plt.ylabel('Country', fontsize=12)\n",
    "plt.title('Top 10 Countries by Revenue and Value Segment', fontsize=14)\n",
    "plt.legend(title='Value Segment', bbox_to_anchor=(1.05, 1), loc='upper left')\n",
    "plt.tight_layout()\n",
    "\n",
    "# Show the chart\n",
    "plt.show()"
   ]
  },
  {
   "cell_type": "markdown",
   "metadata": {},
   "source": [
    "9. **Marketing Effectiveness by Segment**\n",
    "\n",
    "*Objective:* \n",
    "\n",
    "Evaluate how effective different marketing campaigns are for each segment.\n",
    "\n",
    "*Approach*:\n",
    "\n",
    "Compare conversion rates, response to promotions, and discount redemption rates across value segments.\n",
    "Flow to Next: Allows the retailer to refine their marketing strategies for each value segment based on the campaign's performance."
   ]
  },
  {
   "cell_type": "markdown",
   "metadata": {},
   "source": [
    "### **Analyze Value Segments Over Time**"
   ]
  },
  {
   "cell_type": "code",
   "execution_count": 124,
   "metadata": {},
   "outputs": [
    {
     "data": {
      "text/html": [
       "<div>\n",
       "<style scoped>\n",
       "    .dataframe tbody tr th:only-of-type {\n",
       "        vertical-align: middle;\n",
       "    }\n",
       "\n",
       "    .dataframe tbody tr th {\n",
       "        vertical-align: top;\n",
       "    }\n",
       "\n",
       "    .dataframe thead th {\n",
       "        text-align: right;\n",
       "    }\n",
       "</style>\n",
       "<table border=\"1\" class=\"dataframe\">\n",
       "  <thead>\n",
       "    <tr style=\"text-align: right;\">\n",
       "      <th></th>\n",
       "      <th>YearMonth</th>\n",
       "      <th>Value_segment</th>\n",
       "      <th>Recency_log</th>\n",
       "      <th>Frequency_log</th>\n",
       "      <th>Monetary_log</th>\n",
       "    </tr>\n",
       "  </thead>\n",
       "  <tbody>\n",
       "    <tr>\n",
       "      <th>0</th>\n",
       "      <td>2010-12</td>\n",
       "      <td>Low-value</td>\n",
       "      <td>5.740127</td>\n",
       "      <td>0.858693</td>\n",
       "      <td>5.753512</td>\n",
       "    </tr>\n",
       "    <tr>\n",
       "      <th>1</th>\n",
       "      <td>2010-12</td>\n",
       "      <td>Mid-value</td>\n",
       "      <td>4.487289</td>\n",
       "      <td>1.626313</td>\n",
       "      <td>6.965048</td>\n",
       "    </tr>\n",
       "    <tr>\n",
       "      <th>2</th>\n",
       "      <td>2010-12</td>\n",
       "      <td>High-value</td>\n",
       "      <td>2.232065</td>\n",
       "      <td>2.775294</td>\n",
       "      <td>8.589253</td>\n",
       "    </tr>\n",
       "    <tr>\n",
       "      <th>3</th>\n",
       "      <td>2011-01</td>\n",
       "      <td>Low-value</td>\n",
       "      <td>5.643368</td>\n",
       "      <td>0.852034</td>\n",
       "      <td>6.148109</td>\n",
       "    </tr>\n",
       "    <tr>\n",
       "      <th>4</th>\n",
       "      <td>2011-01</td>\n",
       "      <td>Mid-value</td>\n",
       "      <td>4.459192</td>\n",
       "      <td>1.553736</td>\n",
       "      <td>7.069251</td>\n",
       "    </tr>\n",
       "  </tbody>\n",
       "</table>\n",
       "</div>"
      ],
      "text/plain": [
       "  YearMonth Value_segment  Recency_log  Frequency_log  Monetary_log\n",
       "0   2010-12     Low-value     5.740127       0.858693      5.753512\n",
       "1   2010-12     Mid-value     4.487289       1.626313      6.965048\n",
       "2   2010-12    High-value     2.232065       2.775294      8.589253\n",
       "3   2011-01     Low-value     5.643368       0.852034      6.148109\n",
       "4   2011-01     Mid-value     4.459192       1.553736      7.069251"
      ]
     },
     "execution_count": 124,
     "metadata": {},
     "output_type": "execute_result"
    }
   ],
   "source": [
    "# Extract year and month for analysis\n",
    "rfm_df.index = pd.to_datetime(rfm_df.index) # since rfm_df has InvoiceDate as the index \n",
    "rfm_df['YearMonth'] = rfm_df.index.to_period('M')\n",
    "rfm_df[['YearMonth']].head()\n",
    "\n",
    "# Aggregate RFM metrics by time\n",
    "rfm_trends = rfm_df.groupby(['YearMonth', 'Value_segment'])[['Recency_log', 'Frequency_log', 'Monetary_log']].mean().reset_index()\n",
    "\n",
    "rfm_trends.head()"
   ]
  },
  {
   "cell_type": "code",
   "execution_count": 125,
   "metadata": {},
   "outputs": [
    {
     "data": {
      "image/png": "[encoded data removed]",
      "text/plain": [
       "<Figure size 1296x360 with 3 Axes>"
      ]
     },
     "metadata": {
      "needs_background": "light"
     },
     "output_type": "display_data"
    }
   ],
   "source": [
    "# Convert YearMonth to string for plotting\n",
    "rfm_trends['YearMonth'] = rfm_trends['YearMonth'].astype(str)\n",
    "# Plot trends for each metric\n",
    "metrics =['Recency_log', 'Frequency_log', 'Monetary_log']\n",
    "\n",
    "fig, axes = plt.subplots(1, 3, figsize=(18, 5))\n",
    "\n",
    "for i, metric in enumerate(metrics):\n",
    "    sns.lineplot(data=rfm_trends, x='YearMonth', y=metric, hue='Value_segment', ax=axes[i])\n",
    "    axes[i].set_title(f'{metric} Trends Over Time')\n",
    "    axes[i].set_xlabel('Time')\n",
    "    axes[i].set_ylabel(metric)\n",
    "    axes[i].tick_params(axis='x', rotation=45)\n",
    "\n",
    "plt.tight_layout()\n",
    "plt.show()"
   ]
  },
  {
   "cell_type": "markdown",
   "metadata": {},
   "source": [
    "**Analyze Customer Value-Segment Transitions Over Time**"
   ]
  },
  {
   "cell_type": "code",
   "execution_count": 110,
   "metadata": {},
   "outputs": [
    {
     "data": {
      "image/png": "[encoded data removed]",
      "text/plain": [
       "<Figure size 576x432 with 2 Axes>"
      ]
     },
     "metadata": {
      "needs_background": "light"
     },
     "output_type": "display_data"
    }
   ],
   "source": [
    "# Create snapshots for two time periods\n",
    "snapshot_1 = rfm_df[rfm_df['YearMonth'] == '2010-12'][['CustomerID', 'Value_segment']].rename(columns={'Value_segment': 'Segment_Dec'})\n",
    "snapshot_2 = rfm_df[rfm_df['YearMonth'] == '2011-06'][['CustomerID', 'Value_segment']].rename(columns={'Value_segment': 'Segment_Feb'})\n",
    "\n",
    "# Merge snapshots to observe transitions\n",
    "transitions = snapshot_1.merge(snapshot_2, on='CustomerID', how='inner')\n",
    "\n",
    "# Generate transition matrix\n",
    "transition_matrix = pd.crosstab(transitions['Segment_Dec'], transitions['Segment_Feb'], normalize='index') * 100\n",
    "\n",
    "# Visualize the transition matrix\n",
    "plt.figure(figsize=(8, 6))\n",
    "sns.heatmap(transition_matrix, annot=True, fmt=\".2f\", cmap=\"coolwarm\")\n",
    "plt.title('Value Segment Transition Matrix (%)')\n",
    "plt.xlabel('Dec Segments')\n",
    "plt.ylabel('Feb Segments')\n",
    "plt.show()\n"
   ]
  },
  {
   "cell_type": "markdown",
   "metadata": {},
   "source": [
    "**Analyzing Proportion of Each Segment Over Time**"
   ]
  },
  {
   "cell_type": "code",
   "execution_count": null,
   "metadata": {},
   "outputs": [
    {
     "data": {
      "image/png": "[encoded data removed]",
      "text/plain": [
       "<Figure size 864x432 with 1 Axes>"
      ]
     },
     "metadata": {
      "needs_background": "light"
     },
     "output_type": "display_data"
    }
   ],
   "source": [
    "# Converting period column to string for plotting\n",
    "rfm_df['YearMonth'] = rfm_df['YearMonth'].astype(str)\n",
    "# Create a crosstab of Value_segment by YearMonth\n",
    "value_segment_crosstab = pd.crosstab(\n",
    "    rfm_df['YearMonth'], \n",
    "    rfm_df['Value_segment'], \n",
    "    normalize='index'  # Normalize within each time period (row-wise)\n",
    ").mul(100)  # Convert proportions to percentages\n",
    "\n",
    "# Reset index for plotting\n",
    "value_segment_crosstab = value_segment_crosstab.reset_index()\n",
    "\n",
    "# Melt the DataFrame for Seaborn compatibility\n",
    "segment_distribution = value_segment_crosstab.melt(\n",
    "    id_vars='YearMonth', \n",
    "    var_name='Value_segment', \n",
    "    value_name='Percentage'\n",
    ")\n",
    "\n",
    "# Plot the segment distribution over time\n",
    "plt.figure(figsize=(12, 6))\n",
    "sns.lineplot(\n",
    "    data=segment_distribution, \n",
    "    x='YearMonth', y='Percentage', hue='Value_segment', marker='o'\n",
    ")\n",
    "plt.title('Value Segment Distribution Over Time')\n",
    "plt.xlabel('Time')\n",
    "plt.ylabel('Percentage of Customers')\n",
    "plt.xticks(rotation=45)\n",
    "plt.show()"
   ]
  },
  {
   "cell_type": "markdown",
   "metadata": {},
   "source": [
    "10. **Final Recommendations for Action**\n",
    "\n",
    "*Objective:* \n",
    "\n",
    "Provide actionable insights based on the combined analysis.\n",
    "\n",
    "*Approach:*\n",
    "\n",
    "Use the findings to create a segment-based marketing strategy, targeting each value segment with appropriate strategies like loyalty rewards, re-engagement campaigns, or personalized offers.\n",
    "Flow to Next: This can result in ongoing tracking of performance, where you'll reanalyze your value segments periodically to refine strategies."
   ]
  },
  {
   "cell_type": "code",
   "execution_count": null,
   "metadata": {},
   "outputs": [],
   "source": []
  }
 ],
 "metadata": {
  "kernelspec": {
   "display_name": "learn-env",
   "language": "python",
   "name": "python3"
  },
  "language_info": {
   "codemirror_mode": {
    "name": "ipython",
    "version": 3
   },
   "file_extension": ".py",
   "mimetype": "text/x-python",
   "name": "python",
   "nbconvert_exporter": "python",
   "pygments_lexer": "ipython3",
   "version": "3.8.5"
  }
 },
 "nbformat": 4,
 "nbformat_minor": 2
}
